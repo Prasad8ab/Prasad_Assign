{
 "cells": [
  {
   "cell_type": "markdown",
   "id": "db34f633",
   "metadata": {},
   "source": [
    "Q1. What is a probability distribution, exactly? If the values are meant to be random, how can you predict them at all?\n",
    "\n",
    "A probability distribution is a function that describes the likelihood of different outcomes in an experiment. It is a mathematical model that tells us how probable different values are in a set of data. For example, the probability distribution of a coin toss is:\n",
    "\n",
    "P(heads) = 0.5\n",
    "P(tails) = 0.5\n",
    "\n",
    "This means that there is a 50% chance of getting heads and a 50% chance of getting tails.\n",
    "\n",
    "The values in a probability distribution are not random. They are determined by the underlying probability model. However, the order in which the values are generated is random. For example, if we toss a coin 10 times, we might get heads 6 times and tails 4 times. This is a random outcome, but it is still consistent with the probability distribution of a coin toss.\n",
    "\n",
    "Q2. Is there a distinction between true random numbers and pseudo-random numbers, if there is one? Why are the latter considered “good enough”?\n",
    "\n",
    "Yes, there is a distinction between true random numbers and pseudo-random numbers. True random numbers are generated from a physical process that is truly random, such as the decay of radioactive particles. Pseudo-random numbers are generated using a mathematical algorithm that produces a sequence of numbers that appears random.\n",
    "\n",
    "Pseudo-random numbers are considered \"good enough\" for most applications because they are very close to true random numbers. In most cases, the difference is not noticeable. However, there are some applications where true random numbers are essential, such as cryptography.\n",
    "\n",
    "Q3. What are the two main factors that influence the behaviour of a \"normal\" probability distribution?\n",
    "\n",
    "The two main factors that influence the behavior of a normal probability distribution are the mean and the standard deviation. The mean is the average value of the distribution. The standard deviation is a measure of how spread out the distribution is.\n",
    "\n",
    "A normal distribution with a large mean and a small standard deviation will have a tall, narrow peak. A normal distribution with a small mean and a large standard deviation will have a short, wide peak.\n",
    "\n",
    "Q4. Provide a real-life example of a normal distribution.\n",
    "\n",
    "One real-life example of a normal distribution is the distribution of heights in a population. The average height of a population is the mean of the distribution. The standard deviation is a measure of how much variation there is in heights.\n",
    "\n",
    "Most people in the population will have heights that are close to the mean. A few people will be much taller or shorter than the mean. This is because of the random variation that occurs in the genetic factors that determine height.\n",
    "\n",
    "Q5. In the short term, how can you expect a probability distribution to behave? What do you think will happen as the number of trials grows?\n",
    "\n",
    "In the short term, the behavior of a probability distribution can be quite unpredictable. The outcome of any individual trial is random. However, as the number of trials grows, the distribution will start to behave more predictably.\n",
    "\n",
    "The law of large numbers states that as the number of trials grows, the average outcome of the trials will get closer and closer to the mean of the distribution. The standard deviation of the distribution will also decrease.\n",
    "\n",
    "This means that in the long term, we can expect a probability distribution to behave in a predictable way. The average outcome of the trials will be close to the mean, and the variation in the outcomes will be small.\n",
    "\n",
    "Q6. What kind of object can be shuffled by using random.shuffle?\n",
    "\n",
    "The random.shuffle() function can be used to shuffle any sequence of objects. This includes lists, tuples, and strings.\n",
    "\n",
    "Q7. Describe the math package's general categories of functions.\n",
    "\n",
    "The math package in Python contains functions for a wide range of mathematical operations. These functions can be divided into the following general categories:\n",
    "\n",
    "Arithmetic functions: These functions perform basic arithmetic operations, such as addition, subtraction, multiplication, and division.\n",
    "Trigonometric functions: These functions calculate trigonometric values, such as sine, cosine, and tangent.\n",
    "Hyperbolic functions: These functions calculate hyperbolic values, such as sinh, cosh, and tanh.\n",
    "Exponential and logarithmic functions: These functions calculate exponential and logarithmic values, such as exp, log, and pow.\n",
    "Special functions: These functions calculate special mathematical values, such as pi, e, and gamma.\n",
    "Constants: These functions provide access to mathematical constants, such as pi and e.\n",
    "\n",
    "Q8. What is the relationship between exponentiation and logarithms?\n",
    "Exponentiation and logarithms are inverse operations. This means that the logarithm of a number raised to a power is equal to the power. For example, the logarithm of 100 to the power of 2 is equal to 2.\n",
    "\n",
    "Q9. What are the three logarithmic functions that Python supports?\n",
    "Python supports three logarithmic functions:\n",
    "\n",
    "The natural logarithm, which is denoted by the function math.log().\n",
    "The common logarithm, which is denoted by the function math.log10().\n",
    "The base-2 logarithm, which is denoted by the function math.log2().\n",
    "The natural logarithm is the logarithm to the base of the mathematical constant e. The common logarithm is the logarithm to the base of 10. The base-2 logarithm is the logarithm to the base of 2.\n",
    "\n",
    "These three logarithm functions can be used to calculate the logarithms of any number. For example, the following code will calculate the natural logarithm, the common logarithm, and the base-2 logarithm of the number 100\n",
    "\n"
   ]
  },
  {
   "cell_type": "code",
   "execution_count": 1,
   "id": "7af2f9a0",
   "metadata": {},
   "outputs": [
    {
     "name": "stdout",
     "output_type": "stream",
     "text": [
      "4.605170185988092\n",
      "2.0\n",
      "6.643856189774724\n"
     ]
    }
   ],
   "source": [
    "import math\n",
    "\n",
    "print(math.log(100))\n",
    "print(math.log10(100))\n",
    "print(math.log2(100))\n"
   ]
  },
  {
   "cell_type": "code",
   "execution_count": null,
   "id": "4a529af9",
   "metadata": {},
   "outputs": [],
   "source": []
  }
 ],
 "metadata": {
  "kernelspec": {
   "display_name": "Python 3 (ipykernel)",
   "language": "python",
   "name": "python3"
  },
  "language_info": {
   "codemirror_mode": {
    "name": "ipython",
    "version": 3
   },
   "file_extension": ".py",
   "mimetype": "text/x-python",
   "name": "python",
   "nbconvert_exporter": "python",
   "pygments_lexer": "ipython3",
   "version": "3.9.12"
  }
 },
 "nbformat": 4,
 "nbformat_minor": 5
}
