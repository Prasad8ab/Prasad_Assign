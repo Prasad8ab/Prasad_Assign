{
 "cells": [
  {
   "cell_type": "markdown",
   "id": "545bd669",
   "metadata": {},
   "source": [
    "1. What does RGBA stand for?\n",
    "Ans:\n",
    "\n",
    "RGBA stands for Red, Green, Blue, and Alpha. It is a color model that is used to represent colors on computers. RGBA colors are composed of four channels, where each channel is represented by 8 bits. In RGBA, the red, green, and blue channels represent the color of the pixel, and the alpha channel represents the opacity of the pixel.\n",
    "\n",
    "The alpha channel can be used to create transparent or semi-transparent pixels. For example, an RGBA color with a red value of 255, a green value of 0, a blue value of 0, and an alpha value of 127 would be a fully opaque pixel with a red tint. An RGBA color with the same red, green, and blue values, but an alpha value of 0, would be a fully transparent pixel.\n"
   ]
  },
  {
   "cell_type": "markdown",
   "id": "c50c99dc",
   "metadata": {},
   "source": [
    "2. From the Pillow module, how do you get the RGBA value of any images?\n",
    "Ans:\n",
    "\n",
    "To get the RGBA value of any images from the Pillow module, you can use the following steps:\n",
    "\n",
    "Import the Pillow module.\n",
    "Open the image file using the Image.open() method.\n",
    "Get the image data using the getdata() method.\n",
    "Convert the image data to a list of tuples using the list() method.\n",
    "Each tuple in the list will contain the red, green, blue, and alpha values for a pixel.\n",
    "\n",
    "\n",
    "For Eg.\n",
    "\n",
    "import PIL.Image as Image\n",
    "\n",
    "image = Image.open(image.png)\n",
    "\n",
    "image_data = image.getdata()\n",
    "\n",
    "rgba_vales = list(image_data)\n",
    "\n",
    "for i in rgba_values:\n",
    "    print(rgba_value)\n"
   ]
  },
  {
   "cell_type": "markdown",
   "id": "68cf3881",
   "metadata": {},
   "source": [
    "3. What is a box tuple, and how does it work?\n",
    "Ans:\n",
    "\n",
    "A box tuple is a data structure in Tarantool that is used to store a set of related values. Tuples are immutable, meaning that they cannot be changed once they are created. Each tuple has a fixed number of fields, and each field can contain a different type of data.\n",
    "To create a tuple, you use the box.tuple.new() function. This function takes a list of values as its argument, and each value is stored in a separate field in the tuple. For example, the following code creates a tuple with three fields:\n",
    "\n",
    "\n",
    "\n",
    "For Ex.\n",
    "\n",
    "\n",
    "local tuple = box.tuple.new({1, \"two\", 3.14})\n",
    "\n",
    "\n"
   ]
  },
  {
   "cell_type": "markdown",
   "id": "ee9144a5",
   "metadata": {},
   "source": [
    "4. Use your image and load in notebook then, How can you find out the width and height of an Image object?\n",
    "Ans:\n",
    "The steps on how to find out the width and height of an Image object:\n",
    "•\tImport the necessary libraries.\n",
    "•\tLoad the image into an Image object.\n",
    "•\tUse the width and height properties of the Image object to get the width and height of the image, respectively.\n",
    "\n",
    "\n",
    "For Eg:\n",
    "\n",
    "import cv2\n",
    "# Load the image into an Image object.\n",
    "image = cv2.imread('image.jpg')\n",
    "\n",
    "# Get the width and height of the image.\n",
    "width = image.shape[1]\n",
    "height = image.shape[0]\n",
    "\n",
    "# Print the width and height of the image.\n",
    "print(width, height)\n"
   ]
  },
  {
   "cell_type": "markdown",
   "id": "37908f9d",
   "metadata": {},
   "source": [
    "5. What method would you call to get Image object for a 100×100 image, excluding the lower-left quarter of it?\n",
    "Ans:\n",
    "import cv2\n",
    "\n",
    "# Load the image into an Image object.\n",
    "image = cv2.imread('image.jpg')\n",
    "\n",
    "# Crop the image to exclude the lower-left quarter.\n",
    "cropped_image = image[25:75, 25:75]\n",
    "\n",
    "# Save the cropped image.\n",
    "cv2.imwrite('cropped_image.jpg', cropped_image)\n"
   ]
  },
  {
   "cell_type": "markdown",
   "id": "36f723ea",
   "metadata": {},
   "source": [
    "6. After making changes to an Image object, how could you save it as an image file?\n",
    "Ans:\n",
    "import cv2\n",
    "\n",
    "# Load the image into an Image object.\n",
    "image = cv2.imread('image.jpg')\n",
    "\n",
    "# Make changes to the image.\n",
    "# ...\n",
    "\n",
    "# Save the image.\n",
    "cv2.imwrite('new_image.jpg', image)\n"
   ]
  },
  {
   "cell_type": "markdown",
   "id": "25195212",
   "metadata": {},
   "source": [
    "7. What module contains Pillow’s shape-drawing code?\n",
    "Ans:\n",
    "\n",
    "The Pillow module contains Pillow's shape-drawing code in the ImageDraw module. The ImageDraw module provides a variety of methods to draw shapes on images. With the help of this module, we can draw lines, circles, rectangles and, even write and format text on an image.\n",
    "\n",
    "Here are some of the methods provided by the ImageDraw module:\n",
    "\n",
    "•\tline(): This method draws a line on the image.\n",
    "•\trectangle(): This method draws a rectangle on the image.\n",
    "•\tcircle(): This method draws a circle on the image.\n",
    "•\tellipse(): This method draws an ellipse on the image.\n",
    "•\tpolygon(): This method draws a polygon on the image.\n",
    "•\ttext(): This method draws text on the image.\n",
    "\n",
    "\n"
   ]
  },
  {
   "cell_type": "markdown",
   "id": "9c456d11",
   "metadata": {},
   "source": [
    "8. Image objects do not have drawing methods. What kind of object does? How do you get this kind of object?\n",
    "Ans:\n",
    "Image objects do not have drawing methods because they are not designed to be used for drawing. Image objects are designed to store and represent images. To draw on an image, you need to use an ImageDraw object. ImageDraw objects are designed to be used for drawing on images.\n",
    "To get an ImageDraw object, you can use the ImageDraw.new() method. The ImageDraw.new() method takes two arguments: the first argument is the image object on which you want to draw, and the second argument is the drawing mode. The drawing mode can be either \"RGB\" or \"RGBA\".\n",
    "\n",
    "import Image, ImageDraw\n",
    "# Load the image.\n",
    "image = Image.open('image.png')\n",
    "# Create an ImageDraw object.\n",
    "draw = ImageDraw.new(image, 'RGB')"
   ]
  },
  {
   "cell_type": "code",
   "execution_count": null,
   "id": "89fd372b",
   "metadata": {},
   "outputs": [],
   "source": []
  }
 ],
 "metadata": {
  "kernelspec": {
   "display_name": "Python 3 (ipykernel)",
   "language": "python",
   "name": "python3"
  },
  "language_info": {
   "codemirror_mode": {
    "name": "ipython",
    "version": 3
   },
   "file_extension": ".py",
   "mimetype": "text/x-python",
   "name": "python",
   "nbconvert_exporter": "python",
   "pygments_lexer": "ipython3",
   "version": "3.9.12"
  }
 },
 "nbformat": 4,
 "nbformat_minor": 5
}
