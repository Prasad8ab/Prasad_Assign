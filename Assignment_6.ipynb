{
 "cells": [
  {
   "cell_type": "markdown",
   "id": "9baac888",
   "metadata": {},
   "source": [
    "1. Escape characters are special characters that allow you to include characters in a string that would otherwise be difficult or impossible to type or display.\n",
    "Ans: \n",
    "\n",
    "Escape characters are special characters that allow to include characters in a string that would otherwise be difficult to code or display. Usually represnted by backlash \"\\\" folloed by another character. \n",
    "    For Example: \\n: represents a newline character, which is used to start a new line"
   ]
  },
  {
   "cell_type": "markdown",
   "id": "1b09d9eb",
   "metadata": {},
   "source": [
    "2. What do the escape characters n and t stand for?\n",
    "Ans: \n",
    "\n",
    "\\n: represents a newline character, which is used to start a new line\n",
    "\\t: represents a tab character, which is used to create a horizontal tab\n"
   ]
  },
  {
   "cell_type": "markdown",
   "id": "e21d48c7",
   "metadata": {},
   "source": [
    "3. What is the way to include backslash characters in a string?\n",
    "Ans: \n",
    "\n",
    "To include a backslash character in a string, you need to use an escape character. In most programming languages, the backslash character itself is used as the escape character"
   ]
  },
  {
   "cell_type": "markdown",
   "id": "9beb28ce",
   "metadata": {},
   "source": [
    "4. The string \"Howl's Moving Castle\" is a correct value. Why isn't the single quote character in the word Howl's not escaped a problem?\n",
    "Ans: \n",
    "\n",
    "There are several ways to represent strings, including using single quotes (' '), double quotes (\" \"). When a string is enclosed in quotes, the interpreter treats everything between the quotes as a string literal, including any special characters or escape sequences.The string \"Howl's Moving Castle\" is a valid string literal in Python because the single quote within the string is not treated as an end quote, but rather as a literal character that is part of the string itself."
   ]
  },
  {
   "cell_type": "markdown",
   "id": "cd5eb1ed",
   "metadata": {},
   "source": [
    "5. How do you write a string of newlines if you don't want to use the n character?\n",
    "\n",
    "Ans: \n",
    "\n",
    "1.Multi-line string: You can create a multi-line string by enclosing the string in triple quotes (''' '''). This allows you to write each line of the string on a separate line in your code\n",
    "2. Concatenation: You can concatenate multiple strings together, with each string representing a separate line of text. \n",
    "\n",
    "    Eg: my_string = '''This is a\n",
    "multi-line\n",
    "string.'''\n",
    "\n",
    "Eg: my_string = \"This is a \" + \"string \" + \"with multiple \" + \"lines.\"\n"
   ]
  },
  {
   "cell_type": "markdown",
   "id": "04a800b4",
   "metadata": {},
   "source": [
    "6. What are the values of the given expressions?\n",
    "Ans: \n",
    "\n",
    "'Hello, world!'[1] -> e\n",
    "\n",
    "'Hello, world!'[0:5] -> Hello\n",
    "\n",
    "'Hello, world!'[:5] -> Hello\n",
    "\n",
    "'Hello, world!'[3:] -> lo, world\n"
   ]
  },
  {
   "cell_type": "markdown",
   "id": "ad6aca69",
   "metadata": {},
   "source": [
    "7. What are the values of the following expressions?\n",
    "Ans : \n",
    "\n",
    "'Hello'.upper() -> HELLO\n",
    "\n",
    "'Hello'.upper().isupper() -> True\n",
    "\n",
    "'Hello'.upper().lower() -> hello\n"
   ]
  },
  {
   "cell_type": "markdown",
   "id": "ea6a361e",
   "metadata": {},
   "source": [
    "8. What are the values of the following expressions?\n",
    "Ans: \n",
    "\n",
    "'Remember, remember, the fifth of July.'.split() -> ['Remember,', 'remember,', 'the', 'fifth', 'of', 'July.']\n",
    "\n",
    "'-'.join('There can only one.'.split()) -> There-can-only-one.\n"
   ]
  },
  {
   "cell_type": "markdown",
   "id": "0797d0b0",
   "metadata": {},
   "source": [
    "9. What are the methods for right-justifying, left-justifying, and centering a string?\n",
    "Ans: \n",
    "\n",
    "The methods for right-justifying, left-justifying, and centering a string:\n",
    "1. Right-justifying a string: To right-justify a string, you can use the rjust(). Eg.\n",
    "\n",
    "my_string = \"Hello\"\n",
    "right_justified_string = my_string.rjust(10)\n",
    "print(right_justified_string)  # outputs \"     Hello\"\n",
    "\n",
    "2. Left-justifying a string: To left-justify a string, you can use the ljust(). Eg.\n",
    "\n",
    "my_string = \"Hello\"\n",
    "left_justified_string = my_string.ljust(10)\n",
    "print(left_justified_string)  # outputs \"Hello     \"\n",
    "\n",
    "3. Centering a string: To center a string, you can use the center() method. Eg.\n",
    "\n",
    "Centering a string: To center a string, you can use the center() method\n",
    " \n",
    "        "
   ]
  },
  {
   "cell_type": "markdown",
   "id": "a438a6e0",
   "metadata": {},
   "source": [
    "10. What is the best way to remove whitespace characters from the start or end?\n",
    "Ans:\n",
    "\n",
    "The best way to remove whitespace characters from the start or end of a string is to use the strip() method:\n",
    "my_string = \"  hello world\\n  \"\n",
    "clean_string = my_string.strip()\n",
    "print(clean_string)  # outputs \"hello world\"\n"
   ]
  },
  {
   "cell_type": "code",
   "execution_count": null,
   "id": "129c2a74",
   "metadata": {},
   "outputs": [],
   "source": []
  }
 ],
 "metadata": {
  "kernelspec": {
   "display_name": "Python 3 (ipykernel)",
   "language": "python",
   "name": "python3"
  },
  "language_info": {
   "codemirror_mode": {
    "name": "ipython",
    "version": 3
   },
   "file_extension": ".py",
   "mimetype": "text/x-python",
   "name": "python",
   "nbconvert_exporter": "python",
   "pygments_lexer": "ipython3",
   "version": "3.9.12"
  }
 },
 "nbformat": 4,
 "nbformat_minor": 5
}
