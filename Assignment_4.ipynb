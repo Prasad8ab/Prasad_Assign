{
 "cells": [
  {
   "cell_type": "markdown",
   "id": "e4fc43bd",
   "metadata": {},
   "source": [
    "1 What exactly is []?\n",
    "\n",
    "Ans: [] denotes the list data type. Which is ordered & changeable. Allows duplicate members."
   ]
  },
  {
   "cell_type": "markdown",
   "id": "6980f8a1",
   "metadata": {},
   "source": [
    "2 In a list of values stored in a variable called spam, how would you assign the value 'hello' as the third value? (Assume [2, 4, 6, 8, 10] are in spam.)"
   ]
  },
  {
   "cell_type": "code",
   "execution_count": 7,
   "id": "2a840ad7",
   "metadata": {},
   "outputs": [
    {
     "data": {
      "text/plain": [
       "[2, 4, 'hello', 8, 10]"
      ]
     },
     "execution_count": 7,
     "metadata": {},
     "output_type": "execute_result"
    }
   ],
   "source": [
    "#Ans\n",
    "spam = [2,4,6,8,10]\n",
    "spam[2]='hello'\n",
    "spam"
   ]
  },
  {
   "cell_type": "markdown",
   "id": "ff667055",
   "metadata": {},
   "source": [
    "Let's pretend the spam includes the list ['a', 'b', 'c', 'd'] for the next three queries.\n",
    "\n",
    "3 What is the value of spam[int(int('3' * 2) / 11)]? \n"
   ]
  },
  {
   "cell_type": "code",
   "execution_count": 10,
   "id": "c18dafac",
   "metadata": {},
   "outputs": [
    {
     "data": {
      "text/plain": [
       "'d'"
      ]
     },
     "execution_count": 10,
     "metadata": {},
     "output_type": "execute_result"
    }
   ],
   "source": [
    "# Ans: '3' * 2 is the string '33', which is passed to int() before being divided by 11. This eventually evaluates to 3.\n",
    "\n",
    "spam = ['a','b','c','d']\n",
    "spam[int(int('3' * 2) / 11)]"
   ]
  },
  {
   "cell_type": "markdown",
   "id": "3490cc44",
   "metadata": {},
   "source": [
    "4 What is the value of spam[-1]?\n",
    "\n",
    "Ans: 'd'"
   ]
  },
  {
   "cell_type": "markdown",
   "id": "1ba7b252",
   "metadata": {},
   "source": [
    "5 What is the value of spam[:2]?\n",
    "\n",
    "Ans: ['a','b']"
   ]
  },
  {
   "cell_type": "markdown",
   "id": "f7c0da81",
   "metadata": {},
   "source": [
    "Let's pretend bacon has the list [3.14, 'cat,' 11, 'cat,' True] for the next three questions.\n",
    "\n",
    "6 What is the value of bacon.index('cat')?\n",
    "\n",
    "Ans: 1"
   ]
  },
  {
   "cell_type": "markdown",
   "id": "aab794a3",
   "metadata": {},
   "source": [
    "7 How does bacon.append(99) change the look of the list value in bacon?\n",
    "\n",
    "Ans: It will append the 99 at the end of the list.[3.14, 'cat', 11, 'cat', True, 99] "
   ]
  },
  {
   "cell_type": "markdown",
   "id": "8f519315",
   "metadata": {},
   "source": [
    "8 How does bacon.remove('cat') change the look of the list in bacon?\n",
    "\n",
    "Ans: It will remove first cat from the list.[3.14, 11, 'cat', True]"
   ]
  },
  {
   "cell_type": "markdown",
   "id": "d8297bbb",
   "metadata": {},
   "source": [
    "9 What are the list concatenation and list replication operators?\n",
    "\n",
    "Ans: The operator for list concatenation is +, while the operator for replication is *."
   ]
  },
  {
   "cell_type": "markdown",
   "id": "67332768",
   "metadata": {},
   "source": [
    "10 What is difference between the list methods append() and insert()?\n",
    "\n",
    "Ans: Insert function allows us to add a specific element at a specified index of the list unlike append() where we can add the element only at end of the list."
   ]
  },
  {
   "cell_type": "markdown",
   "id": "5ac435e2",
   "metadata": {},
   "source": [
    "11 What are the two methods for removing items from a list?\n",
    "\n",
    "Ans:Using remove() to remove items (elements) from a list. Or using del statement by specifying a position or range with an index or slice"
   ]
  },
  {
   "cell_type": "markdown",
   "id": "fab02d75",
   "metadata": {},
   "source": [
    "12 Describe how list values and string values are identical.\n",
    "\n",
    "Ans: List and string values are both sequences."
   ]
  },
  {
   "cell_type": "markdown",
   "id": "4e07ab08",
   "metadata": {},
   "source": [
    "13 What's the difference between tuples and lists?\n",
    "\n",
    "Ans: The list is dynamic, whereas the tuple has static characteristics. This means that lists can be modified whereas tuples cannot be modified, the tuple is faster than the list because of static in nature. Lists are denoted by the square brackets but tuples are denoted as parenthesis."
   ]
  },
  {
   "cell_type": "markdown",
   "id": "f3313171",
   "metadata": {},
   "source": [
    "14 How do you type a tuple value that only contains the integer 42?\n",
    "\n",
    "Ans: (42,)"
   ]
  },
  {
   "cell_type": "markdown",
   "id": "e6fc9721",
   "metadata": {},
   "source": [
    "15 How do you get a list value's tuple form? How do you get a tuple value's list form?\n",
    "\n",
    "Ans: By using built in tuple() function we can get list value's tuple form. By using built in list() function we can get tuple value's list form.\n",
    "\n",
    "\n"
   ]
  },
  {
   "cell_type": "markdown",
   "id": "98c1f5fe",
   "metadata": {},
   "source": [
    "16 Variables that \"contain\" list values are not necessarily lists themselves. Instead, what do they contain?\n",
    "\n",
    "Ans: They contain references to the list values."
   ]
  },
  {
   "cell_type": "markdown",
   "id": "208a8824",
   "metadata": {},
   "source": [
    "17 How do you distinguish between copy.copy() and copy.deepcopy()?\n",
    "\n",
    "Ans: The copy.copy() function will do a shallow copy of a list, while the copy.deepcopy() function will do a deep copy of a list. That is, only copy.deepcopy() will duplicate any lists inside the list."
   ]
  }
 ],
 "metadata": {
  "kernelspec": {
   "display_name": "Python 3 (ipykernel)",
   "language": "python",
   "name": "python3"
  },
  "language_info": {
   "codemirror_mode": {
    "name": "ipython",
    "version": 3
   },
   "file_extension": ".py",
   "mimetype": "text/x-python",
   "name": "python",
   "nbconvert_exporter": "python",
   "pygments_lexer": "ipython3",
   "version": "3.9.12"
  }
 },
 "nbformat": 4,
 "nbformat_minor": 5
}
