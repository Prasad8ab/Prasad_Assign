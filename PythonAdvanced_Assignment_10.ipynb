{
 "cells": [
  {
   "cell_type": "markdown",
   "id": "f6a98669",
   "metadata": {},
   "source": [
    "\n",
    "1\n",
    "Q1. What is the difference between getattr and getattribute?\n",
    "\n",
    "__getattr__ and __getattribute__ are both special methods in Python that are called when an attribute is accessed on an object. However, they are called in different circumstances and have different purposes.\n",
    "\n",
    "__getattr__ is called when an attribute is accessed on an object and the attribute does not exist. It is used to provide a default value for the attribute or to raise an exception.\n",
    "\n",
    "__getattribute__ is called for every attribute access, whether or not the attribute exists. It is used to implement custom behavior for attribute access, such as lazy loading or caching.\n",
    "\n",
    "In general, __getattr__ should be used for providing default values or raising exceptions, and __getattribute__ should be used for implementing custom behavior.\n",
    "\n",
    "Q2. What is the difference between properties and descriptors?\n",
    "\n",
    "Properties and descriptors are both ways of providing custom behavior for attribute access. However, they work in different ways.\n",
    "\n",
    "Properties are a syntactic sugar for descriptors. They are implemented using the @property decorator. Properties are accessed using the same syntax as regular attributes, but they are actually methods.\n",
    "\n",
    "Descriptors are classes that implement the __get__, __set__, and __delete__ methods. Descriptors are accessed using the same syntax as properties, but they are actually objects.\n",
    "\n",
    "In general, properties should be used when you want to provide a simple, user-friendly way to access an attribute. Descriptors should be used when you need more control over the behavior of attribute access.\n",
    "\n",
    "Q3. What are the key differences in functionality between getattr and getattribute, as well as properties and descriptors?\n",
    "\n",
    "The key differences in functionality between __getattr__ and __getattribute__, as well as properties and descriptors, are summarized in the following table:\n",
    "\n",
    "__getattr__\t:\n",
    "When Called : When an attribute does not exist\t\n",
    "Purpose : To provide a default value or raise an exception\t\n",
    "Syntax:__getattr__(self, name)\t\n",
    "\n",
    "__getattribute__\t\t:\n",
    "When Called : For every attribute access\t\n",
    "Purpose : To implement custom behavior\n",
    "Syntax:__getattribute__(self, name)\t\n",
    "\n",
    "Properties\t\t\t:\n",
    "When Called : When an attribute is accessed\t\n",
    "Purpose : To provide a simple, user-friendly way to access an attribute\n",
    "Syntax:@property\n",
    "\n",
    "Descriptors\t\t\t:\n",
    "When Called : When an attribute is accessed\n",
    "Purpose : To provide more control over the behavior of attribute access\n",
    "Syntax:class Descriptor: def __get__(self, instance, owner):\n",
    "\n"
   ]
  },
  {
   "cell_type": "code",
   "execution_count": null,
   "id": "9df62ce9",
   "metadata": {},
   "outputs": [],
   "source": []
  }
 ],
 "metadata": {
  "kernelspec": {
   "display_name": "Python 3 (ipykernel)",
   "language": "python",
   "name": "python3"
  },
  "language_info": {
   "codemirror_mode": {
    "name": "ipython",
    "version": 3
   },
   "file_extension": ".py",
   "mimetype": "text/x-python",
   "name": "python",
   "nbconvert_exporter": "python",
   "pygments_lexer": "ipython3",
   "version": "3.9.12"
  }
 },
 "nbformat": 4,
 "nbformat_minor": 5
}
