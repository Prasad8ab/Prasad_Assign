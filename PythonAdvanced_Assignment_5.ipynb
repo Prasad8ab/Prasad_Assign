{
 "cells": [
  {
   "cell_type": "markdown",
   "id": "11314e33",
   "metadata": {},
   "source": [
    "Q1. What is the meaning of multiple inheritance?\n",
    "\n",
    "Multiple inheritance is a feature of some object-oriented programming languages that allows a class to inherit from multiple other classes. This means that a class can inherit the properties and methods of all of its parent classes. Multiple inheritance can be used to create more complex and flexible classes.\n",
    "\n",
    "Q2. What is the concept of delegation?\n",
    "\n",
    "Delegation is a design pattern in object-oriented programming that allows one object to defer responsibility for a task to another object. This can be done by creating a method in the first object that calls a method in the second object. Delegation can be used to improve code readability and maintainability.\n",
    "\n",
    "Q3. What is the concept of composition?\n",
    "\n",
    "Composition is a design pattern in object-oriented programming that allows one object to contain another object. This can be done by creating a property in the first object that references an instance of the second object. Composition can be used to create more complex and flexible objects.\n",
    "\n",
    "Q4. What are bound methods and how do we use them?\n",
    "\n",
    "A bound method is a special type of method that is bound to an instance of a class. This means that the method has access to the instance's state. Bound methods are created when a method is called on an instance of a class.\n",
    "\n",
    "To use a bound method, you can simply call it like any other method. However, you do not need to pass the instance of the class to the method. The method will automatically have access to the instance's state.\n",
    "\n",
    "Q5. What is the purpose of pseudoprivate attributes?\n",
    "\n",
    "Pseudoprivate attributes are attributes that are not directly accessible from outside of a class. However, they can still be accessed by using the __getattribute__ method.\n",
    "\n",
    "Pseudoprivate attributes are often used to store private data that should not be directly accessed by other classes. They can also be used to store data that is only used by a specific method or function."
   ]
  }
 ],
 "metadata": {
  "kernelspec": {
   "display_name": "Python 3 (ipykernel)",
   "language": "python",
   "name": "python3"
  },
  "language_info": {
   "codemirror_mode": {
    "name": "ipython",
    "version": 3
   },
   "file_extension": ".py",
   "mimetype": "text/x-python",
   "name": "python",
   "nbconvert_exporter": "python",
   "pygments_lexer": "ipython3",
   "version": "3.9.12"
  }
 },
 "nbformat": 4,
 "nbformat_minor": 5
}
