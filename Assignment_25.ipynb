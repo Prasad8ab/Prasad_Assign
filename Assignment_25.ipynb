{
 "cells": [
  {
   "cell_type": "markdown",
   "id": "70b1da01",
   "metadata": {},
   "source": [
    "1) What is the difference between enclosing a list comprehension in square brackets and parentheses?\n",
    "\n",
    "The difference between enclosing a list comprehension in square brackets and parentheses is that a list comprehension enclosed in square brackets will create a list object, while a list comprehension enclosed in parentheses will create a generator object. A list object is a data structure that stores a collection of elements, while a generator object is an iterator that produces elements one at a time.\n",
    "\n",
    "2) What is the relationship between generators and iterators?\n",
    "\n",
    "Generators and iterators are both objects that can be iterated over, but they work in different ways. A generator object produces elements one at a time, while an iterator object iterates over a pre-existing sequence of elements. This means that generators are more memory efficient than iterators, because they only need to store the current element that they are generating, while iterators need to store the entire sequence of elements.\n",
    "\n",
    "3) What are the signs that a function is a generator function?\n",
    "\n",
    "There are a few signs that a function is a generator function:\n",
    "\n",
    "The function contains the yield keyword.\n",
    "The function does not contain a return statement.\n",
    "The function returns a generator object.\n",
    "For example, the following function is a generator function:\n",
    "\n",
    "def squares_generator():\n",
    "    for x in range(10):\n",
    "        yield x * x\n",
    "\n",
    "4) What is the purpose of a yield statement?\n",
    "\n",
    "The purpose of the yield statement is to suspend the execution of a function and return a value. The function can then be resumed later and continue executing from where it left off. This makes generators ideal for processing large data sets, because they only need to store the current element that they are processing, rather than the entire data set.\n",
    "\n",
    "5) What is the relationship between map calls and list comprehensions? Make a comparison and contrast between the two.\n",
    "Map calls and list comprehensions are both ways to apply a function to a sequence of elements. However, they work in different ways. A map call returns a new list containing the results of applying the function to each element of the original list, while a list comprehension creates a new list in-place. This means that map calls are more memory efficient than list comprehensions, but they are also slower.\n",
    "\n",
    "\n"
   ]
  }
 ],
 "metadata": {
  "kernelspec": {
   "display_name": "Python 3 (ipykernel)",
   "language": "python",
   "name": "python3"
  },
  "language_info": {
   "codemirror_mode": {
    "name": "ipython",
    "version": 3
   },
   "file_extension": ".py",
   "mimetype": "text/x-python",
   "name": "python",
   "nbconvert_exporter": "python",
   "pygments_lexer": "ipython3",
   "version": "3.9.12"
  }
 },
 "nbformat": 4,
 "nbformat_minor": 5
}
