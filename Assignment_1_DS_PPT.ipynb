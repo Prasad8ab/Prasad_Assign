{
 "cells": [
  {
   "cell_type": "code",
   "execution_count": 2,
   "id": "128a7342",
   "metadata": {},
   "outputs": [],
   "source": [
    "# 1. Reverse a string without using any built-in string reversal functions.\n",
    "def reverse_string(str1):\n",
    "  reversed_str = \"\"\n",
    "  for i in range(len(str1) - 1, -1, -1):\n",
    "    reversed_str += str1[i]\n",
    "  return reversed_str"
   ]
  },
  {
   "cell_type": "code",
   "execution_count": 3,
   "id": "1b71023d",
   "metadata": {},
   "outputs": [],
   "source": [
    "# 2. Implement a function to check if a given string is a palindrome.\n",
    "def is_palindrome(str1):\n",
    "  reversed_str = reverse_string(str1)\n",
    "  if str1 == reversed_str:\n",
    "    return True\n",
    "  else:\n",
    "    return False"
   ]
  },
  {
   "cell_type": "code",
   "execution_count": 4,
   "id": "705e097b",
   "metadata": {},
   "outputs": [],
   "source": [
    "# 3. Write a program to find the largest element in a given list.\n",
    "def find_largest_element(list1):\n",
    "  largest_element = list1[0]\n",
    "  for element in list1:\n",
    "    if element > largest_element:\n",
    "      largest_element = element\n",
    "  return largest_element"
   ]
  },
  {
   "cell_type": "code",
   "execution_count": 5,
   "id": "ccef84eb",
   "metadata": {},
   "outputs": [],
   "source": [
    "# 4. Implement a function to count the occurrence of each element in a list.\n",
    "def count_occurrences(list1):\n",
    "  occurrence_dict = {}\n",
    "  for element in list1:\n",
    "    if element in occurrence_dict:\n",
    "      occurrence_dict[element] += 1\n",
    "    else:\n",
    "      occurrence_dict[element] = 1\n",
    "  return occurrence_dict"
   ]
  },
  {
   "cell_type": "code",
   "execution_count": 6,
   "id": "1cbe2aad",
   "metadata": {},
   "outputs": [],
   "source": [
    "# 5. Write a Python program to find the second largest number in a list.\n",
    "def find_second_largest_element(list1):\n",
    "  largest_element = find_largest_element(list1)\n",
    "  second_largest_element = list1[0]\n",
    "  for element in list1:\n",
    "    if element != largest_element and element > second_largest_element:\n",
    "      second_largest_element = element\n",
    "  return second_largest_element"
   ]
  },
  {
   "cell_type": "code",
   "execution_count": 7,
   "id": "914e2c69",
   "metadata": {},
   "outputs": [],
   "source": [
    "# 6. Implement a function to remove duplicate elements from a list.\n",
    "def remove_duplicates(list1):\n",
    "  unique_list = []\n",
    "  for element in list1:\n",
    "    if element not in unique_list:\n",
    "      unique_list.append(element)\n",
    "  return unique_list"
   ]
  },
  {
   "cell_type": "code",
   "execution_count": 8,
   "id": "9f9a7a1f",
   "metadata": {},
   "outputs": [],
   "source": [
    "# 7. Write a program to calculate the factorial of a given number.\n",
    "def factorial(n):\n",
    "  if n == 0:\n",
    "    return 1\n",
    "  else:\n",
    "    return n * factorial(n - 1)"
   ]
  },
  {
   "cell_type": "code",
   "execution_count": 9,
   "id": "42cc6e37",
   "metadata": {},
   "outputs": [],
   "source": [
    "# 8. Implement a function to check if a given number is prime.\n",
    "def is_prime(n):\n",
    "  if n == 2:\n",
    "    return True\n",
    "  if n < 2 or n % 2 == 0:\n",
    "    return False\n",
    "  for i in range(3, int(n ** 0.5) + 1, 2):\n",
    "    if n % i == 0:\n",
    "      return False\n",
    "  return True\n"
   ]
  },
  {
   "cell_type": "code",
   "execution_count": 10,
   "id": "067cb4b4",
   "metadata": {},
   "outputs": [],
   "source": [
    "# 9. Write a Python program to sort a list of integers in ascending order.\n",
    "def sort_list(list1):\n",
    "  for i in range(len(list1) - 1):\n",
    "    for j in range(len(list1) - 1, i, -1):\n",
    "      if list1[j] < list1[j - 1]:\n",
    "        list1[j], list1[j - 1] = list1[j - 1], list1[j]\n",
    "  return list1"
   ]
  },
  {
   "cell_type": "code",
   "execution_count": 12,
   "id": "4ec9b5e9",
   "metadata": {},
   "outputs": [],
   "source": [
    "# 10. Implement a function to find the sum of all numbers in a list.\n",
    "def find_sum(list1):\n",
    "  sum = 0\n",
    "  for element in list1:\n",
    "    sum += element\n",
    "  return sum"
   ]
  },
  {
   "cell_type": "code",
   "execution_count": 13,
   "id": "16a53536",
   "metadata": {},
   "outputs": [],
   "source": [
    "# 11. Write a program to find the common elements between two lists.\n",
    "def find_common_elements(list1, list2):\n",
    "  common_elements = []\n",
    "  for element in list1:\n",
    "    if element in list2:\n",
    "      common_elements.append(element)\n",
    "  return common_elements"
   ]
  },
  {
   "cell_type": "code",
   "execution_count": 50,
   "id": "8d3423c7",
   "metadata": {},
   "outputs": [],
   "source": [
    "# 12. Implement a function to check if a given string is an anagram of another string.\n",
    "def is_anagram(str1, str2):\n",
    "  if len(str1) != len(str2):\n",
    "    return False\n",
    "\n",
    "  occurrence_dict = {}\n",
    "  for character in str1:\n",
    "    if character not in occurrence_dict:\n",
    "      occurrence_dict[character] = 1\n",
    "    else:\n",
    "      occurrence_dict[character] += 1\n",
    "\n",
    "  for character in str2:\n",
    "    if character not in occurrence_dict:\n",
    "      return False\n",
    "    else:\n",
    "      occurrence_dict[character] -= 1\n",
    "\n",
    "  for count in occurrence_dict.values():\n",
    "    if count != 0:\n",
    "      return False\n",
    "\n",
    "  return True"
   ]
  },
  {
   "cell_type": "code",
   "execution_count": 15,
   "id": "0a5db9c9",
   "metadata": {},
   "outputs": [],
   "source": [
    "# 13. Write a Python program to generate all permutations of a given string.\n",
    "def generate_permutations(str1):\n",
    "  if len(str1) == 0:\n",
    "    return ['']\n",
    "  else:\n",
    "    permutations = []\n",
    "    for i in range(len(str1)):\n",
    "      prefix = str1[:i]\n",
    "      suffix = str1[i + 1:]\n",
    "      permutations_of_suffix = generate_permutations(suffix)\n",
    "      for permutation in permutations_of_suffix:\n",
    "        permutations.append(prefix + permutation)\n",
    "    return permutations"
   ]
  },
  {
   "cell_type": "code",
   "execution_count": 16,
   "id": "9ca04108",
   "metadata": {},
   "outputs": [],
   "source": [
    "# 14. Implement a function to calculate the Fibonacci sequence up to a given number of terms.\n",
    "def fibonacci(n):\n",
    "  if n == 0:\n",
    "    return 0\n",
    "  elif n == 1:\n",
    "    return 1\n",
    "  else:\n",
    "    return fibonacci(n - 1) + fibonacci(n - 2)"
   ]
  },
  {
   "cell_type": "code",
   "execution_count": 17,
   "id": "ae80bd9a",
   "metadata": {},
   "outputs": [],
   "source": [
    "# 15. Write a program to find the median of a list of numbers.\n",
    "def find_median(list1):\n",
    "  list1.sort()\n",
    "  if len(list1) % 2 == 0:\n",
    "    median = (list1[len(list1) // 2] + list1[len(list1) // 2 - 1]) / 2\n",
    "  else:\n",
    "    median = list1[len(list1) // 2]\n",
    "  return median"
   ]
  },
  {
   "cell_type": "code",
   "execution_count": 18,
   "id": "78335081",
   "metadata": {},
   "outputs": [],
   "source": [
    "# 16. Implement a function to check if a given list is sorted in non-decreasing order.\n",
    "def is_sorted(list1):\n",
    "  for i in range(len(list1) - 1):\n",
    "    if list1[i] > list1[i + 1]:\n",
    "      return False\n",
    "  return True"
   ]
  },
  {
   "cell_type": "code",
   "execution_count": 19,
   "id": "487d2769",
   "metadata": {},
   "outputs": [],
   "source": [
    "# 17. Write a Python program to find the intersection of two lists.\n",
    "def find_intersection(list1, list2):\n",
    "  intersection = []\n",
    "  for element in list1:\n",
    "    if element in list2:\n",
    "      intersection.append(element)\n",
    "  return intersection"
   ]
  },
  {
   "cell_type": "code",
   "execution_count": 20,
   "id": "775a2ca0",
   "metadata": {},
   "outputs": [],
   "source": [
    "# 18. Implement a function to find the maximum subarray sum in a given list.\n",
    "def max_subarray_sum(list1):\n",
    "  max_so_far = -float('inf')\n",
    "  max_ending_here = 0\n",
    "  for element in list1:\n",
    "    max_ending_here = max_ending_here + element\n",
    "    if max_so_far < max_ending_here:\n",
    "      max_so_far = max_ending_here\n",
    "    if max_ending_here < 0:\n",
    "      max_ending_here = 0\n",
    "  return max_so_far"
   ]
  },
  {
   "cell_type": "code",
   "execution_count": 22,
   "id": "c199f475",
   "metadata": {},
   "outputs": [],
   "source": [
    "# 19. Write a program to remove all vowels from a given string.\n",
    "def remove_vowels(str1):\n",
    "  vowels = 'aeiou'\n",
    "  new_str = ''\n",
    "  for character in str1:\n",
    "    if character not in vowels:\n",
    "      new_str += character\n",
    "  return new_str"
   ]
  },
  {
   "cell_type": "code",
   "execution_count": 23,
   "id": "582a4a49",
   "metadata": {},
   "outputs": [],
   "source": [
    "# 20. Implement a function to reverse the order of words in a given sentence.\n",
    "def reverse_words(sentence):\n",
    "  words = sentence.split()\n",
    "  reversed_words = words[::-1]\n",
    "  reversed_sentence = ' '.join(reversed_words)\n",
    "  return reversed_sentence"
   ]
  },
  {
   "cell_type": "code",
   "execution_count": 24,
   "id": "26b3e6e4",
   "metadata": {},
   "outputs": [],
   "source": [
    "# 21. Write a Python program to check if two strings are anagrams of each other.\n",
    "def are_anagrams(str1, str2):\n",
    "  if len(str1) != len(str2):\n",
    "    return False\n",
    "  occurrence_dict1 = count_occurrences(str1)\n",
    "  occurrence_dict2 = count_occurrences(str2)\n",
    "  for character, count in occurrence_dict1.items():\n",
    "    if character not in occurrence_dict2 or occurrence_dict2[character] != count:\n",
    "      return False\n",
    "  return True"
   ]
  },
  {
   "cell_type": "code",
   "execution_count": 51,
   "id": "4b08a253",
   "metadata": {},
   "outputs": [],
   "source": [
    "# 22. Implement a function to find the first non-repeating character in a string.\n",
    "def find_first_non_repeating_character(str1):\n",
    "  occurrence_dict = {}\n",
    "  for character in str1:\n",
    "    if character not in occurrence_dict:\n",
    "      occurrence_dict[character] = 1\n",
    "    else:\n",
    "      occurrence_dict[character] += 1\n",
    "  for i in range(len(str1)):\n",
    "    if occurrence_dict[str1[i]] == 1:\n",
    "      return str1[i]\n",
    "\n",
    "  return None"
   ]
  },
  {
   "cell_type": "code",
   "execution_count": 26,
   "id": "60dad61c",
   "metadata": {},
   "outputs": [],
   "source": [
    "# 23. Write a program to find the prime factors of a given number.\n",
    "def find_prime_factors(n):\n",
    "  prime_factors = []\n",
    "  for i in range(2, int(n ** 0.5) + 1):\n",
    "    while n % i == 0:\n",
    "      prime_factors.append(i)\n",
    "      n //= i\n",
    "  if n > 1:\n",
    "    prime_factors.append(n)\n",
    "  return prime_factors"
   ]
  },
  {
   "cell_type": "code",
   "execution_count": 27,
   "id": "219c7c6b",
   "metadata": {},
   "outputs": [],
   "source": [
    "# 24. Implement a function to check if a given number is a power of two.\n",
    "def is_power_of_two(n):\n",
    "  if n == 0:\n",
    "    return False\n",
    "  while n % 2 == 0:\n",
    "    n //= 2\n",
    "  return n == 1"
   ]
  },
  {
   "cell_type": "code",
   "execution_count": 28,
   "id": "556713c5",
   "metadata": {},
   "outputs": [],
   "source": [
    "# 25. Write a Python program to merge two sorted lists into a single sorted list.\n",
    "def merge_sorted_lists(list1, list2):\n",
    "  merged_list = []\n",
    "  i = 0\n",
    "  j = 0\n",
    "  while i < len(list1) and j < len(list2):\n",
    "    if list1[i] <= list2[j]:\n",
    "      merged_list.append(list1[i])\n",
    "      i += 1\n",
    "    else:\n",
    "      merged_list.append(list2[j])\n",
    "      j += 1\n",
    "  merged_list += list1[i:]\n",
    "  merged_list += list2[j:]\n",
    "  return merged_list"
   ]
  },
  {
   "cell_type": "code",
   "execution_count": 29,
   "id": "9def39ef",
   "metadata": {},
   "outputs": [],
   "source": [
    "# 26. Implement a function to find the mode of a list of numbers.\n",
    "def find_mode(list1):\n",
    "  occurrence_dict = count_occurrences(list1)\n",
    "  mode = list(occurrence_dict.keys())[0]\n",
    "  max_occurrence = occurrence_dict[mode]\n",
    "  for key, value in occurrence_dict.items():\n",
    "    if value > max_occurrence:\n",
    "      mode = key\n",
    "      max_occurrence = value\n",
    "  return mode"
   ]
  },
  {
   "cell_type": "code",
   "execution_count": 30,
   "id": "ac141b80",
   "metadata": {},
   "outputs": [],
   "source": [
    "# 27. Write a program to find the greatest common divisor (GCD) of two numbers.\n",
    "def gcd(n1, n2):\n",
    "  while n2 != 0:\n",
    "    n1, n2 = n2, n1 % n2\n",
    "  return n1"
   ]
  },
  {
   "cell_type": "code",
   "execution_count": 31,
   "id": "ed6f4a46",
   "metadata": {},
   "outputs": [],
   "source": [
    "# 28. Implement a function to calculate the square root of a given number.\n",
    "def square_root(n):\n",
    "  x = n / 2\n",
    "  while x * x > n:\n",
    "    x = (x + n / x) / 2\n",
    "  return x"
   ]
  },
  {
   "cell_type": "code",
   "execution_count": 32,
   "id": "3798f787",
   "metadata": {},
   "outputs": [],
   "source": [
    "# 29. Write a Python program to check if a given string is a valid palindrome ignoring non-alphanumeric characters.\n",
    "def is_palindrome_ignoring_non_alphanumeric(str1):\n",
    "  str1 = ''.join(c for c in str1 if c.isalnum())\n",
    "  reversed_str = ''.join(reversed(str1))\n",
    "  return str1 == reversed_str"
   ]
  },
  {
   "cell_type": "code",
   "execution_count": 33,
   "id": "f676c542",
   "metadata": {},
   "outputs": [],
   "source": [
    "# 30. Implement a function to find the minimum element in a rotated sorted list.\n",
    "def find_minimum_element_in_rotated_sorted_list(list1):\n",
    "  start = 0\n",
    "  end = len(list1) - 1\n",
    "  while start <= end:\n",
    "    mid = (start + end) // 2\n",
    "    if list1[mid] > list1[end]:\n",
    "      start = mid + 1\n",
    "    elif list1[mid] < list1[end]:\n",
    "      end = mid - 1\n",
    "    else:\n",
    "      end -= 1\n",
    "  return list1[start]"
   ]
  },
  {
   "cell_type": "code",
   "execution_count": 34,
   "id": "e6fef856",
   "metadata": {},
   "outputs": [],
   "source": [
    "# 31. Write a program to find the sum of all even numbers in a list.\n",
    "def find_sum_of_even_numbers(list1):\n",
    "  sum = 0\n",
    "  for element in list1:\n",
    "    if element % 2 == 0:\n",
    "      sum += element\n",
    "  return sum"
   ]
  },
  {
   "cell_type": "code",
   "execution_count": 35,
   "id": "da9eca4b",
   "metadata": {},
   "outputs": [],
   "source": [
    "# 32. Implement a function to calculate the power of a number using recursion.\n",
    "def power(x, n):\n",
    "  if n == 0:\n",
    "    return 1\n",
    "  else:\n",
    "    return x * power(x, n - 1)"
   ]
  },
  {
   "cell_type": "code",
   "execution_count": 36,
   "id": "a782d88e",
   "metadata": {},
   "outputs": [],
   "source": [
    "# 33. Write a Python program to remove duplicates from a list while preserving the order.\n",
    "def remove_duplicates_while_preserving_order(list1):\n",
    "  unique_list = []\n",
    "  for element in list1:\n",
    "    if element not in unique_list:\n",
    "      unique_list.append(element)\n",
    "  return unique_list"
   ]
  },
  {
   "cell_type": "code",
   "execution_count": 37,
   "id": "69c1de50",
   "metadata": {},
   "outputs": [],
   "source": [
    "# 34. Implement a function to find the longest common prefix among a list of strings.\n",
    "def find_longest_common_prefix(list1):\n",
    "  longest_common_prefix = ''\n",
    "  for i in range(len(list1[0])):\n",
    "    prefix = list1[0][:i + 1]\n",
    "    for string in list1:\n",
    "      if string[:i + 1] != prefix:\n",
    "        return longest_common_prefix\n",
    "    longest_common_prefix = prefix\n",
    "  return longest_common_prefix"
   ]
  },
  {
   "cell_type": "code",
   "execution_count": 38,
   "id": "d5dc34ed",
   "metadata": {},
   "outputs": [],
   "source": [
    "# 35. Write a program to check if a given number is a perfect square.\n",
    "def is_perfect_square(n):\n",
    "  for i in range(1, int(n ** 0.5) + 1):\n",
    "    if i * i == n:\n",
    "      return True\n",
    "  return False"
   ]
  },
  {
   "cell_type": "code",
   "execution_count": 39,
   "id": "9cef1685",
   "metadata": {},
   "outputs": [],
   "source": [
    "# 36. Implement a function to calculate the product of all elements in a list.\n",
    "def product_of_elements(list1):\n",
    "  product = 1\n",
    "  for element in list1:\n",
    "    product *= element\n",
    "  return product"
   ]
  },
  {
   "cell_type": "code",
   "execution_count": 40,
   "id": "3fa29633",
   "metadata": {},
   "outputs": [],
   "source": [
    "# 37. Write a Python program to reverse the order of words in a sentence while preserving the word order.\n",
    "def reverse_order_of_words_in_sentence(sentence):\n",
    "  words = sentence.split()\n",
    "  reversed_words = words[::-1]\n",
    "  reversed_sentence = ' '.join(reversed_words)\n",
    "  return reversed_sentence"
   ]
  },
  {
   "cell_type": "code",
   "execution_count": 41,
   "id": "e7bedf60",
   "metadata": {},
   "outputs": [],
   "source": [
    "# 38. Implement a function to find the missing number in a given list of consecutive numbers.\n",
    "def find_missing_number(list1):\n",
    "  for i in range(len(list1) - 1):\n",
    "    if list1[i] + 1 != list1[i + 1]:\n",
    "      return list1[i] + 1\n",
    "  return None"
   ]
  },
  {
   "cell_type": "code",
   "execution_count": 42,
   "id": "aae66429",
   "metadata": {},
   "outputs": [],
   "source": [
    "# 39. Write a program to find the sum of digits of a given number.\n",
    "def sum_of_digits(n):\n",
    "  sum = 0\n",
    "  while n > 0:\n",
    "    sum += n % 10\n",
    "    n //= 10\n",
    "  return sum"
   ]
  },
  {
   "cell_type": "code",
   "execution_count": 43,
   "id": "de5fa34b",
   "metadata": {},
   "outputs": [],
   "source": [
    "# 40. Implement a function to check if a given string is a valid palindrome considering case sensitivity.\n",
    "def is_palindrome_considering_case_sensitivity(str1):\n",
    "  reversed_str = str1[::-1]\n",
    "  return str1 == reversed_str# 42. Implement a function to find the longest palindrome substring in a given string.\n",
    "def find_longest_palindrome_substring(str1):\n",
    "  longest_palindrome = ''\n",
    "  for i in range(len(str1)):\n",
    "    palindrome = ''\n",
    "    for j in range(i, len(str1)):\n",
    "      if str1[i:j + 1] == str1[i:j + 1][::-1]:\n",
    "        palindrome = str1[i:j + 1]\n",
    "        if len(palindrome) > len(longest_palindrome):\n",
    "          longest_palindrome = palindrome\n",
    "  return longest_palindrome"
   ]
  },
  {
   "cell_type": "code",
   "execution_count": 44,
   "id": "f533f2a7",
   "metadata": {},
   "outputs": [],
   "source": [
    "# 41. Write a Python program to find the smallest missing positive integer in a list.\n",
    "def find_smallest_missing_positive_integer(list1):\n",
    "  for i in range(1, int(1e5) + 1):\n",
    "    if i not in list1:\n",
    "      return i\n",
    "  return None"
   ]
  },
  {
   "cell_type": "code",
   "execution_count": 45,
   "id": "a91f4254",
   "metadata": {},
   "outputs": [],
   "source": [
    "# 42. Implement a function to find the longest palindrome substring in a given string.\n",
    "def find_longest_palindrome_substring(str1):\n",
    "  longest_palindrome = ''\n",
    "  for i in range(len(str1)):\n",
    "    palindrome = ''\n",
    "    for j in range(i, len(str1)):\n",
    "      if str1[i:j + 1] == str1[i:j + 1][::-1]:\n",
    "        palindrome = str1[i:j + 1]\n",
    "        if len(palindrome) > len(longest_palindrome):\n",
    "          longest_palindrome = palindrome\n",
    "  return longest_palindrome"
   ]
  },
  {
   "cell_type": "code",
   "execution_count": 46,
   "id": "ae0313e2",
   "metadata": {},
   "outputs": [],
   "source": [
    "# 43. Write a program to find the number of occurrences of a given element in a list.\n",
    "def find_number_of_occurrences(list1, element):\n",
    "  count = 0\n",
    "  for item in list1:\n",
    "    if item == element:\n",
    "      count += 1\n",
    "  return count"
   ]
  },
  {
   "cell_type": "code",
   "execution_count": 52,
   "id": "7ee3fa2c",
   "metadata": {},
   "outputs": [],
   "source": [
    "# 44. Implement a function to check if a given number is a perfect number.\n",
    "def is_perfect_number(n):\n",
    "  sum_of_factors = 1\n",
    "  for i in range(2, int(n ** 0.5) + 1):\n",
    "    if n % i == 0:\n",
    "      sum_of_factors += i\n",
    "      if i * i == n:\n",
    "        sum_of_factors -= i\n",
    "  return sum_of_factors == n"
   ]
  },
  {
   "cell_type": "code",
   "execution_count": 48,
   "id": "be44ae30",
   "metadata": {},
   "outputs": [],
   "source": [
    "# 45. Write a Python program to remove all duplicates from a string.\n",
    "def remove_all_duplicates_from_string(str1):\n",
    "  unique_characters = set()\n",
    "  new_string = ''\n",
    "  for character in str1:\n",
    "    if character not in unique_characters:\n",
    "      unique_characters.add(character)\n",
    "      new_string += character\n",
    "  return new_string"
   ]
  },
  {
   "cell_type": "code",
   "execution_count": 49,
   "id": "d1ad3ec9",
   "metadata": {},
   "outputs": [],
   "source": [
    "# 46. Implement a function to find the first missing positive integer in a list.\n",
    "def find_first_missing_positive_integer(list1):\n",
    "  for i in range(1, int(1e5) + 1):\n",
    "    if i not in list1:\n",
    "      return i\n",
    "  return None"
   ]
  }
 ],
 "metadata": {
  "kernelspec": {
   "display_name": "Python 3 (ipykernel)",
   "language": "python",
   "name": "python3"
  },
  "language_info": {
   "codemirror_mode": {
    "name": "ipython",
    "version": 3
   },
   "file_extension": ".py",
   "mimetype": "text/x-python",
   "name": "python",
   "nbconvert_exporter": "python",
   "pygments_lexer": "ipython3",
   "version": "3.10.9"
  }
 },
 "nbformat": 4,
 "nbformat_minor": 5
}
