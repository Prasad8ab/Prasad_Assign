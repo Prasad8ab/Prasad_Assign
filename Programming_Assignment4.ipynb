{
 "cells": [
  {
   "cell_type": "code",
   "execution_count": 4,
   "id": "19359772",
   "metadata": {},
   "outputs": [
    {
     "name": "stdout",
     "output_type": "stream",
     "text": [
      "Input the number :11\n",
      "The the factorial of 11 is 39916800\n"
     ]
    }
   ],
   "source": [
    "#1 Write a Python Program to Find the Factorial of a Number?\n",
    "\n",
    "#input the number\n",
    "a=int(input(\"Input the number :\"))\n",
    "b=1\n",
    "\n",
    "#calculatin factorial\n",
    "for i in range(1,a+1):\n",
    "    b=b*i\n",
    "print(\"The the factorial of\", a, \"is\", b)"
   ]
  },
  {
   "cell_type": "code",
   "execution_count": 9,
   "id": "0d7fcd7c",
   "metadata": {},
   "outputs": [
    {
     "name": "stdout",
     "output_type": "stream",
     "text": [
      "Input the number :34\n",
      "34 x 1 = 34\n",
      "34 x 2 = 68\n",
      "34 x 3 = 102\n",
      "34 x 4 = 136\n",
      "34 x 5 = 170\n",
      "34 x 6 = 204\n",
      "34 x 7 = 238\n",
      "34 x 8 = 272\n",
      "34 x 9 = 306\n",
      "34 x 10 = 340\n"
     ]
    }
   ],
   "source": [
    "#2 Write a Python Program to Display the multiplication Table?\n",
    "\n",
    "#input the number\n",
    "a=int(input(\"Input the number :\"))\n",
    "i=1\n",
    "\n",
    "#printing the table\n",
    "while i<=10:\n",
    "    b= i*a\n",
    "    print(a,\"x\",i,\"=\",b)\n",
    "    i=i+1"
   ]
  },
  {
   "cell_type": "code",
   "execution_count": 16,
   "id": "84794e46",
   "metadata": {},
   "outputs": [
    {
     "name": "stdout",
     "output_type": "stream",
     "text": [
      "Input the number of terms :21\n",
      "0 1 1 2 3 5 8 13 21 34 55 89 144 233 377 610 987 1597 2584 4181 6765 "
     ]
    }
   ],
   "source": [
    "#3 Write a Python Program to Print the Fibonacci sequence?\n",
    "\n",
    "nth=int(input(\"Input the number of terms :\"))\n",
    "a=0\n",
    "b=1\n",
    "i=1\n",
    "while i<=nth:\n",
    "    print(a,end=\" \")\n",
    "    c=a+b\n",
    "    a=b\n",
    "    b=c\n",
    "    i=i+1"
   ]
  },
  {
   "cell_type": "code",
   "execution_count": 15,
   "id": "7cc51df0",
   "metadata": {},
   "outputs": [
    {
     "name": "stdout",
     "output_type": "stream",
     "text": [
      "Input the number :371\n",
      "371 is an armstrong number\n"
     ]
    }
   ],
   "source": [
    "#4 Write a Python Program to Check Armstrong Number?\n",
    "\n",
    "#input the number\n",
    "a=int(input(\"Input the number :\"))\n",
    "order=len(str(a))\n",
    "add = 0\n",
    "temp = a\n",
    "\n",
    "#checking for armstrong number\n",
    "while(temp>0):\n",
    "    digit = temp%10\n",
    "    add = add+ digit**order\n",
    "    temp = temp//10\n",
    "\n",
    "#display\n",
    "if a==add:\n",
    "    print(a,'is an armstrong number')\n",
    "else:\n",
    "    print(a,'is not an armstrong number')"
   ]
  },
  {
   "cell_type": "code",
   "execution_count": 25,
   "id": "accdfe4d",
   "metadata": {},
   "outputs": [
    {
     "name": "stdout",
     "output_type": "stream",
     "text": [
      "Input the first number :1\n",
      "Input the last number :1000\n",
      "1 is an armstrong number\n",
      "2 is an armstrong number\n",
      "3 is an armstrong number\n",
      "4 is an armstrong number\n",
      "5 is an armstrong number\n",
      "6 is an armstrong number\n",
      "7 is an armstrong number\n",
      "8 is an armstrong number\n",
      "9 is an armstrong number\n",
      "153 is an armstrong number\n",
      "370 is an armstrong number\n",
      "371 is an armstrong number\n",
      "407 is an armstrong number\n"
     ]
    }
   ],
   "source": [
    "#5 Write a Python Program to Find Armstrong Number in an Interval?\n",
    "\n",
    "#input the interval\n",
    "a=int(input(\"Input the first number :\"))\n",
    "b=int(input(\"Input the last number :\"))\n",
    "\n",
    "#checking for armstrong number\n",
    "for i in range(a,b+1):\n",
    "    order=len(str(i))\n",
    "    add = 0\n",
    "    temp =i\n",
    "    while(temp>0):\n",
    "        digit = temp%10\n",
    "        add = add+ digit**order\n",
    "        temp = temp//10\n",
    "        #display\n",
    "    if i==add: \n",
    "        print(i,'is an armstrong number')"
   ]
  },
  {
   "cell_type": "code",
   "execution_count": 27,
   "id": "c98c3d59",
   "metadata": {},
   "outputs": [
    {
     "name": "stdout",
     "output_type": "stream",
     "text": [
      "Input the number :5\n",
      "The sum is 15\n"
     ]
    }
   ],
   "source": [
    "#6 Write a Python Program to Find the Sum of Natural Numbers?\n",
    "\n",
    "#input the number till you want addition\n",
    "a=int(input(\"Input the number :\"))\n",
    "\n",
    "if a < 0:\n",
    "   print(\"Enter a positive number\")\n",
    "else:\n",
    "   sum = 0\n",
    "   # use while loop to iterate until zero\n",
    "   while(a > 0):\n",
    "       sum = sum + a\n",
    "       a =a- 1\n",
    "   print(\"The sum is\", sum)\n",
    "\n"
   ]
  }
 ],
 "metadata": {
  "kernelspec": {
   "display_name": "Python 3 (ipykernel)",
   "language": "python",
   "name": "python3"
  },
  "language_info": {
   "codemirror_mode": {
    "name": "ipython",
    "version": 3
   },
   "file_extension": ".py",
   "mimetype": "text/x-python",
   "name": "python",
   "nbconvert_exporter": "python",
   "pygments_lexer": "ipython3",
   "version": "3.9.12"
  }
 },
 "nbformat": 4,
 "nbformat_minor": 5
}
