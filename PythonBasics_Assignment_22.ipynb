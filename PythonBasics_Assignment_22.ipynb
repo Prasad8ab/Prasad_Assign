{
 "cells": [
  {
   "cell_type": "code",
   "execution_count": 2,
   "id": "1f085876",
   "metadata": {},
   "outputs": [
    {
     "name": "stdout",
     "output_type": "stream",
     "text": [
      "iNeuron\n"
     ]
    }
   ],
   "source": [
    "## Q1\n",
    "X = 'iNeuron'\n",
    "def func():\n",
    "    print(X)\n",
    "func()\n",
    "\n",
    "# Explanation: In this code, the variable X is defined outside of the function func, so it's in the global scope. When the func() function is called, it prints the value of the global variable X, which is \"iNeuron.\"\n",
    "\n"
   ]
  },
  {
   "cell_type": "code",
   "execution_count": 4,
   "id": "cf66caa6",
   "metadata": {},
   "outputs": [
    {
     "name": "stdout",
     "output_type": "stream",
     "text": [
      "iNeuron\n"
     ]
    }
   ],
   "source": [
    "##Q2\n",
    "X = 'iNeuron'\n",
    "def func():\n",
    "    X = 'NI!'\n",
    "func()\n",
    "print(X)\n",
    "\n",
    "# Explanation: In this code, the variable X inside the func function is a local variable. When you call func(), it assigns the value \"NI!\" to the local variable X, but this does not affect the global variable X. When you print X after calling func(), it still prints the global variable, which is \"iNeuron.\"\n",
    "\n"
   ]
  },
  {
   "cell_type": "code",
   "execution_count": 5,
   "id": "ea00b0d0",
   "metadata": {},
   "outputs": [
    {
     "name": "stdout",
     "output_type": "stream",
     "text": [
      "NI\n",
      "iNeuron\n"
     ]
    }
   ],
   "source": [
    "##Q3\n",
    "X = 'iNeuron'\n",
    "def func():\n",
    "    X = 'NI'\n",
    "    print(X)\n",
    "func()\n",
    "print(X)\n",
    "\n",
    "# Explanation: In this code, the func() function defines a local variable X with the value \"NI.\" When you call func(), it prints the local variable X. However, this does not affect the global variable X, so when you print X outside the function, it still prints the global variable, which is \"iNeuron.\"\n",
    "\n"
   ]
  },
  {
   "cell_type": "code",
   "execution_count": 7,
   "id": "c726dd90",
   "metadata": {},
   "outputs": [
    {
     "name": "stdout",
     "output_type": "stream",
     "text": [
      "NI\n"
     ]
    }
   ],
   "source": [
    "##Q4\n",
    "X = 'iNeuron'\n",
    "def func():\n",
    "    global X\n",
    "    X = 'NI'\n",
    "func()\n",
    "print(X)\n",
    "\n",
    "# Explanation: In this code, the func() function uses the global keyword to declare that it wants to modify the global variable X. When you call func(), it changes the value of the global variable X to \"NI.\" As a result, when you print X after calling func(), it reflects the updated global value, which is \"NI.\"\n",
    "\n"
   ]
  },
  {
   "cell_type": "code",
   "execution_count": 9,
   "id": "fbaf64eb",
   "metadata": {},
   "outputs": [
    {
     "name": "stdout",
     "output_type": "stream",
     "text": [
      "NI\n",
      "iNeuron\n"
     ]
    }
   ],
   "source": [
    "##Q5\n",
    "X = 'iNeuron'\n",
    "def func():\n",
    "    X = 'NI'\n",
    "    def nested():\n",
    "        print(X)\n",
    "    nested()\n",
    "func()\n",
    "print(X)\n",
    "\n",
    "# Explanation: In this code, the func() function defines a local variable X with the value \"NI.\" The nested() function is nested inside func and prints the value of the local variable X from the nearest enclosing scope, which is the func function. After calling func(), the global variable X remains unchanged, so when you print X outside the functions, it still prints the global variable, which is \"iNeuron.\"\n",
    "\n"
   ]
  },
  {
   "cell_type": "code",
   "execution_count": 11,
   "id": "5dd71161",
   "metadata": {},
   "outputs": [
    {
     "name": "stdout",
     "output_type": "stream",
     "text": [
      "Spam\n"
     ]
    }
   ],
   "source": [
    "##Q6\n",
    "def func():\n",
    "    X = 'NI'\n",
    "    def nested():\n",
    "        nonlocal X\n",
    "        X = 'Spam'\n",
    "    nested()\n",
    "    print(X)\n",
    "func()\n",
    "\n",
    "# Explanation: In this code, the func() function defines a local variable X with the value \"NI.\" The nested() function uses the nonlocal keyword to modify the nearest enclosing variable X, which is the one in the func() function. After calling func(), the value of the X in the func() function is changed to \"Spam,\" and that's what is printed when you call print(X) inside func().\n"
   ]
  },
  {
   "cell_type": "code",
   "execution_count": null,
   "id": "c57b8205",
   "metadata": {},
   "outputs": [],
   "source": []
  }
 ],
 "metadata": {
  "kernelspec": {
   "display_name": "Python 3 (ipykernel)",
   "language": "python",
   "name": "python3"
  },
  "language_info": {
   "codemirror_mode": {
    "name": "ipython",
    "version": 3
   },
   "file_extension": ".py",
   "mimetype": "text/x-python",
   "name": "python",
   "nbconvert_exporter": "python",
   "pygments_lexer": "ipython3",
   "version": "3.10.9"
  }
 },
 "nbformat": 4,
 "nbformat_minor": 5
}
