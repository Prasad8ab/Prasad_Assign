{
 "cells": [
  {
   "cell_type": "markdown",
   "id": "ae292c0e",
   "metadata": {},
   "source": [
    "\n",
    "\n",
    "\n",
    "\n",
    "1. What is the result of the code, and why?\n",
    ">>> def func(a, b=6, c=8):\n",
    "print(a, b, c)\n",
    ">>> func(1, 2)\n",
    "\n",
    "The result of the code is (1, 2, 8). The first argument, a, is explicitly passed in the function call, so it takes the value 1. The second argument, b, has a default value of 6, so it takes that value unless it is explicitly passed in the function call. In this case, it is not explicitly passed in, so it takes the default value of 6. The third argument, c, also has a default value of 8, so it takes that value unless it is explicitly passed in the function call. In this case, it is not explicitly passed in, so it takes the default value of 8.\n",
    "\n",
    "\n",
    "2. What is the result of this code, and why?\n",
    ">>> def func(a, b, c=5):\n",
    "print(a, b, c)\n",
    ">>> func(1, c=3, b=2)\n",
    "\n",
    "The result of the code is (1, 2, 3). The first argument, a, is explicitly passed in the function call, so it takes the value 1. The second argument, b, is explicitly passed in the function call with the value 2. The third argument, c, has a default value of 5, so it takes that value unless it is explicitly passed in the function call. In this case, it is explicitly passed in with the value 3, so it takes that value instead of the default value of 5.\n",
    "\n",
    "\n",
    "3. How about this code: what is its result, and why?\n",
    ">>> def func(a, *pargs):\n",
    "print(a, pargs)\n",
    ">>> func(1, 2, 3)\n",
    "\n",
    "The result of the code is (1, (2, 3)). The first argument, a, is explicitly passed in the function call, so it takes the value 1. The second argument, *pargs, is a special syntax that allows you to pass in a variable number of positional arguments to a function. In this case, we are passing in the two numbers 2 and 3. The function then unpacks these arguments into a tuple and assigns them to the variable pargs. The print() statement then prints the value of a and the value of pargs.\n",
    "\n",
    "\n",
    "4. What does this code print, and why?\n",
    ">>> def func(a, **kargs):\n",
    "print(a, kargs)\n",
    ">>> func(a=1, c=3, b=2)\n",
    "\n",
    "The result of the code is (1, {'c': 3, 'b': 2}). The first argument, a, is explicitly passed in the function call, so it takes the value 1. The second argument, **kargs, is a special syntax that allows you to pass in a variable number of keyword arguments to a function. In this case, we are passing in the two keyword arguments c=3 and b=2. The function then assigns these arguments to the dictionary kargs. The print() statement then prints the value of a and the value of kargs.\n",
    "\n",
    "\n",
    "5. What gets printed by this, and explain?\n",
    ">>> def func(a, b, c=8, d=5): print(a, b, c, d)\n",
    ">>> func(1, *(5, 6))\n",
    "\n",
    "The result of the code is (1, 5, 6, 5). The first argument, a, is explicitly passed in the function call, so it takes the value 1. The second argument, b, has a default value of 6, but we are passing in a tuple of two numbers (5, 6) as the second argument. The function then unpacks this tuple and assigns the first number to b and the second number to the variable c. The print() statement then prints the value of a, b, c, and d.\n",
    "\n",
    "\n",
    "6. what is the result of this, and explain?\n",
    ">>> def func(a, b, c): a = 2; b[0] = 'x'; c['a'] = 'y'\n",
    ">>> l=1; m=[1]; n={'a':0}\n",
    ">>> func(l, m, n)\n",
    ">>> l, m, n\n",
    "\n",
    "The result of the code is (1, ['x'], {'a': 'y'}). The function func() first assigns the value 2 to the variable a, then assigns the value 'x' to the first element of the list m, and finally assigns the value 'y' to the key 'a' in the dictionary n. The function then returns None, so the values of l, m, and n are not changed. However, the side effects of the function call are still visible, so l, m, and n will still contain the modified values.\n"
   ]
  }
 ],
 "metadata": {
  "kernelspec": {
   "display_name": "Python 3 (ipykernel)",
   "language": "python",
   "name": "python3"
  },
  "language_info": {
   "codemirror_mode": {
    "name": "ipython",
    "version": 3
   },
   "file_extension": ".py",
   "mimetype": "text/x-python",
   "name": "python",
   "nbconvert_exporter": "python",
   "pygments_lexer": "ipython3",
   "version": "3.9.12"
  }
 },
 "nbformat": 4,
 "nbformat_minor": 5
}
