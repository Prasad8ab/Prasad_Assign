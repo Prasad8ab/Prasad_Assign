{
 "cells": [
  {
   "cell_type": "markdown",
   "id": "9f4e18c6",
   "metadata": {},
   "source": [
    "1.How do you distinguish between shutil.copy() and shutil.copytree()?\n",
    "Ans:\n",
    "The shutil.copy() function is used to copy a single file from the source path to the destination path. It takes two arguments: the source file path and the destination file path. If the destination file already exists, it will be replaced with the source file.\n",
    "\n",
    "On the other hand, the shutil.copytree() function is used to copy an entire directory tree (including all files and subdirectories) from the source path to the destination path. It takes two arguments: the source directory path and the destination directory path. If the destination directory already exists, the function will raise an error unless the optional dirs_exist_ok parameter is set to True.\n",
    "    "
   ]
  },
  {
   "cell_type": "markdown",
   "id": "6fa5dbc5",
   "metadata": {},
   "source": [
    "2. What function is used to rename files?\n",
    "Ans:\n",
    "os.rename() function is commonly used to rename files"
   ]
  },
  {
   "cell_type": "markdown",
   "id": "f6860620",
   "metadata": {},
   "source": [
    "3. What is the difference between the delete functions in the send2trash and shutil modules?\n",
    "Ans:\n",
    "The send2trash module moves files and directories to the system's trash or recycle bin, allowing for potential recovery, while the shutil module directly deletes files and directories permanently. The choice between them depends on whether you want the option to recover deleted files or if you want to permanently remove them.\n",
    "the send2trash module moves files and directories to the system's trash or recycle bin, allowing for potential recovery, while the shutil module directly deletes files and directories permanently. The choice between them depends on whether you want the option to recover deleted files or if you want to permanently remove them."
   ]
  },
  {
   "cell_type": "markdown",
   "id": "1ef8d549",
   "metadata": {},
   "source": [
    "4.ZipFile objects have a close() method just like File objects’ close() method. What ZipFile method is equivalent to File objects’ open() method?\n",
    "Ans:\n",
    "The equivalent method to the open() method for File objects in the ZipFile class is also called ZipFile().\n",
    "The ZipFile() method is used to create a new ZipFile object that can be used to read or write a ZIP file. It takes the path to the ZIP file as its first argument, and an optional mode parameter as its second argument. The mode parameter is used to specify the mode in which the file is opened, which can be 'r' for reading, 'w' for writing, 'x' for exclusive creation, or 'a' for appending to an existing ZIP file"
   ]
  },
  {
   "cell_type": "markdown",
   "id": "303bf2a2",
   "metadata": {},
   "source": [
    "5. Create a programme that searches a folder tree for files with a certain file extension (such as .pdf or .jpg). Copy these files from whatever location they are in to a new folder.\n",
    "Ans:\n"
   ]
  },
  {
   "cell_type": "code",
   "execution_count": 2,
   "id": "d7f72e20",
   "metadata": {},
   "outputs": [],
   "source": [
    "import os\n",
    "import shutil\n",
    "\n",
    "def search_and_copy_files(source_folder, target_folder, file_extension):\n",
    "    # Create the target folder if it doesn't exist\n",
    "    if not os.path.exists(target_folder):\n",
    "        os.makedirs(target_folder)\n",
    "\n",
    "    # Walk through the source folder tree and search for files with the given extension\n",
    "    for foldername, _, filenames in os.walk(source_folder):\n",
    "        for filename in filenames:\n",
    "            if filename.endswith(file_extension):\n",
    "                source_file = os.path.join(foldername, filename)\n",
    "                target_file = os.path.join(target_folder, filename)\n",
    "                shutil.copy2(source_file, target_file)\n",
    "                print(f\"Copied {source_file} to {target_file}\")\n",
    "\n",
    "# Provide the source folder, target folder, and file extension\n",
    "source_folder = \"/path/to/source/folder\"\n",
    "target_folder = \"/path/to/target/folder\"\n",
    "file_extension = \".pdf\"  # Change this to the desired file extension\n",
    "\n",
    "# Call the function to search and copy the files\n",
    "search_and_copy_files(source_folder, target_folder, file_extension)\n"
   ]
  },
  {
   "cell_type": "code",
   "execution_count": null,
   "id": "4ff0afb5",
   "metadata": {},
   "outputs": [],
   "source": []
  }
 ],
 "metadata": {
  "kernelspec": {
   "display_name": "Python 3 (ipykernel)",
   "language": "python",
   "name": "python3"
  },
  "language_info": {
   "codemirror_mode": {
    "name": "ipython",
    "version": 3
   },
   "file_extension": ".py",
   "mimetype": "text/x-python",
   "name": "python",
   "nbconvert_exporter": "python",
   "pygments_lexer": "ipython3",
   "version": "3.9.12"
  }
 },
 "nbformat": 4,
 "nbformat_minor": 5
}
