{
 "cells": [
  {
   "cell_type": "markdown",
   "id": "352db705",
   "metadata": {},
   "source": [
    "1. Is the Python Standard Library included with PyInputPlus?\n",
    "Ans:\n",
    "PyInputPlus does not include or modify the Python Standard Library, which is a collection of modules and packages that come bundled with Python itself and provide a wide range of functionality for various tasks."
   ]
  },
  {
   "cell_type": "markdown",
   "id": "fc03fbca",
   "metadata": {},
   "source": [
    "2. Why is PyInputPlus commonly imported with import pyinputplus as pypi?\n",
    "Ans:\n",
    "By importing pyinputplus as pypi, you can use the alias pypi to access the functionality provided by PyInputPlus throughout your code. This can make the code shorter, easier to read, and less prone to typos when referencing PyInputPlus functions and classes."
   ]
  },
  {
   "cell_type": "markdown",
   "id": "8667b41a",
   "metadata": {},
   "source": [
    "3. How do you distinguish between inputInt() and inputFloat()?\n",
    "Ans:\n",
    "inputInt(): This function prompts the user to enter an integer value. If the user provides a non-integer input, PyInputPlus will reprompt them until a valid integer is entered. The function returns the user's input as an integer.\n",
    "inputFloat(): This function prompts the user to enter a floating-point number. Similar to inputInt(), it keeps reprompting until the user provides a valid floating-point number. The function returns the user's input as a float."
   ]
  },
  {
   "cell_type": "markdown",
   "id": "8d7c54dd",
   "metadata": {},
   "source": [
    "4. Using PyInputPlus, how do you ensure that the user enters a whole number between 0 and 99?\n",
    "Ans:\n",
    "To ensure that the user enters a whole number between 0 and 99 using PyInputPlus, you can use the inputInt() function with additional arguments for input validation.\n",
    "For Eg. num = pypi.inputInt(\"Enter a number between 0 and 99: \", min=0, max=99)"
   ]
  },
  {
   "cell_type": "markdown",
   "id": "332cf34b",
   "metadata": {},
   "source": [
    "5. What is transferred to the keyword arguments allowRegexes and blockRegexes?\n",
    "Ans:\n",
    "allowRegexes: This argument accepts a list of regular expressions. When provided, PyInputPlus will allow inputs that match any of the regular expressions in the list. If the user's input matches any of the allowed regular expressions, it will be considered valid.\n",
    "\n",
    "blockRegexes: This argument also accepts a list of regular expressions. If any of the user's inputs match any of the regular expressions in the blockRegexes list, PyInputPlus will reject those inputs and reprompt the user until a valid input is provided."
   ]
  },
  {
   "cell_type": "markdown",
   "id": "7cb5d672",
   "metadata": {},
   "source": [
    "6. If a blank input is entered three times, what does inputStr(limit=3) do?\n",
    "Ans:\n",
    "If the user enters a blank input three times in a row, PyInputPlus will raise a pyinputplus.RetryLimitException indicating that the retry limit has been exceeded."
   ]
  },
  {
   "cell_type": "markdown",
   "id": "d30e610d",
   "metadata": {},
   "source": [
    "7. If blank input is entered three times, what does inputStr(limit=3, default='hello') do?\n",
    "Ans:\n",
    "If the user enters a blank input three times in a row, instead of raising an exception, PyInputPlus will return the default value 'hello'."
   ]
  },
  {
   "cell_type": "code",
   "execution_count": null,
   "id": "a050b912",
   "metadata": {},
   "outputs": [],
   "source": []
  }
 ],
 "metadata": {
  "kernelspec": {
   "display_name": "Python 3 (ipykernel)",
   "language": "python",
   "name": "python3"
  },
  "language_info": {
   "codemirror_mode": {
    "name": "ipython",
    "version": 3
   },
   "file_extension": ".py",
   "mimetype": "text/x-python",
   "name": "python",
   "nbconvert_exporter": "python",
   "pygments_lexer": "ipython3",
   "version": "3.9.12"
  }
 },
 "nbformat": 4,
 "nbformat_minor": 5
}
