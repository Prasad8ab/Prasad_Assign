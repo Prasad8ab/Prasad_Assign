{
 "cells": [
  {
   "cell_type": "markdown",
   "id": "96bee75c",
   "metadata": {},
   "source": [
    "Q1. What are the two latest user-defined exception constraints in Python 3.X?\n",
    "\n",
    "The two latest user-defined exception constraints in Python 3.X are:\n",
    "\n",
    "__context__: This attribute holds the context of the exception, which can be used for debugging purposes.\n",
    "__suppress_context__: This attribute, when set to True, prevents the context of the exception from being displayed.\n",
    "Q2. How are class-based exceptions that have been raised matched to handlers?\n",
    "\n",
    "Class-based exceptions that have been raised are matched to handlers by their type. For example, if a ValueError exception is raised, it will be handled by an except ValueError: clause.\n",
    "\n",
    "Q3. Describe two methods for attaching context information to exception artefacts.\n",
    "\n",
    "There are two methods for attaching context information to exception artefacts:\n",
    "\n",
    "The with statement: The with statement can be used to attach context information to an exception by using the contextlib.contextmanager decorator.\n",
    "The __context__ attribute: The __context__ attribute can be used to attach context information to an exception by setting it to an object that contains the context information.\n",
    "Q4. Describe two methods for specifying the text of an exception object's error message.\n",
    "\n",
    "There are two methods for specifying the text of an exception object's error message:\n",
    "\n",
    "The args attribute: The args attribute can be used to specify the text of an exception object's error message by passing a tuple of strings to it.\n",
    "The __str__ method: The __str__ method can be used to specify the text of an exception object's error message by overriding it in the exception class.\n",
    "Q5. Why do you no longer use string-based exceptions?\n",
    "\n",
    "String-based exceptions are no longer used in Python because they are not as flexible as class-based exceptions. Class-based exceptions allow for more complex error handling, such as attaching context information to exceptions and specifying the text of an exception object's error message."
   ]
  }
 ],
 "metadata": {
  "kernelspec": {
   "display_name": "Python 3 (ipykernel)",
   "language": "python",
   "name": "python3"
  },
  "language_info": {
   "codemirror_mode": {
    "name": "ipython",
    "version": 3
   },
   "file_extension": ".py",
   "mimetype": "text/x-python",
   "name": "python",
   "nbconvert_exporter": "python",
   "pygments_lexer": "ipython3",
   "version": "3.9.12"
  }
 },
 "nbformat": 4,
 "nbformat_minor": 5
}
