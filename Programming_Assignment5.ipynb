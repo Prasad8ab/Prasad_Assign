{
 "cells": [
  {
   "cell_type": "code",
   "execution_count": 2,
   "id": "2e93a164",
   "metadata": {},
   "outputs": [
    {
     "name": "stdout",
     "output_type": "stream",
     "text": [
      "Enter first number :12\n",
      "Enter second number :15\n",
      "LCM of  12 & 15 is 60\n"
     ]
    }
   ],
   "source": [
    "#1 Write a Python Program to Find LCM?\n",
    "\n",
    "#entering two numbers to calculate \n",
    "\n",
    "a=int(input(\"Enter first number :\"))\n",
    "b=int(input(\"Enter second number :\"))\n",
    "\n",
    "#checking the grater number\n",
    "if a>b:\n",
    "    greater =a\n",
    "else:\n",
    "    greater=b\n",
    "    \n",
    "#calculating LCM\n",
    "while(True):\n",
    "    if(greater%a==0) and (greater%b==0):\n",
    "        lcm=greater\n",
    "        break\n",
    "    greater+=1\n",
    "\n",
    "print(\"LCM of \",a,\"&\",b,\"is\",lcm)"
   ]
  },
  {
   "cell_type": "code",
   "execution_count": 10,
   "id": "dced8900",
   "metadata": {},
   "outputs": [
    {
     "name": "stdout",
     "output_type": "stream",
     "text": [
      "Enter first number :123\n",
      "Enter second number :3414\n",
      "HCF of 123 & 3414 = 3\n"
     ]
    }
   ],
   "source": [
    "#2 Write a Python Program to Find HCF?\n",
    "\n",
    "#entering two numbers to calculate \n",
    "\n",
    "a=int(input(\"Enter first number :\"))\n",
    "b=int(input(\"Enter second number :\"))\n",
    "\n",
    "#checking the grater number\n",
    "if a<b:\n",
    "    smaller =a\n",
    "else:\n",
    "    smaller=b\n",
    "    \n",
    "while(smaller>0):\n",
    "    if(a%smaller==0) and (b%smaller==0):\n",
    "        HCF=smaller\n",
    "        break\n",
    "    smaller-=1\n",
    "\n",
    "print(\"HCF of\",a,'&',b,\"=\", HCF)"
   ]
  },
  {
   "cell_type": "code",
   "execution_count": 18,
   "id": "5bc71925",
   "metadata": {},
   "outputs": [
    {
     "name": "stdout",
     "output_type": "stream",
     "text": [
      "Enter the number :123\n",
      "Binary of 123 is 0b1111011\n"
     ]
    }
   ],
   "source": [
    "#3 Write a Python Program to Convert Decimal to Binary, Octal and Hexadecimal?\n",
    "\n",
    "#entering two numbers to calculate \n",
    "\n",
    "a=int(input(\"Enter the number :\"))\n",
    "print(\"Binary of\",a,\"is\",bin(a))"
   ]
  },
  {
   "cell_type": "code",
   "execution_count": 20,
   "id": "243a6f11",
   "metadata": {},
   "outputs": [
    {
     "name": "stdout",
     "output_type": "stream",
     "text": [
      "Enter the character :f\n",
      "The ASCII value of 'p' is 112\n"
     ]
    }
   ],
   "source": [
    "#4 Write a Python Program To Find ASCII value of a character?\n",
    "\n",
    "a=str(input(\"Enter the character :\"))\n",
    "print(\"The ASCII value of '\" + c + \"' is\", ord(c))"
   ]
  },
  {
   "cell_type": "code",
   "execution_count": 27,
   "id": "c923105d",
   "metadata": {},
   "outputs": [
    {
     "name": "stdout",
     "output_type": "stream",
     "text": [
      "Enter the first number :20\n",
      "Enter the second number :5\n",
      "Enter the mathematical operation(+,-,*,/ ) :/\n",
      "Division of 20 & 5 is 4.0\n"
     ]
    }
   ],
   "source": [
    "#5 Write a Python Program to Make a Simple Calculator with 4 basic mathematical operations?\n",
    "\n",
    "#input two numbers to calculate \n",
    "a=int(input(\"Enter the first number :\"))\n",
    "b=int(input(\"Enter the second number :\"))\n",
    "c=input(\"Enter the mathematical operation(+,-,*,/ ) :\")\n",
    "\n",
    "if c=='+':\n",
    "    d=a+b\n",
    "    print(\"Sum of\",a,\"&\",b,)\n",
    "elif c=='-':\n",
    "    d=a-b\n",
    "    print(\"Substraction of\",a,\"&\",b,)\n",
    "elif c=='*':\n",
    "    d=a*b\n",
    "    print(\"Multipication of\",a,\"&\",b,)\n",
    "elif c=='/':\n",
    "    d=a/b\n",
    "    print(\"Division of\",a,\"&\",b,\"is\",d)"
   ]
  },
  {
   "cell_type": "code",
   "execution_count": null,
   "id": "9ed7b00b",
   "metadata": {},
   "outputs": [],
   "source": []
  }
 ],
 "metadata": {
  "kernelspec": {
   "display_name": "Python 3 (ipykernel)",
   "language": "python",
   "name": "python3"
  },
  "language_info": {
   "codemirror_mode": {
    "name": "ipython",
    "version": 3
   },
   "file_extension": ".py",
   "mimetype": "text/x-python",
   "name": "python",
   "nbconvert_exporter": "python",
   "pygments_lexer": "ipython3",
   "version": "3.9.12"
  }
 },
 "nbformat": 4,
 "nbformat_minor": 5
}
