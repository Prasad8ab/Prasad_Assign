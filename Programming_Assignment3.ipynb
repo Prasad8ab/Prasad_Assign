{
 "cells": [
  {
   "cell_type": "code",
   "execution_count": 7,
   "id": "d89dd94e",
   "metadata": {},
   "outputs": [
    {
     "name": "stdout",
     "output_type": "stream",
     "text": [
      "Input number :0\n",
      "a=0\n"
     ]
    }
   ],
   "source": [
    "#1 Write a Python Program to Check if a Number is Positive, Negative or Zero?\n",
    "\n",
    "#input the number\n",
    "a=float(input(\"Input number :\"))\n",
    "\n",
    "#condition to check & dispaly\n",
    "if a>0:\n",
    "    print(\"a is positive\")\n",
    "elif a<0:\n",
    "    print(\"a is negative\")\n",
    "else:\n",
    "    print(\"a=0\")\n"
   ]
  },
  {
   "cell_type": "code",
   "execution_count": 15,
   "id": "579efe2c",
   "metadata": {},
   "outputs": [
    {
     "name": "stdout",
     "output_type": "stream",
     "text": [
      "Input number :12\n",
      "a is even number\n"
     ]
    }
   ],
   "source": [
    "#2 Write a Python Program to Check if a Number is Odd or Even?\n",
    "\n",
    "#input the number\n",
    "a=int(input(\"Input number :\"))\n",
    "\n",
    "#condition to check & dispaly\n",
    "if a>0:\n",
    "if a%2 == 0:\n",
    "    print('a is even number')\n",
    "else:\n",
    "    print('a is odd number')\n",
    "\n"
   ]
  },
  {
   "cell_type": "code",
   "execution_count": 25,
   "id": "d2626afd",
   "metadata": {},
   "outputs": [
    {
     "name": "stdout",
     "output_type": "stream",
     "text": [
      "Input the year :12321\n",
      "12321 is not a leap year\n"
     ]
    }
   ],
   "source": [
    "#3 Write a Python Program to Check Leap Year?\n",
    "\n",
    "#input the number\n",
    "a=int(input(\"Input the year :\"))\n",
    "\n",
    "#condition for leap year\n",
    "if a%4==0 and a%100!=0:\n",
    "    print(\"a is a leap year\")\n",
    "    \n",
    "elif a%4==0 and a%100 ==0 and a%400==0:\n",
    "    print('a is a leap year')\n",
    "    \n",
    "else:\n",
    "    print(a, 'is not a leap year')\n",
    "\n"
   ]
  },
  {
   "cell_type": "code",
   "execution_count": 54,
   "id": "f1a853b6",
   "metadata": {},
   "outputs": [
    {
     "name": "stdout",
     "output_type": "stream",
     "text": [
      "Input number greater than 1 :40\n",
      "number is not prime number\n"
     ]
    }
   ],
   "source": [
    "#4 Write a Python Program to Check Prime Number?\n",
    "\n",
    "#input the number\n",
    "a=int(input(\"Input number greater than 1 :\"))\n",
    "i=2\n",
    "\n",
    "#check for prime number\n",
    "while i<a:\n",
    "    if a%i==0:\n",
    "        print('number is not prime number')\n",
    "        break\n",
    "    i=i+1\n",
    "else:        \n",
    "    print('number is prime number')"
   ]
  },
  {
   "cell_type": "code",
   "execution_count": 79,
   "id": "2766f079",
   "metadata": {},
   "outputs": [
    {
     "name": "stdout",
     "output_type": "stream",
     "text": [
      "2 3 5 7 11 13 17 19 23 29 31 37 41 43 47 53 59 61 67 71 73 79 83 89 97 101 103 107 109 113 127 131 137 139 149 151 157 163 167 173 179 181 191 193 197 199 211 223 227 229 233 239 241 251 257 263 269 271 277 281 283 293 307 311 313 317 331 337 347 349 353 359 367 373 379 383 389 397 401 409 419 421 431 433 439 443 449 457 461 463 467 479 487 491 499 503 509 521 523 541 547 557 563 569 571 577 587 593 599 601 607 613 617 619 631 641 643 647 653 659 661 673 677 683 691 701 709 719 727 733 739 743 751 757 761 769 773 787 797 809 811 821 823 827 829 839 853 857 859 863 877 881 883 887 907 911 919 929 937 941 947 953 967 971 977 983 991 997 "
     ]
    }
   ],
   "source": [
    "#5 Write a Python Program to Print all Prime Numbers in an Interval of 1-10000?\n",
    "\n",
    "for a in range(1,1001):\n",
    "    if a>1:\n",
    "        for i in range(2,a):\n",
    "            if a%i==0:\n",
    "                break\n",
    "        else:\n",
    "            print(a, end= ' ')\n"
   ]
  },
  {
   "cell_type": "code",
   "execution_count": 56,
   "id": "c7cbd95e",
   "metadata": {},
   "outputs": [
    {
     "data": {
      "text/plain": [
       "range(0, 1000)"
      ]
     },
     "execution_count": 56,
     "metadata": {},
     "output_type": "execute_result"
    }
   ],
   "source": []
  },
  {
   "cell_type": "code",
   "execution_count": null,
   "id": "5660ab1a",
   "metadata": {},
   "outputs": [],
   "source": []
  }
 ],
 "metadata": {
  "kernelspec": {
   "display_name": "Python 3 (ipykernel)",
   "language": "python",
   "name": "python3"
  },
  "language_info": {
   "codemirror_mode": {
    "name": "ipython",
    "version": 3
   },
   "file_extension": ".py",
   "mimetype": "text/x-python",
   "name": "python",
   "nbconvert_exporter": "python",
   "pygments_lexer": "ipython3",
   "version": "3.9.12"
  }
 },
 "nbformat": 4,
 "nbformat_minor": 5
}
