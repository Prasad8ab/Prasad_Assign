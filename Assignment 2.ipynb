{
 "cells": [
  {
   "cell_type": "markdown",
   "id": "69ea150d",
   "metadata": {},
   "source": [
    "1.What are the two values of the Boolean data type? How do you write them?"
   ]
  },
  {
   "cell_type": "markdown",
   "id": "e2f99dba",
   "metadata": {},
   "source": [
    "TRUE or FALSE, 1 or 0 are two values of boolean data type. "
   ]
  },
  {
   "cell_type": "markdown",
   "id": "cc2d043e",
   "metadata": {},
   "source": [
    "2. What are the three different types of Boolean operators?"
   ]
  },
  {
   "cell_type": "markdown",
   "id": "7bb8b393",
   "metadata": {},
   "source": [
    "AND, OR, NOT are three types of Boomean operators"
   ]
  },
  {
   "cell_type": "markdown",
   "id": "c33934a3",
   "metadata": {},
   "source": [
    "3. Make a list of each Boolean operator's truth tables (i.e. every possible combination of Boolean values for the operator and what it evaluate )."
   ]
  },
  {
   "cell_type": "code",
   "execution_count": null,
   "id": "d097744f",
   "metadata": {},
   "outputs": [],
   "source": [
    "A  B  AND  OR\n",
    "T  T   T   T    \n",
    "T  F   F   T\n",
    "F  F   T   F\n"
   ]
  },
  {
   "cell_type": "markdown",
   "id": "379cc564",
   "metadata": {},
   "source": [
    "4. What are the values of the following expressions?\n",
    "(5 > 4) and (3 == 5)\n",
    "not (5 > 4)\n",
    "(5 > 4) or (3 == 5)\n",
    "not ((5 > 4) or (3 == 5))\n",
    "(True and True) and (True == False)\n",
    "(not False) or (not True)\n"
   ]
  },
  {
   "cell_type": "markdown",
   "id": "44570a48",
   "metadata": {},
   "source": [
    "Ans:\n",
    "(5 > 4) and (3 == 5) - False\n",
    "not (5 > 4) - False\n",
    "(5 > 4) or (3 == 5) - True\n",
    "not ((5 > 4) or (3 == 5)) - False\n",
    "(True and True) and (True == False) - False\n",
    "(not False) or (not True) - True\n"
   ]
  },
  {
   "cell_type": "markdown",
   "id": "5e6e06d0",
   "metadata": {},
   "source": [
    "5. What are the six comparison operators?"
   ]
  },
  {
   "cell_type": "markdown",
   "id": "a1c5bb36",
   "metadata": {},
   "source": [
    "Equal Operator (=)\n",
    "Not Equal Operator (!=)\n",
    "Greater Than Equals to Operator (>=)\n",
    "Less Than Operator (<)\n",
    "Greater Than Operator (>)\n",
    "Less Than Equals to Operator (<=)"
   ]
  },
  {
   "cell_type": "markdown",
   "id": "28dfd614",
   "metadata": {},
   "source": [
    "6. How do you tell the difference between the equal to and assignment operators?Describe a condition and when you would use one."
   ]
  },
  {
   "cell_type": "markdown",
   "id": "2588f0ca",
   "metadata": {},
   "source": [
    "= is a assignment operator and == is a comparison operator.= operator is used to assign value to a variable and == operator is used to compare two variable or constants"
   ]
  },
  {
   "cell_type": "markdown",
   "id": "7e8cdb72",
   "metadata": {},
   "source": [
    "7. Identify the three blocks in this code:\n",
    "spam = 0\n",
    "if spam == 10:\n",
    "print('eggs')\n",
    "if spam > 5:\n",
    "print('bacon')\n",
    "else:\n",
    "print('ham')\n",
    "print('spam')\n",
    "print('spam')\n"
   ]
  },
  {
   "cell_type": "markdown",
   "id": "fb1a4adc",
   "metadata": {},
   "source": [
    "The blocks inside the if statement and the lines print('bacon') and print('ham')\n",
    "\n",
    "spam = 0\n",
    "if spam == 10:\n",
    "   print('eggs')\n",
    "if spam > 5:\n",
    "     print('bacon')\n",
    "else:\n",
    "   print('ham')\n",
    "   print('spam')\n",
    "   print('spam')"
   ]
  },
  {
   "cell_type": "markdown",
   "id": "d0043784",
   "metadata": {},
   "source": [
    "8. Write code that prints Hello if 1 is stored in spam, prints Howdy if 2 is stored in spam, and prints Greetings! if anything else is stored in spam."
   ]
  },
  {
   "cell_type": "code",
   "execution_count": 1,
   "id": "d3cb400e",
   "metadata": {},
   "outputs": [
    {
     "name": "stdout",
     "output_type": "stream",
     "text": [
      "2\n",
      "Howdy\n"
     ]
    }
   ],
   "source": [
    "spam = input()\n",
    "if spam == \"1\":\n",
    "   print('Hello')\n",
    "elif spam == \"2\":\n",
    "    print(\"Howdy\")\n",
    "else:\n",
    "    print(\"Greeting!\")"
   ]
  },
  {
   "cell_type": "markdown",
   "id": "b101d786",
   "metadata": {},
   "source": [
    "9.If your programme is stuck in an endless loop, what keys you’ll press?\n",
    "\n",
    "CTRL + C "
   ]
  },
  {
   "cell_type": "markdown",
   "id": "ca39ea7a",
   "metadata": {},
   "source": [
    "10. How can you tell the difference between break and continue?\n",
    "Break keyword terminates the rest of remaining iterations of the loop. While, the continue keyword terminates only the current iteration of the loop"
   ]
  },
  {
   "cell_type": "markdown",
   "id": "85cfc099",
   "metadata": {},
   "source": [
    "11. In a for loop, what is the difference between range(10), range(0, 10), and range(0, 10, 1)?\n",
    "\n",
    "There is no difference"
   ]
  },
  {
   "cell_type": "markdown",
   "id": "98d681cc",
   "metadata": {},
   "source": [
    "12. Write a short program that prints the numbers 1 to 10 using a for loop. Then write an equivalent program that prints the numbers 1 to 10 using a while loop."
   ]
  },
  {
   "cell_type": "code",
   "execution_count": 2,
   "id": "511e4b3a",
   "metadata": {},
   "outputs": [
    {
     "name": "stdout",
     "output_type": "stream",
     "text": [
      "1\n",
      "2\n",
      "3\n",
      "4\n",
      "5\n",
      "6\n",
      "7\n",
      "8\n",
      "9\n",
      "10\n"
     ]
    }
   ],
   "source": [
    "for i in range(1,11):\n",
    "    print(i)"
   ]
  },
  {
   "cell_type": "code",
   "execution_count": 4,
   "id": "7bd764e6",
   "metadata": {},
   "outputs": [
    {
     "name": "stdout",
     "output_type": "stream",
     "text": [
      "1\n",
      "2\n",
      "3\n",
      "4\n",
      "5\n",
      "6\n",
      "7\n",
      "8\n",
      "9\n",
      "10\n"
     ]
    }
   ],
   "source": [
    "i=1\n",
    "while i <= 10:\n",
    "    print(i)\n",
    "    i=i+1;"
   ]
  },
  {
   "cell_type": "markdown",
   "id": "2e2a657e",
   "metadata": {},
   "source": [
    "13. If you had a function named bacon() inside a module named spam, how would you call it after importing spam?\n",
    "\n",
    "Ans\n",
    "If we have bacon () funtion in spam module then first we need to import the module and then we need to import the funtion too. from spam import bacon. I can be called as spam.bacon()."
   ]
  }
 ],
 "metadata": {
  "kernelspec": {
   "display_name": "Python 3 (ipykernel)",
   "language": "python",
   "name": "python3"
  },
  "language_info": {
   "codemirror_mode": {
    "name": "ipython",
    "version": 3
   },
   "file_extension": ".py",
   "mimetype": "text/x-python",
   "name": "python",
   "nbconvert_exporter": "python",
   "pygments_lexer": "ipython3",
   "version": "3.9.12"
  }
 },
 "nbformat": 4,
 "nbformat_minor": 5
}
