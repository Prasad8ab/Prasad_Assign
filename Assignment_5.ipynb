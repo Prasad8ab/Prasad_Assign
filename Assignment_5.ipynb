{
 "cells": [
  {
   "cell_type": "markdown",
   "id": "2f91755c",
   "metadata": {},
   "source": [
    "1 What does an empty dictionary's code look like?\n",
    "\n",
    "Ans: assign no elements in curly brackets {}"
   ]
  },
  {
   "cell_type": "markdown",
   "id": "da75e108",
   "metadata": {},
   "source": [
    "2 What is the value of a dictionary value with the key 'foo' and the value 42?\n",
    "\n",
    "Ans: {'foo':42}\n"
   ]
  },
  {
   "cell_type": "markdown",
   "id": "d9db9628",
   "metadata": {},
   "source": [
    "3 What is the most significant distinction between a dictionary and a list?\n",
    "\n",
    "Ans:A list is an ordered sequence of objects, whereas dictionaries are unordered sets. However, the main difference is that items in dictionaries are accessed via keys and not via their position."
   ]
  },
  {
   "cell_type": "markdown",
   "id": "8f55345c",
   "metadata": {},
   "source": [
    "4 What happens if you try to access spam['foo'] if spam is {'bar': 100}?\n",
    "\n",
    "Ans:This will give us key erro"
   ]
  },
  {
   "cell_type": "markdown",
   "id": "0a956113",
   "metadata": {},
   "source": [
    "5 If a dictionary is stored in spam, what is the difference between the expressions 'cat' in spam and 'cat' in spam.keys()?\n",
    "\n",
    "Ans: No difference. The in operator checks whether a value exists as a key in the dictionary."
   ]
  },
  {
   "cell_type": "markdown",
   "id": "27135c6d",
   "metadata": {},
   "source": [
    "6 If a dictionary is stored in spam, what is the difference between the expressions 'cat' in spam and 'cat' in spam.values()?\n",
    "\n",
    "Ans: 'cat' in spam checks whether there is a 'cat' key in the dictionary, while 'cat' in spam.values() checks whether there is a value 'cat' for one of the keys in spam."
   ]
  },
  {
   "cell_type": "markdown",
   "id": "ec11a92d",
   "metadata": {},
   "source": [
    "7 What is a shortcut for the following code?\n",
    "if 'color' not in spam:\n",
    "    spam['color'] = 'black'\n",
    "    \n",
    "Ans:spam.setdefault ('color','black')\n"
   ]
  },
  {
   "cell_type": "markdown",
   "id": "01f1f966",
   "metadata": {},
   "source": [
    "8 How do you \"pretty print\" dictionary values using which module and function?\n",
    "\n",
    "Ans: pprint.pprint()"
   ]
  }
 ],
 "metadata": {
  "kernelspec": {
   "display_name": "Python 3 (ipykernel)",
   "language": "python",
   "name": "python3"
  },
  "language_info": {
   "codemirror_mode": {
    "name": "ipython",
    "version": 3
   },
   "file_extension": ".py",
   "mimetype": "text/x-python",
   "name": "python",
   "nbconvert_exporter": "python",
   "pygments_lexer": "ipython3",
   "version": "3.9.12"
  }
 },
 "nbformat": 4,
 "nbformat_minor": 5
}
