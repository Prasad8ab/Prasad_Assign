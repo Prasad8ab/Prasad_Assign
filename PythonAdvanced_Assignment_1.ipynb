{
 "cells": [
  {
   "cell_type": "markdown",
   "id": "aaa4fddf",
   "metadata": {},
   "source": [
    "Q1. What is the purpose of Python's OOP?\n",
    "\n",
    "The purpose of Python's OOP is to make code more modular, reusable, and understandable. By encapsulating data and behavior within objects, OOP makes it easier to understand how a program works and to make changes to it.\n",
    "\n",
    "Q2. Where does an inheritance search look for an attribute?\n",
    "\n",
    "When an attribute is not found in an object, the inheritance search looks for it in the object's class. If the attribute is not found in the class, the search continues up the class hierarchy until it is found or until it reaches the top of the hierarchy.\n",
    "\n",
    "Q3. How do you distinguish between a class object and an instance object?\n",
    "\n",
    "A class object is a blueprint for creating instances. It defines the attributes and methods that all instances of the class will have. An instance object is a specific, concrete instance of a class. It has its own unique values for the attributes defined by the class, and it can call the methods defined by the class.\n",
    "\n",
    "Q4. What makes the first argument in a class’s method function special?\n",
    "\n",
    "The first argument in a class's method function is always the instance of the class on which the method is being called. This argument is called self by convention.\n",
    "\n",
    "Q5. What is the purpose of the init method?\n",
    "\n",
    "The __init__ method is a special method that is called when an instance of a class is created. It is used to initialize the instance's attributes."
   ]
  },
  {
   "cell_type": "markdown",
   "id": "dba3ac7e",
   "metadata": {},
   "source": [
    "Q6. What is the process for creating a class instance?\n",
    "\n",
    "Ans:\n",
    "\n"
   ]
  },
  {
   "cell_type": "code",
   "execution_count": 1,
   "id": "cc34d732",
   "metadata": {},
   "outputs": [],
   "source": [
    "class Car:\n",
    "    def __init__(self, make, model):\n",
    "        self.make = make\n",
    "        self.model = model\n",
    "\n",
    "my_car = Car(\"Honda\", \"Civic\")\n"
   ]
  },
  {
   "cell_type": "markdown",
   "id": "f0426ffe",
   "metadata": {},
   "source": [
    "Q7. What is the process for creating a class?\n",
    "\n",
    "To create a class, you use the class keyword followed by the name of the class. You then define the attributes and methods of the class. For example:"
   ]
  },
  {
   "cell_type": "code",
   "execution_count": 2,
   "id": "39b01eac",
   "metadata": {},
   "outputs": [
    {
     "name": "stdout",
     "output_type": "stream",
     "text": [
      "The car is driving.\n"
     ]
    }
   ],
   "source": [
    "class Car:\n",
    "    def __init__(self, make, model):\n",
    "        self.make = make\n",
    "        self.model = model\n",
    "\n",
    "    def drive(self):\n",
    "        print(\"The car is driving.\")\n",
    "\n",
    "my_car = Car(\"Honda\", \"Civic\")\n",
    "my_car.drive()\n"
   ]
  },
  {
   "cell_type": "markdown",
   "id": "73e738ed",
   "metadata": {},
   "source": [
    "Q8. How would you define the superclasses of a class?\n",
    "\n",
    "The superclasses of a class are the classes from which it inherits. A class can have one or more superclasses. To define the superclasses of a class, you use the inherits keyword followed by a comma-separated list of class names. For example:"
   ]
  },
  {
   "cell_type": "code",
   "execution_count": null,
   "id": "56c2acac",
   "metadata": {},
   "outputs": [],
   "source": [
    "class Car(Vehical):\n",
    "    def __init__(self, make, model):\n",
    "        super().__init__(make, model)\n",
    "\n",
    "    def drive(self):\n",
    "        print(\"The car is driving.\")\n",
    "\n",
    "my_car = Car(\"Honda\", \"Civic\")\n"
   ]
  },
  {
   "cell_type": "code",
   "execution_count": null,
   "id": "b294fc4a",
   "metadata": {},
   "outputs": [],
   "source": []
  },
  {
   "cell_type": "code",
   "execution_count": null,
   "id": "fe5118a6",
   "metadata": {},
   "outputs": [],
   "source": []
  }
 ],
 "metadata": {
  "kernelspec": {
   "display_name": "Python 3 (ipykernel)",
   "language": "python",
   "name": "python3"
  },
  "language_info": {
   "codemirror_mode": {
    "name": "ipython",
    "version": 3
   },
   "file_extension": ".py",
   "mimetype": "text/x-python",
   "name": "python",
   "nbconvert_exporter": "python",
   "pygments_lexer": "ipython3",
   "version": "3.9.12"
  }
 },
 "nbformat": 4,
 "nbformat_minor": 5
}
