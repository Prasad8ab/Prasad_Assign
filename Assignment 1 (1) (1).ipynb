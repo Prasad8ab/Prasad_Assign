{
 "cells": [
  {
   "cell_type": "markdown",
   "id": "a8abc662",
   "metadata": {},
   "source": [
    "1. In the below elements which of them are values or an expression? eg:- values can be integer or string and expressions will be mathematical operators.\n",
    "\n",
    "Ans:\n",
    "* - Expression\n",
    "'hello' - Values\n",
    "-87.8 - Values\n",
    "- - Expression\n",
    "/ - Expression\n",
    "+ - Expression\n",
    "6 - Values"
   ]
  },
  {
   "cell_type": "markdown",
   "id": "9b2a4433",
   "metadata": {},
   "source": [
    "2. What is the difference between string and variable?\n",
    "\n",
    "Ans:\n",
    "String is a value representating text while variable is a name that can refer to any value"
   ]
  },
  {
   "cell_type": "markdown",
   "id": "98a726d5",
   "metadata": {},
   "source": [
    "3. Describe three different data types.\n",
    "\n",
    "Ans:\n",
    "Tuple: used to store differe data type of elements and is immutable\n",
    "List: used to store differe data type of elements and is mutable\n",
    "Set: used to store differe data type of elements and is mutable and stores unique elements"
   ]
  },
  {
   "cell_type": "markdown",
   "id": "3b50d629",
   "metadata": {},
   "source": [
    "4. What is an expression made up of? What do all expressions do?\n",
    "\n",
    "Ans:\n",
    "Expression consists of values & operation and they can be reduced to a single value.They are representaion of value"
   ]
  },
  {
   "cell_type": "markdown",
   "id": "688e772e",
   "metadata": {},
   "source": [
    "5. This assignment statements, like spam = 10. What is the difference between an expression and a statement?\n",
    "\n",
    "Ans:\n",
    "Expressions always returns a value while statement never returns a value"
   ]
  },
  {
   "cell_type": "markdown",
   "id": "facbcd32",
   "metadata": {},
   "source": [
    "6. After running the following code, what does the variable bacon contain?\n",
    "\n",
    "Ans:\n",
    "bacon = 22\n",
    "bacon + 1\n",
    "Ans:\n",
    "bacon contains 22\n"
   ]
  },
  {
   "cell_type": "markdown",
   "id": "5d1f8b21",
   "metadata": {},
   "source": [
    "7. What should the values of the following two terms be?\n",
    "\n",
    "Ans:\n",
    "'spam' + 'spamspam' - 'spamspamspam'\n",
    "'spam' * 3 -          'spamspamspam'"
   ]
  },
  {
   "cell_type": "markdown",
   "id": "c7571c65",
   "metadata": {},
   "source": [
    "8. Why is eggs a valid variable name while 100 is invalid?\n",
    "\n",
    "Ans:\n",
    "The number 100 is an integer and variable name can have numbers but not at the beginning. Since 1 is a number & is at begnining we cannont use it as a varible"
   ]
  },
  {
   "cell_type": "markdown",
   "id": "5fbdfa4a",
   "metadata": {},
   "source": [
    "9. What three functions can be used to get the integer, floating-point number, or string version of a value?\n",
    "\n",
    "Ans:\n",
    "int(), float(), str()"
   ]
  },
  {
   "cell_type": "markdown",
   "id": "de501790",
   "metadata": {},
   "source": [
    "10. Why does this expression cause an error? How can you fix it?\n",
    "'I have eaten ' + 99 + ' burritos.'\n",
    "\n",
    "Ans:\n",
    "\n",
    "It is giving errors because only strings can be concatenated with string with +operator. To fix it convert intger 99 to string\n",
    "'I have eaten ' + str(99) + ' burritos.'"
   ]
  },
  {
   "cell_type": "markdown",
   "id": "4480c259",
   "metadata": {},
   "source": []
  }
 ],
 "metadata": {
  "kernelspec": {
   "display_name": "Python 3 (ipykernel)",
   "language": "python",
   "name": "python3"
  },
  "language_info": {
   "codemirror_mode": {
    "name": "ipython",
    "version": 3
   },
   "file_extension": ".py",
   "mimetype": "text/x-python",
   "name": "python",
   "nbconvert_exporter": "python",
   "pygments_lexer": "ipython3",
   "version": "3.9.12"
  }
 },
 "nbformat": 4,
 "nbformat_minor": 5
}
