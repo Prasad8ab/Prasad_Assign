{
 "cells": [
  {
   "cell_type": "markdown",
   "id": "1d2cf7cd",
   "metadata": {},
   "source": [
    "1. In the below elements which of them are values or an expression? eg:- values can be integer or string and expressions will be mathematical operators.\n",
    "\n",
    "Ans:\n",
    "* - Expression\n",
    "'hello' - Values\n",
    "-87.8 - Values\n",
    "- - Expression\n",
    "/ - Expression\n",
    "+ - Expression\n",
    "6 - Values"
   ]
  },
  {
   "cell_type": "markdown",
   "id": "7b7c1bcc",
   "metadata": {},
   "source": [
    "2. What is the difference between string and variable?\n",
    "Ans:\n",
    "String is a value representating text while variable is a name that can refer to any value"
   ]
  },
  {
   "cell_type": "markdown",
   "id": "ea9029c9",
   "metadata": {},
   "source": [
    "3. Describe three different data types.\n",
    "Ans:\n",
    "Tuple: used to store differe data type of elements and is immutable\n",
    "List: used to store differe data type of elements and is mutable\n",
    "Set: used to store differe data type of elements and is mutable and stores unique elements"
   ]
  },
  {
   "cell_type": "markdown",
   "id": "2e3452e1",
   "metadata": {},
   "source": [
    "4. What is an expression made up of? What do all expressions do?\n",
    "Ans:\n",
    "Expression consists of values & operation and they can be reduced to a single value.They are representaion of value"
   ]
  },
  {
   "cell_type": "markdown",
   "id": "3f82e9c5",
   "metadata": {},
   "source": [
    "5. This assignment statements, like spam = 10. What is the difference between an expression and a statement?\n",
    "Ans:\n",
    "Expressions always returns a value while statement never returns a value"
   ]
  },
  {
   "cell_type": "markdown",
   "id": "8464b9f2",
   "metadata": {},
   "source": [
    "6. After running the following code, what does the variable bacon contain?\n",
    "bacon = 22\n",
    "bacon + 1\n",
    "Ans:\n",
    "bacon contains 22\n"
   ]
  },
  {
   "cell_type": "markdown",
   "id": "1cc25e5c",
   "metadata": {},
   "source": [
    "7. What should the values of the following two terms be?\n",
    "Ans:\n",
    "'spam' + 'spamspam' - 'spamspamspam'\n",
    "'spam' * 3 -          'spamspamspam'"
   ]
  },
  {
   "cell_type": "markdown",
   "id": "437b150f",
   "metadata": {},
   "source": [
    "8. Why is eggs a valid variable name while 100 is invalid?\n",
    "Ans:\n",
    "The number 100 is an integer and variable name can have numbers but not at the beginning. Since 1 is a number & is at begnining we cannont use it as a varible"
   ]
  },
  {
   "cell_type": "markdown",
   "id": "adc5dccd",
   "metadata": {},
   "source": [
    "9. What three functions can be used to get the integer, floating-point number, or string version of a value?\n",
    "Ans:\n",
    "int(), float(), str()"
   ]
  },
  {
   "cell_type": "markdown",
   "id": "12f84e7d",
   "metadata": {},
   "source": [
    "10. Why does this expression cause an error? How can you fix it?\n",
    "'I have eaten ' + 99 + ' burritos.'\n",
    "Ans:\n",
    "\n",
    "It is giving errors because only strings can be concatenated with string with +operator. To fix it convert intger 99 to string\n",
    "'I have eaten ' + str(99) + ' burritos.'"
   ]
  },
  {
   "cell_type": "markdown",
   "id": "753919f5",
   "metadata": {},
   "source": []
  }
 ],
 "metadata": {
  "kernelspec": {
   "display_name": "Python 3 (ipykernel)",
   "language": "python",
   "name": "python3"
  },
  "language_info": {
   "codemirror_mode": {
    "name": "ipython",
    "version": 3
   },
   "file_extension": ".py",
   "mimetype": "text/x-python",
   "name": "python",
   "nbconvert_exporter": "python",
   "pygments_lexer": "ipython3",
   "version": "3.9.12"
  }
 },
 "nbformat": 4,
 "nbformat_minor": 5
}
