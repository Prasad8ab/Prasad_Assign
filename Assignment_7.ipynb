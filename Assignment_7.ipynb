{
 "cells": [
  {
   "cell_type": "markdown",
   "id": "d41e3ea6",
   "metadata": {},
   "source": [
    "1. What is the name of the feature responsible for generating Regex objects?\n",
    "Ans:\n",
    "The re.compile() function is used to create a Regex object by compiling a regular expression pattern."
   ]
  },
  {
   "cell_type": "markdown",
   "id": "05ba99a4",
   "metadata": {},
   "source": [
    "2. Why do raw strings often appear in Regex objects?\n",
    "Ans:\n",
    "Raw strings often appear in Regex objects because they prevent backslashes from being intrepreted as escape characters."
   ]
  },
  {
   "cell_type": "markdown",
   "id": "90811fd6",
   "metadata": {},
   "source": [
    "3. What is the return value of the search() method?\n",
    "Ans:\n",
    "If the search() method finds a match in the string, it returns a match object that contains information about the match, such as the start and end position of the match, the matched substring, and any captured groups."
   ]
  },
  {
   "cell_type": "markdown",
   "id": "053455ce",
   "metadata": {},
   "source": [
    "4. From a Match item, how do you get the actual strings that match the pattern?\n",
    "Ans:\n",
    "To get the actual strings that match the pattern from a Match object, group() method can be used.\n",
    "\n",
    "The group() method returns the string that matched the regular expression pattern. By default, group(0) returns the entire match, while group(n) returns the nth captured group."
   ]
  },
  {
   "cell_type": "markdown",
   "id": "8fb245db",
   "metadata": {},
   "source": [
    "5. In the regex which created from the r'(\\d\\d\\d)-(\\d\\d\\d-\\d\\d\\d\\d)', what does group zero cover? Group 2? Group 1?\n",
    "Ans:\n",
    "The regular expression r'(\\d\\d\\d)-(\\d\\d\\d-\\d\\d\\d\\d)' contains two groups denoted by the parentheses ().\n",
    "\n",
    "Group 0, also known as the entire match or the match object, covers the entire string that matches the pattern. It includes both groups 1 and 2, as well as any other characters that are matched by the pattern.\n",
    "\n",
    "Group 1 covers the first three digits before the hyphen in the string that matches the pattern.\n",
    "\n",
    "Group 2 covers the seven digits after the hyphen in the string that matches the pattern."
   ]
  },
  {
   "cell_type": "markdown",
   "id": "5443084b",
   "metadata": {},
   "source": [
    "6. In standard expression syntax, parentheses and intervals have distinct meanings. How can you tell a regex that you want it to fit real parentheses and periods?\n",
    "Ans:\n",
    "In regular expressions, parentheses and periods have special meanings and are used to create capturing groups and match any single character (except for a newline), respectively. To match real parentheses and periods as literal characters in a regular expression, you need to escape them with a backslash \\.\n",
    "\n",
    "To escape a character in a regular expression, you simply add a backslash \\ before the character you want to escape. For example, to match a real left parenthesis ( in a regular expression, you would use the escaped sequence \\(. Similarly, to match a real right parenthesis ), you would use the escaped sequence \\)."
   ]
  },
  {
   "cell_type": "markdown",
   "id": "e1dcbeeb",
   "metadata": {},
   "source": [
    "7. The findall() method returns a string list or a list of string tuples. What causes it to return one of the two options?\n",
    "Ans:\n",
    "The findall() method in Python's re module returns either a list of strings or a list of tuples of strings, depending on whether the regular expression pattern being searched contains capturing groups or not.\n",
    "\n",
    "If the regular expression pattern contains no capturing groups, then findall() returns a list of strings, where each element of the list is a match for the entire pattern.\n",
    "\n",
    "On the other hand, if the regular expression pattern contains one or more capturing groups, then findall() returns a list of tuples of strings, where each tuple contains the matched substrings for each capturing group."
   ]
  },
  {
   "cell_type": "markdown",
   "id": "723e2a5e",
   "metadata": {},
   "source": [
    "8. In standard expressions, what does the | character mean?\n",
    "Ans:\n",
    "The | character, is a logical operator that represents the OR operation. It is used to match any one of a set of alternatives."
   ]
  },
  {
   "cell_type": "markdown",
   "id": "abe9f71f",
   "metadata": {},
   "source": [
    "9. In regular expressions, what does the character stand for?\n",
    "Ans:\n",
    "In regular expressions, . character is a special metacharacter that matches any character except for a newline character. It can be used to represent any character in a pattern."
   ]
  },
  {
   "cell_type": "markdown",
   "id": "9dadb151",
   "metadata": {},
   "source": [
    "10.In regular expressions, what is the difference between the + and * characters?\n",
    "Ans:\n",
    "In regular expressions, the + and * characters are both quantifiers that specify how many times the previous character or group should be matched.\n",
    "\n",
    "The * (asterisk) character matches zero or more occurrences of the previous character or group. For example, the regular expression ab*c matches \"ac\", \"abc\", \"abbc\", \"abbbc\", and so on.\n",
    "\n",
    "The + (plus) character matches one or more occurrences of the previous character or group. For example, the regular expression ab+c matches \"abc\", \"abbc\", \"abbbc\", and so on, but not \"ac\"."
   ]
  },
  {
   "cell_type": "markdown",
   "id": "dc261f33",
   "metadata": {},
   "source": [
    "11. What is the difference between {4} and {4,5} in regular expression?\n",
    "Ans:\n",
    "In regular expressions, {4} and {4,5} are both quantifiers that specify how many times the previous character or group should be matched.\n",
    "\n",
    "The {4} quantifier matches exactly four occurrences of the previous character or group. For example, the regular expression a{4} matches \"aaaa\" but not \"aaa\" or \"aaaaa\".\n",
    "\n",
    "The {4,5} quantifier matches between four and five occurrences of the previous character or group. For example, the regular expression a{4,5} matches \"aaaa\" and \"aaaaa\" but not \"aaa\" or \"aaaaaa\"."
   ]
  },
  {
   "cell_type": "markdown",
   "id": "b143ebb9",
   "metadata": {},
   "source": [
    "12. What do you mean by the \\d, \\w, and \\s shorthand character classes signify in regular expressions?\n",
    "Ans:\n",
    "In regular expressions, shorthand character classes are predefined character classes that match certain types of characters. \\d, \\w, and \\s are three common shorthand character classes:\n",
    "\n",
    "\\d matches any digit character, equivalent to [0-9].\n",
    "\\w matches any alphanumeric character and underscore, equivalent to [a-zA-Z0-9_].\n",
    "\\s matches any whitespace character, including spaces, tabs, and newlines."
   ]
  },
  {
   "cell_type": "markdown",
   "id": "81d297f8",
   "metadata": {},
   "source": [
    "13. What do means by \\D, \\W, and \\S shorthand character classes signify in regular expressions?\n",
    "Ans:\n",
    "In regular expressions, the uppercase versions of the \\d, \\w, and \\s shorthand character classes (\\D, \\W, and \\S, respectively) match any character that is not a member of the corresponding lowercase character class. Specifically:\n",
    "\n",
    "\\D matches any non-digit character, equivalent to [^0-9].\n",
    "\\W matches any non-alphanumeric character or underscore, equivalent to [^a-zA-Z0-9_].\n",
    "\\S matches any non-whitespace character."
   ]
  },
  {
   "cell_type": "markdown",
   "id": "ade12d14",
   "metadata": {},
   "source": [
    "14. What is the difference between .*? and .*?\n",
    "Ans:\n",
    "It seems like there is a typo in the question, both patterns are the same: .*?."
   ]
  },
  {
   "cell_type": "markdown",
   "id": "8362ae0a",
   "metadata": {},
   "source": [
    "15. What is the syntax for matching both numbers and lowercase letters with a character class?\n",
    "Ans:\n",
    "To match both lowercase letters and numbers using a character class in regular expressions, you can use the following syntax:\n",
    "[0-9a-z]\n"
   ]
  },
  {
   "cell_type": "markdown",
   "id": "eb243683",
   "metadata": {},
   "source": [
    "16. What is the procedure foing a normal expression in regax case insensitive?\n",
    "Ans:\n",
    "To make a regular expression case-insensitive in most programming languages, you can use the \"case-insensitive\" flag or modifier.\n",
    "\n",
    "In most regex flavors, the syntax for enabling case insensitivity is to add the letter \"i\" after the end of the regular expression, like below:\n",
    "/regex/i\n"
   ]
  },
  {
   "cell_type": "markdown",
   "id": "d6facf59",
   "metadata": {},
   "source": [
    "17. What does the . character normally match? What does it match if re.DOTALL is passed as 2nd argument in re.compile()?\n",
    "Ans:\n",
    "In regular expressions, the \".\" (dot) character matches any single character except for a newline character (\\n). So, for example, the regular expression \"h.t\" would match any string that contains \"h\" followed by any single character, followed by \"t\".\n",
    "\n",
    "If the re.DOTALL flag is passed as the second argument to re.compile(), then the \".\" character will match any character, including newline characters. This flag causes the dot to match everything, effectively turning it into a \"wildcard\" character that matches any character or sequence of characters."
   ]
  },
  {
   "cell_type": "markdown",
   "id": "4e3236ac",
   "metadata": {},
   "source": [
    "18. If numReg = re.compile(r'\\d+'), what will numRegex.sub('X', '11 drummers, 10 pipers, five rings, 4 hen') return?\n",
    "Ans:\n",
    "X drummers, X pipers, five rings, X hen"
   ]
  },
  {
   "cell_type": "markdown",
   "id": "6611017c",
   "metadata": {},
   "source": [
    "19. What does passing re.VERBOSE as the 2nd argument to re.compile() allow to do?\n",
    "Ans:\n",
    "When re.VERBOSE is passed as the second argument to the re.compile() function in Python, it allows the use of verbose regular expressions.\n",
    "\n",
    "Verbose regular expressions are regular expressions that can be written in a more readable and organized way, by allowing the use of whitespace and comments within the expression."
   ]
  },
  {
   "cell_type": "markdown",
   "id": "edafe5ff",
   "metadata": {},
   "source": [
    "20. How would you write a regex that match a number with comma for every three digits? It must match the given following:\n",
    "'42'\n",
    "'1,234'\n",
    "'6,368,745'\n",
    "Ans:\n",
    "\n",
    "^\\d{1,3}(,\\d{3})*$\n"
   ]
  },
  {
   "cell_type": "code",
   "execution_count": null,
   "id": "3bf594a7",
   "metadata": {},
   "outputs": [],
   "source": []
  }
 ],
 "metadata": {
  "kernelspec": {
   "display_name": "Python 3 (ipykernel)",
   "language": "python",
   "name": "python3"
  },
  "language_info": {
   "codemirror_mode": {
    "name": "ipython",
    "version": 3
   },
   "file_extension": ".py",
   "mimetype": "text/x-python",
   "name": "python",
   "nbconvert_exporter": "python",
   "pygments_lexer": "ipython3",
   "version": "3.9.12"
  }
 },
 "nbformat": 4,
 "nbformat_minor": 5
}
