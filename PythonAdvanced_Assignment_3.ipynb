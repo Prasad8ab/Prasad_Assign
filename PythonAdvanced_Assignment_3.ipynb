{
 "cells": [
  {
   "cell_type": "markdown",
   "id": "ec91b871",
   "metadata": {},
   "source": [
    "Q1. What is the concept of an abstract superclass?\n",
    "\n",
    "An abstract superclass is a class that cannot be instantiated. This is because it has at least one abstract method, which is a method that is declared but not defined. Abstract methods must be implemented by any subclass that inherits from the abstract superclass.\n",
    "\n",
    "Q2. What happens when a class statement's top level contains a basic assignment statement?\n",
    "\n",
    "When a class statement's top level contains a basic assignment statement, the value of the assignment is assigned to the class variable with the same name. For example, the following code creates a class called Car and assigns the value \"red\" to the class variable color:\n",
    "\n",
    "class Car:\n",
    "color = \"red\"\n",
    "\n",
    "Q3. Why does a class need to manually call a superclass's init method?\n",
    "\n",
    "The __init__ method is called automatically when an object is created. However, if a class inherits from another class, the __init__ method of the superclass is not automatically called. This is because the __init__ method of the subclass is executed first. To ensure that the __init__ method of the superclass is called, the subclass must manually call it. This can be done by using the super keyword. For example, the following code shows how to call the __init__ method of the superclass Car from the subclass SportsCar:\n",
    "\n",
    "class SportsCar(Car):\n",
    "def init(self):\n",
    "super().init()\n",
    "\n",
    "Q4. How can you augment, instead of completely replacing, an inherited method?\n",
    "\n",
    "To augment, instead of completely replacing, an inherited method, you can use the super keyword. The super keyword allows you to call the method of the superclass, and then add your own code to it. For example, the following code shows how to augment the drive method of the superclass Car from the subclass SportsCar:\n",
    "\n",
    "class SportsCar(Car):\n",
    "def drive(self):\n",
    "super().drive()\n",
    "\n",
    "\n",
    "Q5. How is the local scope of a class different from that of a function?\n",
    "\n",
    "The local scope of a class is the area of the program where variables and methods defined within the class are accessible. The local scope of a function is the area of the program where variables and methods defined within the function are accessible.\n",
    "\n",
    "The main difference between the local scope of a class and the local scope of a function is that the local scope of a class is inherited by all subclasses. This means that variables and methods defined within a class are accessible from all subclasses. The local scope of a function is not inherited by any other functions. This means that variables and methods defined within a function are only accessible from within that function.\n",
    "\n",
    "\n"
   ]
  }
 ],
 "metadata": {
  "kernelspec": {
   "display_name": "Python 3 (ipykernel)",
   "language": "python",
   "name": "python3"
  },
  "language_info": {
   "codemirror_mode": {
    "name": "ipython",
    "version": 3
   },
   "file_extension": ".py",
   "mimetype": "text/x-python",
   "name": "python",
   "nbconvert_exporter": "python",
   "pygments_lexer": "ipython3",
   "version": "3.9.12"
  }
 },
 "nbformat": 4,
 "nbformat_minor": 5
}
