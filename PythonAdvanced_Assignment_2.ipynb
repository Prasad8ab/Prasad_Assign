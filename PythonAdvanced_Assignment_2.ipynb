{
 "cells": [
  {
   "cell_type": "markdown",
   "id": "c6511e3c",
   "metadata": {},
   "source": [
    "Q1. What is the relationship between classes and modules?\n",
    "\n",
    "Ans:\n",
    "\n",
    "Classes and modules are both ways of structuring code in Python. A class is a blueprint for creating objects, while a module is a collection of related functions and variables. Classes are typically used to create objects that share common properties and behaviors, while modules are typically used to organize code into logical units."
   ]
  },
  {
   "cell_type": "markdown",
   "id": "3338691a",
   "metadata": {},
   "source": [
    "Q2. How do you make instances and classes?\n",
    "\n",
    "\n",
    "To create a class in Python, you use the class keyword. For example:\n",
    "\n",
    "class MyClass:\n",
    "  pass\n",
    "  \n",
    "This creates a class called MyClass with no attributes or methods. \n",
    "\n",
    "\n",
    "To create an instance of a class, you use the () operator. For example:\n",
    "\n",
    "my_object = MyClass()\n",
    "\n",
    "This creates an object called my_object that is an instance of the MyClass class.\n"
   ]
  },
  {
   "cell_type": "markdown",
   "id": "39a5ccf3",
   "metadata": {},
   "source": [
    "Q3. Where and how should be class attributes created?\n",
    "\n",
    "Class attributes are created inside the body of the class definition, and they are shared by all instances of the class. For example:\n",
    "\n",
    "class MyClass:\n",
    "  name = \"MyClass\"\n",
    "  \n",
    "This creates a class attribute called name with the value \"MyClass\". This attribute will be shared by all instances of the MyClass class."
   ]
  },
  {
   "cell_type": "markdown",
   "id": "e17b89a1",
   "metadata": {},
   "source": [
    "Q4. Where and how are instance attributes created?\n",
    "\n",
    "Instance attributes are created outside of the body of the class definition, and they are unique to each instance of the class. For example:\n",
    "\n",
    "my_object = MyClass()\n",
    "my_object.age = 10\n",
    "\n",
    "\n",
    "This creates an instance attribute called age with the value 10. This attribute is unique to the my_object instance."
   ]
  },
  {
   "cell_type": "markdown",
   "id": "c310666f",
   "metadata": {},
   "source": [
    "Q5. What does the term \"self\" in a Python class mean?\n",
    "\n",
    "The term self in a Python class refers to the current instance of the class. It is used to access the instance's attributes and methods. For example:"
   ]
  },
  {
   "cell_type": "code",
   "execution_count": 2,
   "id": "bfc6a6a4",
   "metadata": {},
   "outputs": [
    {
     "name": "stdout",
     "output_type": "stream",
     "text": [
      "Hello, my name is Bard\n"
     ]
    }
   ],
   "source": [
    "class MyClass:\n",
    "  def __init__(self, name):\n",
    "    self.name = name\n",
    "\n",
    "  def say_hello(self):\n",
    "    print(\"Hello, my name is\", self.name)\n",
    "\n",
    "my_object = MyClass(\"Bard\")\n",
    "my_object.say_hello()\n",
    "\n",
    "#The self keyword is used to access the name attribute of the my_object instance.\n"
   ]
  },
  {
   "cell_type": "markdown",
   "id": "e9e0328c",
   "metadata": {},
   "source": [
    "Q6. How does a Python class handle operator overloading?\n",
    "\n",
    "Operator overloading allows you to define how operators work with objects of your own custom classes. For example, you could define how the + operator works with objects of your MyClass class. To do this, you would define a method called __add__(self, other). This method would take two arguments: self and other. The self argument would be an instance of your MyClass class, and the other argument would be an object of any type. The __add__(self, other) method would return an object of your MyClass class.\n",
    "\n",
    "Q7. When do you consider allowing operator overloading of your classes?\n",
    "\n",
    "You should consider allowing operator overloading of your classes when it makes sense for your application. For example, if you are writing a class that represents numbers, you might want to allow operator overloading so that you can use the + operator to add two numbers together."
   ]
  },
  {
   "cell_type": "markdown",
   "id": "898244ec",
   "metadata": {},
   "source": [
    "Q9. What are the two most important concepts to grasp in order to comprehend Python OOP code?\n",
    "\n",
    "The two most important concepts to grasp in order to comprehend Python OOP code are classes and objects. Classes are blueprints for creating objects, while objects are instances of classes. Classes can contain attributes and methods, and objects can access and modify these attributes and methods."
   ]
  },
  {
   "cell_type": "code",
   "execution_count": null,
   "id": "ba2db268",
   "metadata": {},
   "outputs": [],
   "source": []
  }
 ],
 "metadata": {
  "kernelspec": {
   "display_name": "Python 3 (ipykernel)",
   "language": "python",
   "name": "python3"
  },
  "language_info": {
   "codemirror_mode": {
    "name": "ipython",
    "version": 3
   },
   "file_extension": ".py",
   "mimetype": "text/x-python",
   "name": "python",
   "nbconvert_exporter": "python",
   "pygments_lexer": "ipython3",
   "version": "3.9.12"
  }
 },
 "nbformat": 4,
 "nbformat_minor": 5
}
