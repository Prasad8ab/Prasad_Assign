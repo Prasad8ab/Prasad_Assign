{
 "cells": [
  {
   "cell_type": "markdown",
   "id": "25258b5e",
   "metadata": {},
   "source": [
    "Q1. What is the purpose of the try statement?\n",
    "\n",
    "The try statement is used to handle exceptions in Python. An exception is an event that occurs during the execution of a program that disrupts the normal flow of the program. Exceptions can be caused by a variety of factors, such as invalid input, division by zero, or errors in the program code.\n",
    "\n",
    "The try statement allows you to execute a block of code that may raise an exception, and then handle the exception gracefully. The try block is followed by one or more except blocks, which specify how to handle different types of exceptions.\n",
    "\n",
    "Q2. What are the two most popular try statement variations?\n",
    "\n",
    "The two most popular try statement variations are the try-except and try-finally statements.\n",
    "\n",
    "The try-except statement allows you to handle specific types of exceptions. For example, you could use a try-except statement to handle the FileNotFoundError exception, which is raised when a file that does not exist is opened.\n",
    "The try-finally statement ensures that a certain block of code is executed, regardless of whether or not an exception is raised. This can be useful for closing files or releasing resources.\n",
    "Q3. What is the purpose of the raise statement?\n",
    "\n",
    "The raise statement is used to raise an exception. This can be useful for debugging programs or for simulating errors.\n",
    "\n",
    "The raise statement takes two arguments: the exception type and the exception value. The exception type is the type of exception that you want to raise. The exception value is an optional value that can be associated with the exception.\n",
    "\n",
    "Q4. What does the assert statement do, and what other statement is it like?\n",
    "\n",
    "The assert statement is used to test a condition. If the condition is false, an AssertionError exception is raised.\n",
    "\n",
    "The assert statement is similar to the if statement, but it is used for debugging programs. Assert statements are typically commented out when the program is in production mode.\n",
    "\n",
    "Q5. What is the purpose of the with/as argument, and what other statement is it like?\n",
    "\n",
    "The with/as statement is used to open and close resources, such as files and database connections. The with statement ensures that the resource is closed properly, even if an exception is raised.\n",
    "\n",
    "The with statement is similar to the try-finally statement, but it is more concise and easier to use."
   ]
  }
 ],
 "metadata": {
  "kernelspec": {
   "display_name": "Python 3 (ipykernel)",
   "language": "python",
   "name": "python3"
  },
  "language_info": {
   "codemirror_mode": {
    "name": "ipython",
    "version": 3
   },
   "file_extension": ".py",
   "mimetype": "text/x-python",
   "name": "python",
   "nbconvert_exporter": "python",
   "pygments_lexer": "ipython3",
   "version": "3.9.12"
  }
 },
 "nbformat": 4,
 "nbformat_minor": 5
}
