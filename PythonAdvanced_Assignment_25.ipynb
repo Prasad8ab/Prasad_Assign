{
 "cells": [
  {
   "cell_type": "markdown",
   "id": "a1ab8110",
   "metadata": {},
   "source": [
    "Q1. What is the distinction between a numpy array and a pandas data frame? Is there a way to\n",
    "convert between the two if there is?\n",
    "\n",
    "Here are some of the key distinctions between NumPy arrays and Pandas DataFrames:\n",
    "\n",
    "NumPy arrays are homogeneous, while Pandas DataFrames are heterogeneous. This means that all of the elements in a NumPy array must be of the same type, while a Pandas DataFrame can contain elements of different types in each column.\n",
    "NumPy arrays are more efficient for mathematical operations, while Pandas DataFrames are more efficient for data analysis tasks. This is because NumPy arrays are stored in a contiguous memory block, while Pandas DataFrames are stored in a more complex format that makes it easier to access and manipulate the data.\n",
    "There are ways to convert between NumPy arrays and Pandas DataFrames. One way is to use the to_numpy() method on a Pandas DataFrame to convert it to a NumPy array. Another way is to use the DataFrame() constructor on a NumPy array to create a Pandas DataFrame from it.\n",
    "Here is an example of how to convert a NumPy array to a Pandas DataFrame:"
   ]
  },
  {
   "cell_type": "code",
   "execution_count": 1,
   "id": "10cc1b0e",
   "metadata": {},
   "outputs": [
    {
     "name": "stdout",
     "output_type": "stream",
     "text": [
      "   data\n",
      "0     1\n",
      "1     2\n",
      "2     3\n",
      "3     4\n",
      "4     5\n"
     ]
    }
   ],
   "source": [
    "import numpy as np\n",
    "import pandas as pd\n",
    "\n",
    "array = np.array([1, 2, 3, 4, 5])\n",
    "df = pd.DataFrame(array, columns=['data'])\n",
    "\n",
    "print(df)\n"
   ]
  },
  {
   "cell_type": "markdown",
   "id": "1dde04d6",
   "metadata": {},
   "source": [
    "Q2. What can go wrong when an user enters in a stock-ticker symbol, and how do you handle it?\n",
    "\n",
    "There are a few things that can go wrong when an user enters in a stock-ticker symbol. For example, the symbol may not be valid, or it may represent a stock that is not traded anymore. If the symbol is not valid, you can raise an error message to the user. If the symbol represents a stock that is not traded anymore, you can either display a message to the user or simply ignore the symbol.\n",
    "\n",
    "Here is an example of how to handle invalid stock-ticker symbols:"
   ]
  },
  {
   "cell_type": "code",
   "execution_count": 2,
   "id": "bccc1276",
   "metadata": {},
   "outputs": [
    {
     "name": "stdout",
     "output_type": "stream",
     "text": [
      "Invalid stock symbol: AAPL\n"
     ]
    }
   ],
   "source": [
    "import requests\n",
    "import pandas as pd\n",
    "\n",
    "def get_stock_data(symbol):\n",
    "    response = requests.get(\"https://api.iextrading.com/1.0/stock/{}/quote\".format(symbol))\n",
    "    if response.status_code == 200:\n",
    "        return pd.DataFrame(response.json())\n",
    "    else:\n",
    "        raise ValueError(\"Invalid stock symbol: {}\".format(symbol))\n",
    "\n",
    "try:\n",
    "    df = get_stock_data(\"AAPL\")\n",
    "    print(df)\n",
    "except ValueError as e:\n",
    "    print(e)\n"
   ]
  },
  {
   "cell_type": "markdown",
   "id": "f81d46e1",
   "metadata": {},
   "source": [
    "Q3. Identify some of the plotting techniques that are used to produce a stock-market chart.\n",
    "\n",
    "Here are some of the plotting techniques that are used to produce a stock-market chart:\n",
    "\n",
    "Line charts: Line charts are the most basic type of chart used to plot stock data. They show the closing price of a stock over time.\n",
    "Bar charts: Bar charts are used to plot the opening, closing, high, and low prices of a stock over time.\n",
    "Candlestick charts: Candlestick charts are a type of bar chart that uses different colors to represent the opening, closing, high, and low prices of a stock.\n",
    "Volume charts: Volume charts show the number of shares traded in a stock over time.\n",
    "Moving average charts: Moving average charts smooth out the price data by plotting the average price of a stock over a specified period of time.\n",
    "Q4. Why is it essential to print a legend on a stock market chart?\n",
    "\n",
    "A legend is a key that identifies the different elements on a chart. It is essential to print a legend on a stock market chart because it helps the reader to understand what the different lines and bars on the chart represent. For example, a legend might identify the closing price line, the opening price line, and the volume line.\n",
    "\n",
    "Q4. Why is it essential to print a legend on a stock market chart?\n",
    "\n",
    "A legend is a key that identifies the different elements on a chart. It is essential to print a legend on a stock market chart because it helps the reader to understand what the different lines and bars on the chart represent. For example, a legend might identify the closing price line, the opening price line, and the volume line.\n",
    "\n",
    "Q5. What is the best way to limit the length of a pandas data frame to less than a year?\n",
    "Use the loc method to select the rows that were created within the desired time period.\n",
    "Use the query method to filter the DataFrame based on the date.\n",
    "Use the drop method to remove the rows that were created outside of the desired time period.\n",
    "\n",
    "Q6. What is the definition of a 180-day moving average?\n",
    "\n",
    "A 180-day moving average is a technical indicator that is used to smooth out the price data of a stock by plotting the average price of the stock over the past 180 days. The moving average is calculated by adding up the closing prices of the stock over the past 180 days and then dividing by 180.\n",
    "\n",
    "The 180-day moving average can be used to identify trends in the price of a stock. For example, if the price of a stock is consistently trading above its 180-day moving average, then it is considered to be in an uptrend. Conversely, if the price of a stock is consistently trading below its 180-day moving average, then it is considered to be in a downtrend.\n",
    "\n",
    "The 180-day moving average can also be used to identify support and resistance levels. Support levels are prices where the price of a stock tends to find support, meaning that it is less likely to fall below those prices. Resistance levels are prices where the price of a stock tends to find resistance, meaning that it is less likely to rise above those prices.\n",
    "\n",
    "Q7. Did the chapter&#39;s final example use &quot;indirect&quot; importing? If so, how exactly do you do it?\n",
    "Yes, the chapter's final example used indirect importing. Indirect importing is a technique that is used to import modules that are not installed in the current Python environment. To use indirect importing, you need to specify the full path to the module that you want to import."
   ]
  }
 ],
 "metadata": {
  "kernelspec": {
   "display_name": "Python 3 (ipykernel)",
   "language": "python",
   "name": "python3"
  },
  "language_info": {
   "codemirror_mode": {
    "name": "ipython",
    "version": 3
   },
   "file_extension": ".py",
   "mimetype": "text/x-python",
   "name": "python",
   "nbconvert_exporter": "python",
   "pygments_lexer": "ipython3",
   "version": "3.10.9"
  }
 },
 "nbformat": 4,
 "nbformat_minor": 5
}
