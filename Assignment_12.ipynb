{
 "cells": [
  {
   "cell_type": "markdown",
   "id": "a0a05af6",
   "metadata": {},
   "source": [
    "1. In what modes should the PdfFileReader() and PdfFileWriter() File objects will be opened?\n",
    "\n",
    "Ans:\n",
    "The PdfFileReader() and PdfFileWriter() File objects should be opened in binary mode, using the 'rb' or 'wb' mode flag. This is because PDF files are binary files, and opening them in text mode can corrupt the data.\n",
    "\n",
    "\n",
    "import PyPDF2\n",
    "\n",
    "pdf_file = open('my_file.pdf', 'rb')\n",
    "pdf_reader = PyPDF2.PdfFileReader(pdf_file)\n"
   ]
  },
  {
   "cell_type": "markdown",
   "id": "dc1b5bcb",
   "metadata": {},
   "source": [
    "2. From a PdfFileReader object, how do you get a Page object for page 5?\n",
    "Ans:\n",
    "\n",
    "To get a Page object for page 5 from a PdfFileReader object, you can use the getPage() method. The getPage() method takes the page number as its argument. The page numbers in a PDF file start at 0, so to get the Page object for page 5, you would pass the number 4 to the getPage() method.\n",
    "\n",
    "Eg.\n",
    "\n",
    "import PyPDF2\n",
    "\n",
    "pdf_file = open(\"My_file.pdf\", \"rb\")\n",
    "pdf_reader = PyPDF2.PdfFileReader(pdf_file)\n",
    "\n",
    "page_5 = pdf_reader(4)\n"
   ]
  },
  {
   "cell_type": "markdown",
   "id": "f84aa6ce",
   "metadata": {},
   "source": [
    "3. What PdfFileReader variable stores the number of pages in the PDF document?\n",
    "\n",
    "Ans:\n",
    "The numPages variable of the PdfFileReader object stores the number of pages in the PDF document. You can access the numPages variable using the following code:\n",
    "\n",
    "For Eg.\n",
    "\n",
    "\n",
    "import PyPDF2\n",
    "\n",
    "pdf_file = open('my_file.pdf', 'rb')\n",
    "pdf_reader = PyPDF2.PdfFileReader(pdf_file)\n",
    "\n",
    "num_pages = pdf_reader.numPages\n",
    "\n",
    "The num_pages variable will now contain the number of pages in the PDF file.\n"
   ]
  },
  {
   "cell_type": "markdown",
   "id": "98630ae5",
   "metadata": {},
   "source": [
    "4. If a PdfFileReader object’s PDF is encrypted with the password swordfish, what must you do before you can obtain Page objects from it?\n",
    "Ans:\n",
    "\n",
    "If a PdfFileReader object’s PDF is encrypted with the password swordfish, you must decrypt the file before you can obtain Page objects from it. You can decrypt the file using the decrypt() method of the PdfFileReader object. The decrypt() method takes the password as its argument.\n",
    "\n",
    "For Eg.\n",
    "\n",
    "import PyPDF2\n",
    "\n",
    "pdf_file = open('my_file.pdf', 'rb')\n",
    "pdf_reader = PyPDF2.PdfFileReader(pdf_file)\n",
    "\n",
    "if pdf_reader.isEncrypted:\n",
    "  pdf_reader.decrypt('swordfish')"
   ]
  },
  {
   "cell_type": "markdown",
   "id": "a745ff38",
   "metadata": {},
   "source": [
    "5. What methods do you use to rotate a page?\n",
    "Ans:\n",
    "    \n",
    "There are two methods you can use to rotate a page in PyPDF2:\n",
    "\n",
    "rotateClockwise()\n",
    "rotateCounterclockwise()\n",
    "\n",
    "\n",
    "For Eg.\n",
    "\n",
    "\n",
    "import PyPDF2\n",
    "\n",
    "pdf_file = open('my_file.pdf', 'rb')\n",
    "pdf_reader = PyPDF2.PdfFileReader(pdf_file)\n",
    "\n",
    "page_5 = pdf_reader.getPage(4)\n",
    "page_5.rotateClockwise(90)\n",
    "\n",
    "pdf_writer = PyPDF2.PdfFileWriter()\n",
    "pdf_writer.addPage(page_5)\n",
    "\n",
    "with open('new_file.pdf', 'wb') as pdf_file:\n",
    "  pdf_writer.write(pdf_file)"
   ]
  },
  {
   "cell_type": "markdown",
   "id": "832a3161",
   "metadata": {},
   "source": [
    "6. What is the difference between a Run object and a Paragraph object?\n",
    "Ans:\n",
    "\n",
    "A Run object represents a single chunk of text in a PDF file, while a Paragraph object represents a group of Run objects that are displayed together as a single paragraph.\n",
    "\n",
    "A Run object has the following properties:\n",
    "\n",
    "text: The text content of the Run object.\n",
    "font: The font used to render the text.\n",
    "size: The size of the text in points.\n",
    "color: The color of the text.\n",
    "A Paragraph object has the following properties:\n",
    "\n",
    "runs: A list of Run objects that make up the paragraph.\n",
    "alignment: The alignment of the paragraph text.\n",
    "leading: The vertical spacing between lines of text.\n",
    "space_before: The vertical spacing before the paragraph.\n",
    "space_after: The vertical spacing after the paragraph."
   ]
  },
  {
   "cell_type": "markdown",
   "id": "ef4b597d",
   "metadata": {},
   "source": [
    "7. How do you obtain a list of Paragraph objects for a Document object that’s stored in a variable named doc?\n",
    "Ans:\n",
    "\n",
    "paragraphs = doc.paragraphs\n",
    "\n",
    "The paragraphs variable will now contain a list of Paragraph objects that make up the Document object. You can then access the properties of the Paragraph objects, such as their text, font, size, and color.\n",
    "\n"
   ]
  },
  {
   "cell_type": "markdown",
   "id": "2fe3590d",
   "metadata": {},
   "source": [
    "8. What type of object has bold, underline, italic, strike, and outline variables?\n",
    "Ans:\n",
    "A Run object has bold, underline, italic, strike, and outline variables."
   ]
  },
  {
   "cell_type": "markdown",
   "id": "2cb13205",
   "metadata": {},
   "source": [
    "9. What is the difference between False, True, and None for the bold variable?\n",
    "Ans:\n",
    "\n",
    "The bold variable in a Run object can be set to True, False, or None.\n",
    "\n",
    "True indicates that the text is bold.\n",
    "False indicates that the text is not bold.\n",
    "None indicates that the bold property is not set."
   ]
  },
  {
   "cell_type": "markdown",
   "id": "fe67ae01",
   "metadata": {},
   "source": [
    "10. How do you create a Document object for a new Word document?\n",
    "Ans:\n",
    "\n",
    "To create a Document object for a new Word document, you can use the following code:\n",
    "\n",
    "import docx\n",
    "\n",
    "document = docx.Document()"
   ]
  },
  {
   "cell_type": "markdown",
   "id": "b794f0ee",
   "metadata": {},
   "source": [
    "11. How do you add a paragraph with the text 'Hello, there!' to a Document object stored in a variable named doc?\n",
    "Ans:\n",
    "\n",
    "To add a paragraph with the text \"Hello, there!\" to a Document object stored in a variable named doc, you can use the following steps:\n",
    "\n",
    "Create a new Paragraph object.\n",
    "Set the text of the Paragraph object to \"Hello, there!\".\n",
    "Use the AddParagraph() method of the Document object to add the Paragraph object to the document.\n",
    "\n",
    "For Eg.\n",
    "\n",
    "\n",
    "paragraph = doc.add_paragraph()\n",
    "paragraph.text = \"Hello, there!\""
   ]
  },
  {
   "cell_type": "markdown",
   "id": "82053938",
   "metadata": {},
   "source": [
    "12. What integers represent the levels of headings available in Word documents?\n",
    "Ans:\n",
    "\n",
    "The integers that represent the levels of headings available in Word documents are 0 to 9. The integer 0 represents the title of the document, and the integers 1 to 9 represent the heading levels. The heading level determines the size and formatting of the heading. The higher the heading level, the smaller the heading will be.\n",
    "\n",
    "For Eg.\n",
    "\n",
    "doc.add_heading(\"My Heading\", 1)\n",
    "\n"
   ]
  },
  {
   "cell_type": "code",
   "execution_count": null,
   "id": "86d21916",
   "metadata": {},
   "outputs": [],
   "source": []
  }
 ],
 "metadata": {
  "kernelspec": {
   "display_name": "Python 3 (ipykernel)",
   "language": "python",
   "name": "python3"
  },
  "language_info": {
   "codemirror_mode": {
    "name": "ipython",
    "version": 3
   },
   "file_extension": ".py",
   "mimetype": "text/x-python",
   "name": "python",
   "nbconvert_exporter": "python",
   "pygments_lexer": "ipython3",
   "version": "3.9.12"
  }
 },
 "nbformat": 4,
 "nbformat_minor": 5
}
