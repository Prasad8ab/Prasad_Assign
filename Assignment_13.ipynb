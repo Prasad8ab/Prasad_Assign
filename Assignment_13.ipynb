{
 "cells": [
  {
   "cell_type": "markdown",
   "id": "e7d6ed0a",
   "metadata": {},
   "source": [
    "1. What advantages do Excel spreadsheets have over CSV spreadsheets?\n",
    "Ans:\n",
    "\n",
    "Excel spreadsheets have several advantages over CSV spreadsheets, including:\n",
    "\n",
    "More features: Excel spreadsheets offer a wider range of features than CSV spreadsheets, including the ability to create charts, pivot tables, and macros.\n",
    "Better data analysis: Excel spreadsheets are better suited for data analysis than CSV spreadsheets. Excel offers a variety of tools for analyzing data, such as pivot tables and macros.\n",
    "More user-friendly: Excel spreadsheets are more user-friendly than CSV spreadsheets. Excel has a graphical user interface that makes it easy to create and edit spreadsheets.\n",
    "More compatible: Excel spreadsheets are more compatible with other applications than CSV spreadsheets. Excel spreadsheets can be opened and edited in a variety of applications, including Microsoft Word and Microsoft PowerPoint."
   ]
  },
  {
   "cell_type": "markdown",
   "id": "0e76f033",
   "metadata": {},
   "source": [
    "2.What do you pass to csv.reader() and csv.writer() to create reader and writer objects?\n",
    "Ans:\n",
    "\n",
    "To create a reader object, you pass the following arguments to the csv.reader() function:\n",
    "\n",
    "A file object: This can be a file object that is opened in read mode, or a string that represents the path to a file.\n",
    "A delimiter: This is the character that separates the fields in each row of the CSV file. The default delimiter is a comma.\n",
    "A quotechar: This is the character that is used to quote fields that contain special characters, such as commas or newlines. The default quotechar is a double quote.\n",
    "A quoting: This is an integer that specifies how fields should be quoted. The possible values are:\n",
    "csv.QUOTE_MINIMAL: Only fields that contain the delimiter or the quotechar will be quoted.\n",
    "csv.QUOTE_ALL: All fields will be quoted.\n",
    "csv.QUOTE_NONNUMERIC: Only fields that contain text data will be quoted. Numeric fields will be converted to floats.\n",
    "csv.QUOTE_NONE: No fields will be quoted. Special characters will be escaped instead.\n",
    "\n",
    "To create a writer object, you pass the following arguments to the csv.writer() function:\n",
    "\n",
    "A file object: This can be a file object that is opened in write mode, or a string that represents the path to a file.\n",
    "A delimiter: This is the character that will be used to separate the fields in each row of the CSV file. The default delimiter is a comma.\n",
    "A quotechar: This is the character that will be used to quote fields that contain special characters, such as commas or newlines. The default quotechar is a double quote.\n",
    "A quoting: This is an integer that specifies how fields should be quoted. The possible values are the same as for the csv.reader() function.\n"
   ]
  },
  {
   "cell_type": "markdown",
   "id": "b94c11fe",
   "metadata": {},
   "source": [
    "3. What modes do File objects for reader and writer objects need to be opened in?\n",
    "Ans:\n",
    "\n",
    "File objects for reader and writer objects need to be opened in the following modes:\n",
    "\n",
    "Reader objects: Reader objects need to be opened in read mode. This can be done by passing the 'r' mode to the open() function.\n",
    "Writer objects: Writer objects need to be opened in write mode. This can be done by passing the 'w' mode to the open() function."
   ]
  },
  {
   "cell_type": "markdown",
   "id": "0142d21f",
   "metadata": {},
   "source": [
    "4. What method takes a list argument and writes it to a CSV file?\n",
    "Ans:\n",
    "\n",
    "The csv.writer() method in Python takes a list argument and writes it to a CSV file. The list argument should be a list of lists, where each inner list represents a row in the CSV file. The delimiter argument specifies the character that will be used to separate the fields in each row. The quotechar argument specifies the character that will be used to quote fields that contain special characters, such as commas or newlines.\n",
    "\n",
    "For Eg.:\n",
    "\n",
    "import csv\n",
    "\n",
    "data = [[\"First Name\", \"Last Name\", \"Age\"],\n",
    "         [\"John\", \"Doe\", 30],\n",
    "         [\"Jane\", \"Smith\", 25]]\n",
    "\n",
    "with open(\"my_file.csv\", \"w\") as f:\n",
    "    writer = csv.writer(f, delimiter=\",\")\n",
    "    for row in data:\n",
    "        writer.writerow(row)\n"
   ]
  },
  {
   "cell_type": "markdown",
   "id": "16e5e46c",
   "metadata": {},
   "source": [
    "5. What do the keyword arguments delimiter and line terminator do?\n",
    "Ans:\n",
    "\n",
    "The keyword arguments delimiter and line terminator are used to control the format of the CSV file that is created by the csv.writer() method. The delimiter argument specifies the character that will be used to separate the fields in each row. The line terminator argument specifies the character that will be used to terminate each row. The default values for the delimiter and line terminator arguments are a comma and a newline character, respectively.\n"
   ]
  },
  {
   "cell_type": "markdown",
   "id": "dbf1e1ed",
   "metadata": {},
   "source": [
    "6. What function takes a string of JSON data and returns a Python data structure?\n",
    "Ans:\n",
    "\n",
    "The json.loads() function in Python takes a string of JSON data and returns a Python data structure. The Python data structure can be a dictionary, list, or other object. The json.loads() function takes the following arguments:\n",
    "\n",
    "A string of JSON data: This can be a string that is stored in a variable or a string that is passed as an argument to the function.\n",
    "A decoder: This is an object that is used to decode the JSON data. The default decoder is the JSONDecoder object.\n",
    "\n",
    "\n",
    "For Eg.\n",
    "\n",
    "\n",
    "import json\n",
    "\n",
    "json_data = \"\"\"\n",
    "{\n",
    "  \"name\": \"John Doe\",\n",
    "  \"age\": 30\n",
    "}\n",
    "\"\"\"\n",
    "dictionary = json.loads(json_data)\n",
    "\n",
    "print(dictionary)\n"
   ]
  },
  {
   "cell_type": "markdown",
   "id": "2b2a0dc4",
   "metadata": {},
   "source": [
    "7. What function takes a Python data structure and returns a string of JSON data?\n",
    "Ans:\n",
    "The json.dumps() function in Python takes a Python data structure and returns a string of JSON data. The Python data structure can be a dictionary, list, or other object. The json.dumps() function takes the following arguments:\n",
    "\n",
    "A Python data structure: This can be a variable that contains a Python data structure or a Python data structure that is passed as an argument to the function.\n",
    "An encoder: This is an object that is used to encode the Python data structure. The default encoder is the JSONEncoder object.\n",
    "An indent: This is an integer that specifies the number of spaces to indent the JSON data. The default indent is 4 spaces.\n",
    "A sort_keys: This is a boolean value that specifies whether the keys in the JSON data should be sorted. The default value is False.\n",
    "\n",
    "For Eg.\n",
    "\n",
    "import json\n",
    "\n",
    "dictionary = {\n",
    "  \"name\": \"John Doe\",\n",
    "  \"age\": 30\n",
    "}\n",
    "\n",
    "json_data = json.dumps(dictionary)\n",
    "\n",
    "print(json_data)\n",
    "\n",
    "\n"
   ]
  },
  {
   "cell_type": "code",
   "execution_count": null,
   "id": "5e9542cc",
   "metadata": {},
   "outputs": [],
   "source": []
  }
 ],
 "metadata": {
  "kernelspec": {
   "display_name": "Python 3 (ipykernel)",
   "language": "python",
   "name": "python3"
  },
  "language_info": {
   "codemirror_mode": {
    "name": "ipython",
    "version": 3
   },
   "file_extension": ".py",
   "mimetype": "text/x-python",
   "name": "python",
   "nbconvert_exporter": "python",
   "pygments_lexer": "ipython3",
   "version": "3.9.12"
  }
 },
 "nbformat": 4,
 "nbformat_minor": 5
}
