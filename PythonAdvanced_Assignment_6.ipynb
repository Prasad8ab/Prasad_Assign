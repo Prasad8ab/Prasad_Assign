{
 "cells": [
  {
   "cell_type": "markdown",
   "id": "7bb40f23",
   "metadata": {},
   "source": [
    "Q1. Describe three applications for exception processing.\n",
    "\n",
    "Error handling: Exception processing can be used to handle errors that occur during the execution of a program. This can help to prevent the program from crashing and to provide a more graceful way to handle errors.\n",
    "Debugging: Exception processing can also be used to debug programs. By catching and examining exceptions, you can get more information about the errors that are occurring in your program. This can help you to identify and fix the errors more easily.\n",
    "Logging: Exception processing can also be used to log errors. This can help you to track and monitor errors that occur in your program. This information can be used to improve the reliability and performance of your program.\n",
    "Q2. What happens if you don't do something extra to treat an exception?\n",
    "\n",
    "If you don't do something extra to treat an exception, the default behavior is for the program to crash. This can be inconvenient and frustrating for users, and it can also make it difficult to debug and fix errors.\n",
    "\n",
    "Q3. What are your options for recovering from an exception in your script?\n",
    "\n",
    "There are a few different ways to recover from an exception in your script. One option is to use the try and except statements. The try statement tells Python to execute the code within it, and the except statement tells Python what to do if an exception occurs. For example, you could use the except statement to print a message to the user or to log the error.\n",
    "\n",
    "Another option for recovering from an exception is to use the raise statement. The raise statement can be used to manually raise an exception. This can be useful for testing your code or for debugging errors.\n",
    "\n",
    "Finally, you can also use the finally statement to execute code regardless of whether or not an exception occurs. This can be useful for closing files or other resources.\n",
    "\n",
    "Q4. Describe two methods for triggering exceptions in your script.\n",
    "\n",
    "There are a few different ways to trigger exceptions in your script. One way is to use the raise statement. The raise statement can be used to manually raise an exception. For example, you could use the raise statement to raise an IndexError exception if a user tries to access an index that does not exist in a list.\n",
    "\n",
    "Another way to trigger exceptions is to use invalid input. For example, if a user tries to enter a number that is not a valid integer, Python will raise a ValueError exception.\n",
    "\n",
    "Q5. Identify two methods for specifying actions to be executed at termination time, regardless of whether or not an exception exists.\n",
    "\n",
    "There are two methods for specifying actions to be executed at termination time, regardless of whether or not an exception exists.\n",
    "\n",
    "The first method is to use the finally statement. The finally statement is executed regardless of whether or not an exception occurs. This can be useful for closing files or other resources.\n",
    "\n",
    "The second method is to use the atexit module. The atexit module provides a way to register functions that will be executed when the program terminates. This can be useful for running cleanup tasks or for performing other tasks that need to be done before the program exits."
   ]
  }
 ],
 "metadata": {
  "kernelspec": {
   "display_name": "Python 3 (ipykernel)",
   "language": "python",
   "name": "python3"
  },
  "language_info": {
   "codemirror_mode": {
    "name": "ipython",
    "version": 3
   },
   "file_extension": ".py",
   "mimetype": "text/x-python",
   "name": "python",
   "nbconvert_exporter": "python",
   "pygments_lexer": "ipython3",
   "version": "3.9.12"
  }
 },
 "nbformat": 4,
 "nbformat_minor": 5
}
