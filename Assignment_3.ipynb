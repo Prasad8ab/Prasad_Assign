{
 "cells": [
  {
   "cell_type": "markdown",
   "id": "3002e286",
   "metadata": {},
   "source": [
    "1. Why are functions advantageous to have in your programs?\n",
    "\n",
    "Ans: They reduce the need for duplicate code. Making programs shorter, easier to read, and easier to update."
   ]
  },
  {
   "cell_type": "markdown",
   "id": "328b579d",
   "metadata": {},
   "source": [
    "2. When does the code in a function run: when it's specified or when it's called?\n",
    "\n",
    "Ans: The code in a function run when the function is called"
   ]
  },
  {
   "cell_type": "markdown",
   "id": "8d91bc5c",
   "metadata": {},
   "source": [
    "3. What statement creates a function?\n",
    "\n",
    "Ans:\"def\" keyword intruduces the function definition followed by function name and the paranthesized list of formal parameters. "
   ]
  },
  {
   "cell_type": "markdown",
   "id": "4af5d8c3",
   "metadata": {},
   "source": [
    "4. What is the difference between a function and a function call?\n",
    "\n",
    "Ans: A funtion is a code that does a particular operation and returns a result. While function call is code used to pass control to a function."
   ]
  },
  {
   "cell_type": "markdown",
   "id": "e7345912",
   "metadata": {},
   "source": [
    "5. How many global scopes are there in a Python program? How many local scopes?\n",
    "\n",
    "Ans: There is only one global scope per pergram execution. While local scope can be used inside that particalur function."
   ]
  },
  {
   "cell_type": "markdown",
   "id": "d3a4beb9",
   "metadata": {},
   "source": [
    "6. What happens to variables in a local scope when the function call returns?\n",
    "\n",
    "Ans: The varialble are destroyed"
   ]
  },
  {
   "cell_type": "markdown",
   "id": "8eddad06",
   "metadata": {},
   "source": [
    "7. What is the concept of a return value? Is it possible to have a return value in an expression?\n",
    "\n",
    "Ans: Return is a value that function returns when it complete it task. Yes it is possible, if the data type of expression is different ffrom the function return typeconversion of return value takes place as if the values of the expression are assigned to an object with the same function return type."
   ]
  },
  {
   "cell_type": "markdown",
   "id": "663eba8b",
   "metadata": {},
   "source": [
    "8. If a function does not have a return statement, what is the return value of a call to that function?\n",
    "\n",
    "Ans: If the function does not have return statement then control automatically return to the calling function after the last statement is executated. In this case the return value of a function is undefined."
   ]
  },
  {
   "cell_type": "markdown",
   "id": "3b50a644",
   "metadata": {},
   "source": [
    "9. How do you make a function variable refer to the global variable?\n",
    "\n",
    "Ans: By using global keyword to declarer which variables are global"
   ]
  },
  {
   "cell_type": "markdown",
   "id": "2966f845",
   "metadata": {},
   "source": [
    "10. What is the data type of None?\n",
    "\n",
    "Ans: None is a data type of its own (NoneType) and only None can be None."
   ]
  },
  {
   "cell_type": "markdown",
   "id": "60858db6",
   "metadata": {},
   "source": [
    "11. What does the sentence import areallyourpetsnamederic do?\n",
    "\n",
    "Ans: It imports module name areallyourpetsnamederic."
   ]
  },
  {
   "cell_type": "markdown",
   "id": "1876e6a3",
   "metadata": {},
   "source": [
    "12. If you had a bacon() feature in a spam module, what would you call it after importing spam?\n",
    "\n",
    "Ans: spam.bacon()"
   ]
  },
  {
   "cell_type": "markdown",
   "id": "0475c8d2",
   "metadata": {},
   "source": [
    "13. What can you do to save a programme from crashing if it encounters an error?\n",
    "\n",
    "Ans: Using try and except statements to handle exceptions. Whenever the code breaks down, an exception is thrown without crashing the program."
   ]
  },
  {
   "cell_type": "markdown",
   "id": "16820264",
   "metadata": {},
   "source": [
    "14. What is the purpose of the try clause? What is the purpose of the except clause?\n",
    "\n",
    "Ans: The try block lets you test a block of code for errors. The except block lets you handle the error.\n"
   ]
  }
 ],
 "metadata": {
  "kernelspec": {
   "display_name": "Python 3 (ipykernel)",
   "language": "python",
   "name": "python3"
  },
  "language_info": {
   "codemirror_mode": {
    "name": "ipython",
    "version": 3
   },
   "file_extension": ".py",
   "mimetype": "text/x-python",
   "name": "python",
   "nbconvert_exporter": "python",
   "pygments_lexer": "ipython3",
   "version": "3.9.12"
  }
 },
 "nbformat": 4,
 "nbformat_minor": 5
}
