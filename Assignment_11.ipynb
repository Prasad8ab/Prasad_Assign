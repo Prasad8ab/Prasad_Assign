{
 "cells": [
  {
   "cell_type": "markdown",
   "id": "738396fa",
   "metadata": {},
   "source": [
    "1. Create an assert statement that throws an AssertionError if the variable spam is a negative integer.\n",
    "Ans:\n"
   ]
  },
  {
   "cell_type": "code",
   "execution_count": 3,
   "id": "b14907b3",
   "metadata": {},
   "outputs": [
    {
     "ename": "AssertionError",
     "evalue": "Variable spam should not be a negative integer.",
     "output_type": "error",
     "traceback": [
      "\u001b[1;31m---------------------------------------------------------------------------\u001b[0m",
      "\u001b[1;31mAssertionError\u001b[0m                            Traceback (most recent call last)",
      "Input \u001b[1;32mIn [3]\u001b[0m, in \u001b[0;36m<cell line: 3>\u001b[1;34m()\u001b[0m\n\u001b[0;32m      1\u001b[0m spam \u001b[38;5;241m=\u001b[39m \u001b[38;5;241m-\u001b[39m\u001b[38;5;241m5\u001b[39m\n\u001b[1;32m----> 3\u001b[0m \u001b[38;5;28;01massert\u001b[39;00m spam \u001b[38;5;241m>\u001b[39m\u001b[38;5;241m=\u001b[39m \u001b[38;5;241m0\u001b[39m, \u001b[38;5;124m\"\u001b[39m\u001b[38;5;124mVariable spam should not be a negative integer.\u001b[39m\u001b[38;5;124m\"\u001b[39m\n",
      "\u001b[1;31mAssertionError\u001b[0m: Variable spam should not be a negative integer."
     ]
    }
   ],
   "source": [
    "spam = -5\n",
    "\n",
    "assert spam >= 0, \"Variable spam should not be a negative integer.\""
   ]
  },
  {
   "cell_type": "markdown",
   "id": "cf04d9d4",
   "metadata": {},
   "source": [
    "In this example, the assert statement checks if the condition spam >= 0 is true. If the condition is false, it raises an AssertionError with the specified error message: \"Variable spam should not be a negative integer.\""
   ]
  },
  {
   "cell_type": "markdown",
   "id": "38a0f83b",
   "metadata": {},
   "source": [
    "2. Write an assert statement that triggers an AssertionError if the variables eggs and bacon contain strings that are the same as each other, even if their cases are different (that is, 'hello' and 'hello' are considered the same, and 'goodbye' and 'GOODbye' are also considered the same).\n",
    "Ans:\n",
    "\n"
   ]
  },
  {
   "cell_type": "code",
   "execution_count": 4,
   "id": "abac5b36",
   "metadata": {},
   "outputs": [
    {
     "ename": "AssertionError",
     "evalue": "Variables eggs and bacon should not contain the same string.",
     "output_type": "error",
     "traceback": [
      "\u001b[1;31m---------------------------------------------------------------------------\u001b[0m",
      "\u001b[1;31mAssertionError\u001b[0m                            Traceback (most recent call last)",
      "Input \u001b[1;32mIn [4]\u001b[0m, in \u001b[0;36m<cell line: 4>\u001b[1;34m()\u001b[0m\n\u001b[0;32m      1\u001b[0m eggs \u001b[38;5;241m=\u001b[39m \u001b[38;5;124m\"\u001b[39m\u001b[38;5;124mHello\u001b[39m\u001b[38;5;124m\"\u001b[39m\n\u001b[0;32m      2\u001b[0m bacon \u001b[38;5;241m=\u001b[39m \u001b[38;5;124m\"\u001b[39m\u001b[38;5;124mHELLO\u001b[39m\u001b[38;5;124m\"\u001b[39m\n\u001b[1;32m----> 4\u001b[0m \u001b[38;5;28;01massert\u001b[39;00m eggs\u001b[38;5;241m.\u001b[39mlower() \u001b[38;5;241m!=\u001b[39m bacon\u001b[38;5;241m.\u001b[39mlower(), \u001b[38;5;124m\"\u001b[39m\u001b[38;5;124mVariables eggs and bacon should not contain the same string.\u001b[39m\u001b[38;5;124m\"\u001b[39m\n",
      "\u001b[1;31mAssertionError\u001b[0m: Variables eggs and bacon should not contain the same string."
     ]
    }
   ],
   "source": [
    "eggs = \"Hello\"\n",
    "bacon = \"HELLO\"\n",
    "\n",
    "assert eggs.lower() != bacon.lower(), \"Variables eggs and bacon should not contain the same string.\"\n"
   ]
  },
  {
   "cell_type": "markdown",
   "id": "6c2e5cc6",
   "metadata": {},
   "source": [
    "In this example, the lower() method is used to convert both eggs and bacon to lowercase before the comparison is made. If the lowercase versions of the strings are equal, the assert statement will trigger an AssertionError with the specified error message: \"Variables eggs and bacon should not contain the same string.\""
   ]
  },
  {
   "cell_type": "markdown",
   "id": "fe44d74b",
   "metadata": {},
   "source": [
    "3. Create an assert statement that throws an AssertionError every time.\n",
    "Ans:\n"
   ]
  },
  {
   "cell_type": "code",
   "execution_count": 5,
   "id": "3152d1cd",
   "metadata": {},
   "outputs": [
    {
     "ename": "AssertionError",
     "evalue": "This assert statement always throws an AssertionError.",
     "output_type": "error",
     "traceback": [
      "\u001b[1;31m---------------------------------------------------------------------------\u001b[0m",
      "\u001b[1;31mAssertionError\u001b[0m                            Traceback (most recent call last)",
      "Input \u001b[1;32mIn [5]\u001b[0m, in \u001b[0;36m<cell line: 1>\u001b[1;34m()\u001b[0m\n\u001b[1;32m----> 1\u001b[0m \u001b[38;5;28;01massert\u001b[39;00m \u001b[38;5;28;01mFalse\u001b[39;00m, \u001b[38;5;124m\"\u001b[39m\u001b[38;5;124mThis assert statement always throws an AssertionError.\u001b[39m\u001b[38;5;124m\"\u001b[39m\n",
      "\u001b[1;31mAssertionError\u001b[0m: This assert statement always throws an AssertionError."
     ]
    }
   ],
   "source": [
    "assert False, \"This assert statement always throws an AssertionError.\"\n"
   ]
  },
  {
   "cell_type": "markdown",
   "id": "680bc923",
   "metadata": {},
   "source": [
    "In this case, the condition False is always false, so the assert statement will always raise an AssertionError. The specified error message, \"This assert statement always throws an AssertionError,\" will be displayed along with the exception."
   ]
  },
  {
   "cell_type": "markdown",
   "id": "0049b3f8",
   "metadata": {},
   "source": [
    "4. What are the two lines that must be present in your software in order to call logging.debug()?\n",
    "Ans:\n"
   ]
  },
  {
   "cell_type": "code",
   "execution_count": 6,
   "id": "f7e8e4c2",
   "metadata": {},
   "outputs": [],
   "source": [
    "import logging\n",
    "logging.basicConfig(level=logging.DEBUG)"
   ]
  },
  {
   "cell_type": "markdown",
   "id": "382c776e",
   "metadata": {},
   "source": [
    "The first line imports the logging module, which provides the functionality for logging in Python. The second line sets up the logging configuration using the basicConfig() function from the logging module. In this example, we set the logging level to DEBUG, which allows logging.debug() statements to be captured and logged.\n",
    "\n",
    "By including these two lines in your software, you can call logging.debug() statements to log debug-level messages during program execution."
   ]
  },
  {
   "cell_type": "markdown",
   "id": "90e8764c",
   "metadata": {},
   "source": [
    "5. What are the two lines that your program must have in order to have logging.debug() send a logging message to a file named programLog.txt?"
   ]
  },
  {
   "cell_type": "code",
   "execution_count": 7,
   "id": "79b254de",
   "metadata": {},
   "outputs": [],
   "source": [
    "import logging\n",
    "\n",
    "logging.basicConfig(filename='programLog.txt', level=logging.DEBUG)"
   ]
  },
  {
   "cell_type": "markdown",
   "id": "2f90230c",
   "metadata": {},
   "source": [
    "The first line imports the logging module, and the second line sets up the logging configuration using the basicConfig() function from the logging module. In this example, we provide the filename parameter with the value 'programLog.txt', which specifies the name of the file where the log messages will be written.\n",
    "\n",
    "By including these two lines in your program, you can call logging.debug() statements, and the debug-level messages will be written to the \"programLog.txt\" file."
   ]
  },
  {
   "cell_type": "markdown",
   "id": "f800b13e",
   "metadata": {},
   "source": [
    "6. What are the five levels of logging?\n",
    "Ans:\n",
    "The five levels of logging in Python, in increasing order of severity, are:\n",
    "\n",
    "DEBUG: Detailed information, typically used for diagnosing problems during development or troubleshooting.\n",
    "INFO: General information about the program's execution, providing a higher-level overview.\n",
    "WARNING: Indicates a potential issue or situation that could cause problems in the future, but the program can still continue.\n",
    "ERROR: Indicates a more severe issue or error that caused a specific operation to fail.\n",
    "CRITICAL: The highest level of severity, representing a critical error or failure that may result in the termination of the program."
   ]
  },
  {
   "cell_type": "markdown",
   "id": "422959fe",
   "metadata": {},
   "source": [
    "7. What line of code would you add to your software to disable all logging messages?\n",
    "Ans:\n",
    "logging.disable(logging.CRITICAL)\n",
    "\n",
    "This line of code uses the disable() function from the logging module and sets the logging level to CRITICAL, which is the highest level of severity. By doing so, all log messages with a severity level lower than or equal to CRITICAL will be suppressed and not displayed or logged.\n",
    "\n",
    "Adding this line of code will effectively disable all logging messages in your software, allowing you to silence the logging output when needed."
   ]
  },
  {
   "cell_type": "markdown",
   "id": "1e55c13e",
   "metadata": {},
   "source": [
    "8.Why is using logging messages better than using print() to display the same message?\n",
    "Ans:\n",
    "Configurability: Logging provides a more flexible and configurable way to handle messages. You can easily configure the logging level to control which messages are displayed or logged based on their severity. This allows you to toggle the verbosity of logging messages without modifying the code. With print(), you would need to manually add or remove statements.\n",
    "\n",
    "Logging Levels: Logging offers different levels (e.g., debug, info, warning, error, critical) that allow you to categorize and prioritize messages based on their importance and severity. It enables you to selectively enable or disable specific levels of messages during runtime for debugging or production purposes. print() statements lack this level of granularity.\n",
    "\n",
    "Output Streams: Logging allows you to direct messages to various output streams, such as the console, files, or even network sockets. This flexibility is useful for capturing and storing log information for later analysis, monitoring, or debugging, without cluttering the program's primary output. print() statements are limited to writing messages to the console or standard output.\n",
    "\n",
    "Granular Control: With logging, you can configure different loggers and handlers to direct messages to different destinations or formats based on various criteria. This allows you to separate and categorize log messages based on their sources, modules, or components. print() statements lack this level of granular control.\n",
    "\n",
    "Performance Impact: Logging statements can be selectively enabled or disabled based on the logging level. In production environments, when debug-level messages are disabled, logging has minimal performance impact compared to print() statements, which are typically removed manually."
   ]
  },
  {
   "cell_type": "markdown",
   "id": "95f2a91d",
   "metadata": {},
   "source": [
    "9. What are the differences between the Step Over, Step In, and Step Out buttons in the debugger?\n",
    "Ans:\n",
    "\n",
    "Step Over: The Step Over button allows you to execute the current line of code and move to the next line in a single step. If the line contains a function call, it will execute the entire function without stepping into it, effectively \"stepping over\" the function and treating it as a single step. This is useful for quickly moving through a block of code or skipping over function calls when you're not interested in debugging their internal details.\n",
    "\n",
    "\n",
    "Step In: The Step In button allows you to dive into the execution of a function or method call. When you encounter a function call while debugging, clicking Step In will take you inside that function, allowing you to step through each line of code within that function. This is helpful for examining the behavior and variables within the function and understanding its internal execution.\n",
    "\n",
    "\n",
    "Step Out: The Step Out button is used to quickly navigate out of the current function or method being debugged. If you are currently debugging within a function and want to return to the calling code, clicking Step Out will execute the remaining lines of the current function and return control to the line immediately after the function call. It allows you to skip over the remaining lines of the current function and focus on the higher-level code"
   ]
  },
  {
   "cell_type": "markdown",
   "id": "94908084",
   "metadata": {},
   "source": [
    "10.After you click Continue, when will the debugger stop ?\n",
    "\n",
    "Ans:\n",
    "Breakpoint: If there is a breakpoint set at a specific line of code, the debugger will stop when it reaches that breakpoint. Breakpoints allow you to pause the execution of the program at specific locations and examine the state of variables and the program flow.\n",
    "\n",
    "Exception: If an exception is raised during program execution and it is not handled, the debugger will stop when the exception is raised. This allows you to investigate the exception and analyze the state of the program at the point of the exception.\n",
    "\n",
    "Program Completion: The debugger will stop when the program execution completes successfully, reaching the end of the script or the main execution point.\n",
    "\n",
    "External Signal: In some cases, the debugger can be configured to stop based on external signals or events, such as receiving a specific signal from the operating system or a specific condition being met."
   ]
  },
  {
   "cell_type": "markdown",
   "id": "12c12dd4",
   "metadata": {},
   "source": [
    "11. What is the concept of a breakpoint?\n",
    "Ans:\n",
    "\n",
    "Breakpoint is a specific point in the source code where you want the debugger to pause or stop the execution of the program. It allows you to temporarily halt the program's execution at that point and examine the program's state, including variables, data structures, and the program flow, to understand and debug issues effectively."
   ]
  },
  {
   "cell_type": "code",
   "execution_count": null,
   "id": "2f7351bd",
   "metadata": {},
   "outputs": [],
   "source": []
  }
 ],
 "metadata": {
  "kernelspec": {
   "display_name": "Python 3 (ipykernel)",
   "language": "python",
   "name": "python3"
  },
  "language_info": {
   "codemirror_mode": {
    "name": "ipython",
    "version": 3
   },
   "file_extension": ".py",
   "mimetype": "text/x-python",
   "name": "python",
   "nbconvert_exporter": "python",
   "pygments_lexer": "ipython3",
   "version": "3.9.12"
  }
 },
 "nbformat": 4,
 "nbformat_minor": 5
}
