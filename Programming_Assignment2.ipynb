{
 "cells": [
  {
   "cell_type": "code",
   "execution_count": 3,
   "id": "3b9add3d",
   "metadata": {},
   "outputs": [
    {
     "name": "stdout",
     "output_type": "stream",
     "text": [
      "Value in Km: 23\n",
      "Km to miles : 14.291533\n"
     ]
    }
   ],
   "source": [
    "#1 Write a Python program to convert kilometers to miles?\n",
    "\n",
    "#input values in Km\n",
    "km=float(input('Value in Km: '))\n",
    "\n",
    "#km to miles conversion\n",
    "miles = km*0.621371\n",
    "\n",
    "#display miles\n",
    "print(\"Km to miles :\", miles)"
   ]
  },
  {
   "cell_type": "code",
   "execution_count": 7,
   "id": "7c974520",
   "metadata": {},
   "outputs": [
    {
     "name": "stdout",
     "output_type": "stream",
     "text": [
      "Value in Celcius: 23\n",
      "Celcius to Faherheit : 73.4\n"
     ]
    }
   ],
   "source": [
    "#2 Write a Python program to convert Celsius to Fahrenheit?\n",
    "\n",
    "#input values you want to convert\n",
    "cl=float(input('Value in Celcius: '))\n",
    "\n",
    "#conversion\n",
    "fh = (cl* 9/5) + 32\n",
    "\n",
    "#display\n",
    "print(\"Celcius to Faherheit :\", fh)"
   ]
  },
  {
   "cell_type": "code",
   "execution_count": 14,
   "id": "64cfeed4",
   "metadata": {},
   "outputs": [
    {
     "name": "stdout",
     "output_type": "stream",
     "text": [
      "Enter year: 1996\n",
      "Enter month: 3\n",
      "     March 1996\n",
      "Mo Tu We Th Fr Sa Su\n",
      "             1  2  3\n",
      " 4  5  6  7  8  9 10\n",
      "11 12 13 14 15 16 17\n",
      "18 19 20 21 22 23 24\n",
      "25 26 27 28 29 30 31\n",
      "\n"
     ]
    }
   ],
   "source": [
    "3 Write a Python program to display calendar?\n",
    "\n",
    "#import calander module\n",
    "import calendar\n",
    "\n",
    "#input date\n",
    "yy = int(input(\"Enter year: \"))\n",
    "mm = int(input(\"Enter month: \"))\n",
    "\n",
    "#display\n",
    "print(calendar.month(yy,mm))  "
   ]
  },
  {
   "cell_type": "code",
   "execution_count": 18,
   "id": "a0213efe",
   "metadata": {},
   "outputs": [
    {
     "name": "stdout",
     "output_type": "stream",
     "text": [
      "Input the constant of x^2: 1\n",
      "Input the constant of x: 5\n",
      "Input the constant c: 6\n",
      "The values of x1 & x2 are:  -2.0 -3.0 respectively\n"
     ]
    }
   ],
   "source": [
    "#4 Write a Python program to solve quadratic equation?\n",
    "\n",
    "#input values of quadratic equation\n",
    "a=float(input(\"Input the constant of x^2: \"))\n",
    "b=float(input(\"Input the constant of x: \"))\n",
    "c=float(input(\"Input the constant c: \"))\n",
    "\n",
    "#calculation of values\n",
    "x1 = (-b + ((b*b)-(4*a*c))**0.5)/(2*a)\n",
    "x2 = (-b - ((b*b)-(4*a*c))**0.5)/(2*a)\n",
    "\n",
    "#display\n",
    "print(\"The values of x1 & x2 are: \",x1, x2, \"respectively\" )"
   ]
  },
  {
   "cell_type": "code",
   "execution_count": 2,
   "id": "6d4da67d",
   "metadata": {},
   "outputs": [
    {
     "name": "stdout",
     "output_type": "stream",
     "text": [
      "input a variable a :23\n",
      "input a variable b :12\n",
      "the after swapping numbers a & b are: 12 23 respectively\n"
     ]
    }
   ],
   "source": [
    "#5 Write a Python program to swap two variables without temp variable?\n",
    "\n",
    "#input two valiables\n",
    "a=input('input a variable a :')\n",
    "b=input('input a variable b :')\n",
    "\n",
    "#swapping\n",
    "a,b = b,a\n",
    "\n",
    "#display\n",
    "print('the after swapping numbers a & b are:', a, b,'respectively')\n",
    "\n",
    "\n"
   ]
  },
  {
   "cell_type": "code",
   "execution_count": null,
   "id": "a4c62868",
   "metadata": {},
   "outputs": [],
   "source": []
  }
 ],
 "metadata": {
  "kernelspec": {
   "display_name": "Python 3 (ipykernel)",
   "language": "python",
   "name": "python3"
  },
  "language_info": {
   "codemirror_mode": {
    "name": "ipython",
    "version": 3
   },
   "file_extension": ".py",
   "mimetype": "text/x-python",
   "name": "python",
   "nbconvert_exporter": "python",
   "pygments_lexer": "ipython3",
   "version": "3.9.12"
  }
 },
 "nbformat": 4,
 "nbformat_minor": 5
}
