{
 "cells": [
  {
   "cell_type": "markdown",
   "id": "bb31729e",
   "metadata": {},
   "source": [
    "1. To what does a relative path refer?\n",
    "Ans:\n",
    "A relative path refers to the location of a file or directory relative to the current working directory or another reference point. It specifies the path to a file or directory based on its relationship to the current location in the file system."
   ]
  },
  {
   "cell_type": "markdown",
   "id": "3dbffabb",
   "metadata": {},
   "source": [
    "2. What does an absolute path start with your operating system?\n",
    "Ans:\n",
    "An absolute path starts with the root directory of the operating system. The root directory is the topmost directory in the file system hierarchy and serves as the starting point for specifying the complete path to a file or directory.\n",
    "\n",
    "The absolute path provides the full and unambiguous location of a file or directory in the file system, starting from the root directory. Absolute paths are independent of the current working directory and provide an exact reference to a file or directory regardless of the context."
   ]
  },
  {
   "cell_type": "markdown",
   "id": "24906afc",
   "metadata": {},
   "source": [
    "3. What do the functions os.getcwd() and os.chdir() do?\n",
    "Ans:\n",
    "os.getcwd(): This function returns a string representing the current working directory. The current working directory is the directory in the file system from which the Python script or program is currently being executed.\n",
    "\n",
    "os.chdir(path): This function changes the current working directory to the specified path."
   ]
  },
  {
   "cell_type": "markdown",
   "id": "84d679f3",
   "metadata": {},
   "source": [
    "4. What are the . and .. folders?\n",
    "Ans:\n",
    "In file systems, the . and .. folders are special notations representing the current directory and the parent directory, respectively.\n",
    ". (dot): The . folder represents the current directory. It is used to refer to the current location or directory in the file system hierarchy. It is often used in file paths to indicate the current directory as the starting point.\n",
    ".. (dot-dot): The .. folder represents the parent directory. It is used to refer to the directory immediately above the current directory in the file system hierarchy. It allows accessing files or directories in the parent directory."
   ]
  },
  {
   "cell_type": "markdown",
   "id": "514a8911",
   "metadata": {},
   "source": [
    "5. In C:\\bacon\\eggs\\spam.txt, which part is the dir name, and which part is the base name?\n",
    "Ans:\n",
    "Directory Name: C:\\bacon\\eggs\n",
    "Base Name: spam.txt"
   ]
  },
  {
   "cell_type": "markdown",
   "id": "f9b16251",
   "metadata": {},
   "source": [
    "6. What are the three “mode” arguments that can be passed to the open() function?\n",
    "Ans:\n",
    "The three common mode arguments are:\n",
    "'r' (Read Mode): This is the default mode when no mode argument is provided. It opens the file for reading only\n",
    "'w' (Write Mode): This mode is used to open a file for writing. It creates a new file if it doesn't exist, or truncates the existing file to zero length. Any existing content in the file is overwritten.\n",
    "'a' (Append Mode): This mode is used to open a file for appending data. It creates a new file if it doesn't exist. The file pointer is positioned at the end of the file, so any new data written will be added to the existing content. It does not truncate the file."
   ]
  },
  {
   "cell_type": "markdown",
   "id": "9571f1bc",
   "metadata": {},
   "source": [
    "7. What happens if an existing file is opened in write mode?\n",
    "Ans:\n",
    "If an existing file is opened in write mode ('w') using the open() function in Python, the following happens:\n",
    "\n",
    "If the file already exists, it is truncated to zero length, meaning that all existing content in the file is deleted.\n",
    "The file is opened for writing, allowing you to write new content to the file.\n",
    "If the file does not exist, a new file with the specified name is created."
   ]
  },
  {
   "cell_type": "markdown",
   "id": "f2302158",
   "metadata": {},
   "source": [
    "8. How do you tell the difference between read() and readlines()?\n",
    "Ans:\n",
    "read() returns the entire content of the file as a single string.\n",
    "readlines() returns the lines of the file as a list of strings, with each line as a separate element."
   ]
  },
  {
   "cell_type": "markdown",
   "id": "217d754f",
   "metadata": {},
   "source": [
    "9. What data structure does a shelf value resemble?\n",
    "Ans:\n",
    "a shelf value in Python resembles a dictionary-like data structure, providing a way to store and retrieve key-value pairs persistently to disk."
   ]
  },
  {
   "cell_type": "code",
   "execution_count": null,
   "id": "bacb378d",
   "metadata": {},
   "outputs": [],
   "source": []
  }
 ],
 "metadata": {
  "kernelspec": {
   "display_name": "Python 3 (ipykernel)",
   "language": "python",
   "name": "python3"
  },
  "language_info": {
   "codemirror_mode": {
    "name": "ipython",
    "version": 3
   },
   "file_extension": ".py",
   "mimetype": "text/x-python",
   "name": "python",
   "nbconvert_exporter": "python",
   "pygments_lexer": "ipython3",
   "version": "3.9.12"
  }
 },
 "nbformat": 4,
 "nbformat_minor": 5
}
