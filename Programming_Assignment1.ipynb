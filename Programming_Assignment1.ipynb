{
 "cells": [
  {
   "cell_type": "code",
   "execution_count": 2,
   "id": "8d7bfdb1",
   "metadata": {},
   "outputs": [
    {
     "name": "stdout",
     "output_type": "stream",
     "text": [
      "Hello Python\n"
     ]
    }
   ],
   "source": [
    "#1.Write a Python program to print \"Hello Python\"?\n",
    "\n",
    "print(\"Hello Python\")"
   ]
  },
  {
   "cell_type": "code",
   "execution_count": 13,
   "id": "5aca8363",
   "metadata": {},
   "outputs": [
    {
     "name": "stdout",
     "output_type": "stream",
     "text": [
      "Enter first number: 12\n",
      "Enter second number: 24\n",
      "The addition and division of 12.0 & 24.0 is 36.0 & 0.5 respectively\n"
     ]
    }
   ],
   "source": [
    "#2.Write a Python program to do arithmetical operations addition and division.?\n",
    "\n",
    "input1 = float(input(\"Enter first number: \"))\n",
    "input2 = float(input(\"Enter second number: \"))\n",
    "\n",
    "#addition\n",
    "\n",
    "add = (input1) + (input2)\n",
    "\n",
    "#division\n",
    "\n",
    "div = (input1)/(input2)\n",
    "\n",
    "#display\n",
    "print('The addition and division of', input1, '&', input2, 'is', add, '&', div,'respectively')\n"
   ]
  },
  {
   "cell_type": "code",
   "execution_count": 42,
   "id": "d3d19232",
   "metadata": {},
   "outputs": [
    {
     "name": "stdout",
     "output_type": "stream",
     "text": [
      "Enter first side: 4\n",
      "Enter second side: 3\n",
      "Enter third side: 5\n",
      "The area of triangle with sides 4.0 , 3.0 & 5.0 is 6.0\n"
     ]
    }
   ],
   "source": [
    "#3.Write a Python program to find the area of a triangle?\n",
    "\n",
    "#input 3 sides of triangle a,b,c\n",
    "a = float(input(\"Enter first side: \"))\n",
    "b = float(input(\"Enter second side: \"))\n",
    "c = float(input(\"Enter third side: \"))\n",
    "\n",
    "#semiperimeter s\n",
    "\n",
    "s =( a + b + c)/2\n",
    "\n",
    "#calculate area Area\n",
    "\n",
    "Area = (s*(s-a)*(s-b)*(s-c))**0.5\n",
    "\n",
    "#display area\n",
    "print('The area of triangle with sides', a,\",\", b,'&', c, 'is', Area)"
   ]
  },
  {
   "cell_type": "code",
   "execution_count": 31,
   "id": "39d143a4",
   "metadata": {},
   "outputs": [
    {
     "name": "stdout",
     "output_type": "stream",
     "text": [
      "Enter value of x: qe\n",
      "Enter value of y: qwe\n",
      "The value of x after swapping: qwe\n",
      "The value of y after swapping: qe\n"
     ]
    }
   ],
   "source": [
    "#4.Write a Python program to swap two variables?\n",
    "\n",
    "#input 2 variables\n",
    "x = input(\"Enter value of x: \")\n",
    "y = input(\"Enter value of y: \")\n",
    "\n",
    "#create a temporaty variable to swap values\n",
    "temp = x\n",
    "x=y\n",
    "y=temp\n",
    "\n",
    "print('The value of x after swapping: {}'.format(x))\n",
    "print('The value of y after swapping: {}'.format(y))"
   ]
  },
  {
   "cell_type": "code",
   "execution_count": 41,
   "id": "5d955c09",
   "metadata": {},
   "outputs": [
    {
     "name": "stdout",
     "output_type": "stream",
     "text": [
      "94918\n"
     ]
    }
   ],
   "source": [
    "#5.Write a Python program to generate a random number?\n",
    "\n",
    "import random\n",
    "num = random.randint(0,100000)\n",
    "print(num)"
   ]
  },
  {
   "cell_type": "code",
   "execution_count": null,
   "id": "e43b31db",
   "metadata": {},
   "outputs": [],
   "source": []
  }
 ],
 "metadata": {
  "kernelspec": {
   "display_name": "Python 3 (ipykernel)",
   "language": "python",
   "name": "python3"
  },
  "language_info": {
   "codemirror_mode": {
    "name": "ipython",
    "version": 3
   },
   "file_extension": ".py",
   "mimetype": "text/x-python",
   "name": "python",
   "nbconvert_exporter": "python",
   "pygments_lexer": "ipython3",
   "version": "3.9.12"
  }
 },
 "nbformat": 4,
 "nbformat_minor": 5
}
