{
 "cells": [
  {
   "cell_type": "code",
   "execution_count": null,
   "id": "876401c7",
   "metadata": {},
   "outputs": [],
   "source": [
    "##Q1 1. Write a Python Program to Display Fibonacci Sequence Using Recursion?\n",
    "def fibonacci(n):\n",
    "    if n <= 0:\n",
    "        return []\n",
    "    elif n == 1:\n",
    "        return [0]\n",
    "    elif n == 2:\n",
    "        return [0, 1]\n",
    "    else:\n",
    "        fib_sequence = fibonacci(n - 1)\n",
    "        fib_sequence.append(fib_sequence[-1] + fib_sequence[-2])\n",
    "        return fib_sequence\n",
    "\n",
    "n = int(input(\"Enter the number of terms: \"))\n",
    "fib_sequence = fibonacci(n)\n",
    "print(\"Fibonacci Sequence:\")\n",
    "for num in fib_sequence:\n",
    "    print(num, end=' ')\n"
   ]
  },
  {
   "cell_type": "code",
   "execution_count": null,
   "id": "07641033",
   "metadata": {},
   "outputs": [],
   "source": [
    "##Q2 Write a Python Program to Find Factorial of Number Using Recursion?\n",
    "def factorial(n):\n",
    "    if n == 0:\n",
    "        return 1\n",
    "    else:\n",
    "        return n * factorial(n - 1)\n",
    "\n",
    "num = int(input(\"Enter a number: \"))\n",
    "if num < 0:\n",
    "    print(\"Factorial is not defined for negative numbers.\")\n",
    "else:\n",
    "    result = factorial(num)\n",
    "    print(\"Factorial of\", num, \"is\", result)\n"
   ]
  },
  {
   "cell_type": "code",
   "execution_count": null,
   "id": "97ce0e08",
   "metadata": {},
   "outputs": [],
   "source": [
    "##Q3 Write a Python Program to calculate your Body Mass Index?\n",
    "\n",
    "def calculate_bmi(weight, height):\n",
    "    bmi = weight / (height ** 2)\n",
    "    return bmi\n",
    "\n",
    "weight = float(input(\"Enter your weight in kilograms: \"))\n",
    "height = float(input(\"Enter your height in meters: \"))\n",
    "\n",
    "bmi = calculate_bmi(weight, height)\n",
    "print(\"Your BMI is:\", bmi)\n"
   ]
  },
  {
   "cell_type": "code",
   "execution_count": null,
   "id": "864c4fca",
   "metadata": {},
   "outputs": [],
   "source": [
    "##Q4 Write a Python Program to calculate the natural logarithm of any number?\n",
    "\n",
    "import math\n",
    "\n",
    "num = float(input(\"Enter a number: \"))\n",
    "if num <= 0:\n",
    "    print(\"Natural logarithm is not defined for non-positive numbers.\")\n",
    "else:\n",
    "    result = math.log(num)\n",
    "    print(\"Natural logarithm of\", num, \"is\", result)\n"
   ]
  },
  {
   "cell_type": "code",
   "execution_count": null,
   "id": "2a2fdcb6",
   "metadata": {},
   "outputs": [],
   "source": [
    "##Q5 Write a Python Program for cube sum of first n natural numbers?\n",
    "\n",
    "def cube_sum_natural_numbers(n):\n",
    "    if n <= 0:\n",
    "        return 0\n",
    "    else:\n",
    "        return (n ** 3) + cube_sum_natural_numbers(n - 1)\n",
    "\n",
    "n = int(input(\"Enter the value of n: \"))\n",
    "result = cube_sum_natural_numbers(n)\n",
    "print(\"Cube sum of the first\", n, \"natural numbers is\", result)\n"
   ]
  },
  {
   "cell_type": "code",
   "execution_count": null,
   "id": "1094db7b",
   "metadata": {},
   "outputs": [],
   "source": []
  }
 ],
 "metadata": {
  "kernelspec": {
   "display_name": "Python 3 (ipykernel)",
   "language": "python",
   "name": "python3"
  },
  "language_info": {
   "codemirror_mode": {
    "name": "ipython",
    "version": 3
   },
   "file_extension": ".py",
   "mimetype": "text/x-python",
   "name": "python",
   "nbconvert_exporter": "python",
   "pygments_lexer": "ipython3",
   "version": "3.10.9"
  }
 },
 "nbformat": 4,
 "nbformat_minor": 5
}
