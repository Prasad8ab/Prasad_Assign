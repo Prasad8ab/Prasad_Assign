{
 "cells": [
  {
   "cell_type": "markdown",
   "id": "dd4d5ef2",
   "metadata": {},
   "source": [
    "Q1. In Python 3.X, what are the names and functions of string object types?\n",
    "In Python 3.X, there is only one string object type, str. This type represents Unicode strings, which can contain any character from any language. In Python 2.X, there were two string object types: str and unicode. str strings were ASCII strings, while unicode strings were Unicode strings.\n",
    "\n",
    "Q2. How do the string forms in Python 3.X vary in terms of operations?\n",
    "In Python 3.X, all string operations work on Unicode strings. This means that you can use any character in a string, regardless of its language. In Python 2.X, you could only use ASCII characters in str strings.\n",
    "\n",
    "Q3. In 3.X, how do you put non-ASCII Unicode characters in a string?\n",
    "To put non-ASCII Unicode characters in a string in Python 3.X, you can use the u prefix. For example, the following code creates a string that contains the non-ASCII character \"é\":\n",
    "\n",
    " u'é'\n",
    " \n",
    "Q4. In Python 3.X, what are the key differences between text-mode and binary-mode files?\n",
    "Text-mode files are used to read and write text, while binary-mode files are used to read and write binary data. Text-mode files use the platform's default encoding to convert between bytes and characters. Binary-mode files do not use any encoding.\n",
    "\n",
    "Q5. How can you interpret a Unicode text file containing text encoded in a different encoding than your platform's default?\n",
    "To interpret a Unicode text file containing text encoded in a different encoding than your platform's default, you can use the io module. The io module provides a number of classes that can be used to read and write text files in different encodings.\n",
    "\n",
    "Q6. What is the best way to make a Unicode text file in a particular encoding format?\n",
    "The best way to make a Unicode text file in a particular encoding format is to use the io module. The io module provides a number of functions that can be used to write text files in different encodings.\n",
    "\n",
    "Q7. What qualifies ASCII text as a form of Unicode text?\n",
    "ASCII text is a form of Unicode text because it can be represented as a subset of Unicode. All ASCII characters are also Unicode characters.\n",
    "\n",
    "Q8. How much of an effect does the change in string types in Python 3.X have on your code?\n",
    "The change in string types in Python 3.X has a significant effect on your code if you were using unicode strings in Python 2.X. In Python 3.X, all strings are str strings, so you will need to make sure that your code can handle Unicode strings.\n",
    "\n"
   ]
  }
 ],
 "metadata": {
  "kernelspec": {
   "display_name": "Python 3 (ipykernel)",
   "language": "python",
   "name": "python3"
  },
  "language_info": {
   "codemirror_mode": {
    "name": "ipython",
    "version": 3
   },
   "file_extension": ".py",
   "mimetype": "text/x-python",
   "name": "python",
   "nbconvert_exporter": "python",
   "pygments_lexer": "ipython3",
   "version": "3.9.12"
  }
 },
 "nbformat": 4,
 "nbformat_minor": 5
}
